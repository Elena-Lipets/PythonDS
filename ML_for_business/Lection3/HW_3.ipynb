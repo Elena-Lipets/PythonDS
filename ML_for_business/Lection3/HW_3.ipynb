{
 "cells": [
  {
   "cell_type": "code",
   "execution_count": 1,
   "id": "e7448bde",
   "metadata": {},
   "outputs": [],
   "source": [
    "import pandas as pd\n",
    "import numpy as np\n",
    "import matplotlib.pyplot as plt\n",
    "from sklearn.ensemble import AdaBoostClassifier, RandomForestClassifier\n",
    "from sklearn.neighbors import KNeighborsClassifier\n",
    "from sklearn.linear_model import LogisticRegression\n",
    "\n",
    "from sklearn.model_selection import cross_val_score, train_test_split\n",
    "from sklearn.metrics import precision_recall_curve, roc_curve, roc_auc_score\n",
    "\n",
    "from sklearn.pipeline import Pipeline, make_pipeline\n",
    "from sklearn.base import BaseEstimator, TransformerMixin"
   ]
  },
  {
   "cell_type": "code",
   "execution_count": 2,
   "id": "ebeab7cb",
   "metadata": {},
   "outputs": [],
   "source": [
    "from sklearn.preprocessing import StandardScaler"
   ]
  },
  {
   "cell_type": "code",
   "execution_count": 3,
   "id": "f81abbfb",
   "metadata": {},
   "outputs": [],
   "source": [
    "from sklearn.pipeline import FeatureUnion"
   ]
  },
  {
   "cell_type": "code",
   "execution_count": 4,
   "id": "ced1e6ac",
   "metadata": {},
   "outputs": [
    {
     "data": {
      "text/html": [
       "<div>\n",
       "<style scoped>\n",
       "    .dataframe tbody tr th:only-of-type {\n",
       "        vertical-align: middle;\n",
       "    }\n",
       "\n",
       "    .dataframe tbody tr th {\n",
       "        vertical-align: top;\n",
       "    }\n",
       "\n",
       "    .dataframe thead th {\n",
       "        text-align: right;\n",
       "    }\n",
       "</style>\n",
       "<table border=\"1\" class=\"dataframe\">\n",
       "  <thead>\n",
       "    <tr style=\"text-align: right;\">\n",
       "      <th></th>\n",
       "      <th>id</th>\n",
       "      <th>age</th>\n",
       "      <th>gender</th>\n",
       "      <th>height</th>\n",
       "      <th>weight</th>\n",
       "      <th>ap_hi</th>\n",
       "      <th>ap_lo</th>\n",
       "      <th>cholesterol</th>\n",
       "      <th>gluc</th>\n",
       "      <th>smoke</th>\n",
       "      <th>alco</th>\n",
       "      <th>active</th>\n",
       "      <th>cardio</th>\n",
       "    </tr>\n",
       "  </thead>\n",
       "  <tbody>\n",
       "    <tr>\n",
       "      <th>0</th>\n",
       "      <td>0</td>\n",
       "      <td>18393</td>\n",
       "      <td>2</td>\n",
       "      <td>168</td>\n",
       "      <td>62.0</td>\n",
       "      <td>110</td>\n",
       "      <td>80</td>\n",
       "      <td>1</td>\n",
       "      <td>1</td>\n",
       "      <td>0</td>\n",
       "      <td>0</td>\n",
       "      <td>1</td>\n",
       "      <td>0</td>\n",
       "    </tr>\n",
       "    <tr>\n",
       "      <th>1</th>\n",
       "      <td>1</td>\n",
       "      <td>20228</td>\n",
       "      <td>1</td>\n",
       "      <td>156</td>\n",
       "      <td>85.0</td>\n",
       "      <td>140</td>\n",
       "      <td>90</td>\n",
       "      <td>3</td>\n",
       "      <td>1</td>\n",
       "      <td>0</td>\n",
       "      <td>0</td>\n",
       "      <td>1</td>\n",
       "      <td>1</td>\n",
       "    </tr>\n",
       "    <tr>\n",
       "      <th>2</th>\n",
       "      <td>2</td>\n",
       "      <td>18857</td>\n",
       "      <td>1</td>\n",
       "      <td>165</td>\n",
       "      <td>64.0</td>\n",
       "      <td>130</td>\n",
       "      <td>70</td>\n",
       "      <td>3</td>\n",
       "      <td>1</td>\n",
       "      <td>0</td>\n",
       "      <td>0</td>\n",
       "      <td>0</td>\n",
       "      <td>1</td>\n",
       "    </tr>\n",
       "    <tr>\n",
       "      <th>3</th>\n",
       "      <td>3</td>\n",
       "      <td>17623</td>\n",
       "      <td>2</td>\n",
       "      <td>169</td>\n",
       "      <td>82.0</td>\n",
       "      <td>150</td>\n",
       "      <td>100</td>\n",
       "      <td>1</td>\n",
       "      <td>1</td>\n",
       "      <td>0</td>\n",
       "      <td>0</td>\n",
       "      <td>1</td>\n",
       "      <td>1</td>\n",
       "    </tr>\n",
       "    <tr>\n",
       "      <th>4</th>\n",
       "      <td>4</td>\n",
       "      <td>17474</td>\n",
       "      <td>1</td>\n",
       "      <td>156</td>\n",
       "      <td>56.0</td>\n",
       "      <td>100</td>\n",
       "      <td>60</td>\n",
       "      <td>1</td>\n",
       "      <td>1</td>\n",
       "      <td>0</td>\n",
       "      <td>0</td>\n",
       "      <td>0</td>\n",
       "      <td>0</td>\n",
       "    </tr>\n",
       "  </tbody>\n",
       "</table>\n",
       "</div>"
      ],
      "text/plain": [
       "   id    age  gender  height  weight  ap_hi  ap_lo  cholesterol  gluc  smoke  \\\n",
       "0   0  18393       2     168    62.0    110     80            1     1      0   \n",
       "1   1  20228       1     156    85.0    140     90            3     1      0   \n",
       "2   2  18857       1     165    64.0    130     70            3     1      0   \n",
       "3   3  17623       2     169    82.0    150    100            1     1      0   \n",
       "4   4  17474       1     156    56.0    100     60            1     1      0   \n",
       "\n",
       "   alco  active  cardio  \n",
       "0     0       1       0  \n",
       "1     0       1       1  \n",
       "2     0       0       1  \n",
       "3     0       1       1  \n",
       "4     0       0       0  "
      ]
     },
     "execution_count": 4,
     "metadata": {},
     "output_type": "execute_result"
    }
   ],
   "source": [
    "data = pd.read_csv(\"C:/Users/li_le/geekbrains_study/ML_business/train_case2.csv\", sep=';')\n",
    "data.head(5)"
   ]
  },
  {
   "cell_type": "code",
   "execution_count": 5,
   "id": "a3e7f6df",
   "metadata": {},
   "outputs": [
    {
     "name": "stdout",
     "output_type": "stream",
     "text": [
      "<class 'pandas.core.frame.DataFrame'>\n",
      "RangeIndex: 70000 entries, 0 to 69999\n",
      "Data columns (total 13 columns):\n",
      " #   Column       Non-Null Count  Dtype  \n",
      "---  ------       --------------  -----  \n",
      " 0   id           70000 non-null  int64  \n",
      " 1   age          70000 non-null  int64  \n",
      " 2   gender       70000 non-null  int64  \n",
      " 3   height       70000 non-null  int64  \n",
      " 4   weight       70000 non-null  float64\n",
      " 5   ap_hi        70000 non-null  int64  \n",
      " 6   ap_lo        70000 non-null  int64  \n",
      " 7   cholesterol  70000 non-null  int64  \n",
      " 8   gluc         70000 non-null  int64  \n",
      " 9   smoke        70000 non-null  int64  \n",
      " 10  alco         70000 non-null  int64  \n",
      " 11  active       70000 non-null  int64  \n",
      " 12  cardio       70000 non-null  int64  \n",
      "dtypes: float64(1), int64(12)\n",
      "memory usage: 6.9 MB\n"
     ]
    }
   ],
   "source": [
    "data.info()"
   ]
  },
  {
   "cell_type": "code",
   "execution_count": 6,
   "id": "3c096ce7",
   "metadata": {},
   "outputs": [
    {
     "data": {
      "text/plain": [
       "(70000, 13)"
      ]
     },
     "execution_count": 6,
     "metadata": {},
     "output_type": "execute_result"
    }
   ],
   "source": [
    "data.shape"
   ]
  },
  {
   "cell_type": "code",
   "execution_count": 7,
   "id": "93091e2a",
   "metadata": {},
   "outputs": [
    {
     "data": {
      "text/plain": [
       "0    0\n",
       "1    1\n",
       "2    1\n",
       "3    1\n",
       "4    0\n",
       "Name: cardio, dtype: int64"
      ]
     },
     "execution_count": 7,
     "metadata": {},
     "output_type": "execute_result"
    }
   ],
   "source": [
    "Y = data['cardio']\n",
    "Y.head()"
   ]
  },
  {
   "cell_type": "code",
   "execution_count": 8,
   "id": "53f19110",
   "metadata": {},
   "outputs": [
    {
     "data": {
      "text/plain": [
       "1    52385\n",
       "2     9549\n",
       "3     8066\n",
       "Name: cholesterol, dtype: int64"
      ]
     },
     "execution_count": 8,
     "metadata": {},
     "output_type": "execute_result"
    }
   ],
   "source": [
    "data['cholesterol'].value_counts()"
   ]
  },
  {
   "cell_type": "code",
   "execution_count": 9,
   "id": "231f7bc2",
   "metadata": {},
   "outputs": [
    {
     "data": {
      "text/plain": [
       "1    59479\n",
       "3     5331\n",
       "2     5190\n",
       "Name: gluc, dtype: int64"
      ]
     },
     "execution_count": 9,
     "metadata": {},
     "output_type": "execute_result"
    }
   ],
   "source": [
    "data['gluc'].value_counts()"
   ]
  },
  {
   "cell_type": "code",
   "execution_count": 10,
   "id": "eed53a03",
   "metadata": {},
   "outputs": [
    {
     "data": {
      "text/plain": [
       "1    45530\n",
       "2    24470\n",
       "Name: gender, dtype: int64"
      ]
     },
     "execution_count": 10,
     "metadata": {},
     "output_type": "execute_result"
    }
   ],
   "source": [
    "data['gender'].value_counts()\n"
   ]
  },
  {
   "cell_type": "code",
   "execution_count": 11,
   "id": "f6d57667",
   "metadata": {},
   "outputs": [
    {
     "data": {
      "text/html": [
       "<div>\n",
       "<style scoped>\n",
       "    .dataframe tbody tr th:only-of-type {\n",
       "        vertical-align: middle;\n",
       "    }\n",
       "\n",
       "    .dataframe tbody tr th {\n",
       "        vertical-align: top;\n",
       "    }\n",
       "\n",
       "    .dataframe thead th {\n",
       "        text-align: right;\n",
       "    }\n",
       "</style>\n",
       "<table border=\"1\" class=\"dataframe\">\n",
       "  <thead>\n",
       "    <tr style=\"text-align: right;\">\n",
       "      <th></th>\n",
       "      <th>age</th>\n",
       "      <th>gender</th>\n",
       "      <th>height</th>\n",
       "      <th>weight</th>\n",
       "      <th>ap_hi</th>\n",
       "      <th>ap_lo</th>\n",
       "      <th>cholesterol</th>\n",
       "      <th>gluc</th>\n",
       "      <th>smoke</th>\n",
       "      <th>alco</th>\n",
       "      <th>active</th>\n",
       "    </tr>\n",
       "  </thead>\n",
       "  <tbody>\n",
       "    <tr>\n",
       "      <th>0</th>\n",
       "      <td>18393</td>\n",
       "      <td>2</td>\n",
       "      <td>168</td>\n",
       "      <td>62.0</td>\n",
       "      <td>110</td>\n",
       "      <td>80</td>\n",
       "      <td>1</td>\n",
       "      <td>1</td>\n",
       "      <td>0</td>\n",
       "      <td>0</td>\n",
       "      <td>1</td>\n",
       "    </tr>\n",
       "    <tr>\n",
       "      <th>1</th>\n",
       "      <td>20228</td>\n",
       "      <td>1</td>\n",
       "      <td>156</td>\n",
       "      <td>85.0</td>\n",
       "      <td>140</td>\n",
       "      <td>90</td>\n",
       "      <td>3</td>\n",
       "      <td>1</td>\n",
       "      <td>0</td>\n",
       "      <td>0</td>\n",
       "      <td>1</td>\n",
       "    </tr>\n",
       "    <tr>\n",
       "      <th>2</th>\n",
       "      <td>18857</td>\n",
       "      <td>1</td>\n",
       "      <td>165</td>\n",
       "      <td>64.0</td>\n",
       "      <td>130</td>\n",
       "      <td>70</td>\n",
       "      <td>3</td>\n",
       "      <td>1</td>\n",
       "      <td>0</td>\n",
       "      <td>0</td>\n",
       "      <td>0</td>\n",
       "    </tr>\n",
       "    <tr>\n",
       "      <th>3</th>\n",
       "      <td>17623</td>\n",
       "      <td>2</td>\n",
       "      <td>169</td>\n",
       "      <td>82.0</td>\n",
       "      <td>150</td>\n",
       "      <td>100</td>\n",
       "      <td>1</td>\n",
       "      <td>1</td>\n",
       "      <td>0</td>\n",
       "      <td>0</td>\n",
       "      <td>1</td>\n",
       "    </tr>\n",
       "    <tr>\n",
       "      <th>4</th>\n",
       "      <td>17474</td>\n",
       "      <td>1</td>\n",
       "      <td>156</td>\n",
       "      <td>56.0</td>\n",
       "      <td>100</td>\n",
       "      <td>60</td>\n",
       "      <td>1</td>\n",
       "      <td>1</td>\n",
       "      <td>0</td>\n",
       "      <td>0</td>\n",
       "      <td>0</td>\n",
       "    </tr>\n",
       "  </tbody>\n",
       "</table>\n",
       "</div>"
      ],
      "text/plain": [
       "     age  gender  height  weight  ap_hi  ap_lo  cholesterol  gluc  smoke  \\\n",
       "0  18393       2     168    62.0    110     80            1     1      0   \n",
       "1  20228       1     156    85.0    140     90            3     1      0   \n",
       "2  18857       1     165    64.0    130     70            3     1      0   \n",
       "3  17623       2     169    82.0    150    100            1     1      0   \n",
       "4  17474       1     156    56.0    100     60            1     1      0   \n",
       "\n",
       "   alco  active  \n",
       "0     0       1  \n",
       "1     0       1  \n",
       "2     0       0  \n",
       "3     0       1  \n",
       "4     0       0  "
      ]
     },
     "execution_count": 11,
     "metadata": {},
     "output_type": "execute_result"
    }
   ],
   "source": [
    "X = data[data.columns.drop('cardio').drop('id')]\n",
    "X.head()"
   ]
  },
  {
   "cell_type": "code",
   "execution_count": 12,
   "id": "ad20ef81",
   "metadata": {},
   "outputs": [],
   "source": [
    "# temp = X['age']/365\n",
    "# temp.hist()"
   ]
  },
  {
   "cell_type": "code",
   "execution_count": 13,
   "id": "a49b59dd",
   "metadata": {},
   "outputs": [],
   "source": [
    "# def standard_scale(x):\n",
    "#     res = (x - x.mean(axis=0)) / x.std(axis=0)\n",
    "#     return res"
   ]
  },
  {
   "cell_type": "code",
   "execution_count": 14,
   "id": "09382f60",
   "metadata": {},
   "outputs": [],
   "source": [
    "# X[['age', 'height', 'weight', 'ap_hi', 'ap_lo']] = standard_scale(X[['age', 'height', 'weight', 'ap_hi', 'ap_lo']])\n",
    "# X.head()"
   ]
  },
  {
   "cell_type": "code",
   "execution_count": 15,
   "id": "efaba611",
   "metadata": {},
   "outputs": [],
   "source": [
    "x_train, x_test, y_train, y_test = train_test_split(X, Y, test_size=0.3, random_state=13)"
   ]
  },
  {
   "cell_type": "code",
   "execution_count": 18,
   "id": "673520bd",
   "metadata": {},
   "outputs": [
    {
     "data": {
      "text/plain": [
       "1    24528\n",
       "0    24472\n",
       "Name: cardio, dtype: int64"
      ]
     },
     "execution_count": 18,
     "metadata": {},
     "output_type": "execute_result"
    }
   ],
   "source": [
    "y_train.value_counts()"
   ]
  },
  {
   "cell_type": "code",
   "execution_count": 19,
   "id": "b404ca29",
   "metadata": {},
   "outputs": [
    {
     "data": {
      "text/plain": [
       "0    10549\n",
       "1    10451\n",
       "Name: cardio, dtype: int64"
      ]
     },
     "execution_count": 19,
     "metadata": {},
     "output_type": "execute_result"
    }
   ],
   "source": [
    "y_test.value_counts()"
   ]
  },
  {
   "cell_type": "code",
   "execution_count": 20,
   "id": "e9048945",
   "metadata": {},
   "outputs": [],
   "source": [
    "class FeatureSelector(BaseEstimator, TransformerMixin):\n",
    "    def __init__(self, column):\n",
    "        self.column = column\n",
    "        \n",
    "    def fit(self, X, y=None):\n",
    "        return self\n",
    "    \n",
    "    def transform(self, X, y=None):\n",
    "        return X[self.column]  \n",
    "    "
   ]
  },
  {
   "cell_type": "code",
   "execution_count": 21,
   "id": "fb236bc0",
   "metadata": {},
   "outputs": [],
   "source": [
    "cont_features = Pipeline([('selector', FeatureSelector(column=['age', 'height', 'weight', 'ap_hi', 'ap_lo'])),\n",
    "                          ('standard', StandardScaler())\n",
    "                         ])"
   ]
  },
  {
   "cell_type": "code",
   "execution_count": 22,
   "id": "1fc48a26",
   "metadata": {},
   "outputs": [],
   "source": [
    "# cont_features.fit_transform(x_train)"
   ]
  },
  {
   "cell_type": "code",
   "execution_count": 23,
   "id": "775da099",
   "metadata": {},
   "outputs": [],
   "source": [
    "class OHEEncoder(BaseEstimator, TransformerMixin):\n",
    "    def __init__(self, key):\n",
    "        self.key = key\n",
    "        self.columns = []\n",
    "\n",
    "    def fit(self, X, y=None):\n",
    "        self.columns = [col for col in pd.get_dummies(X, prefix=self.key, columns=self.key).columns]\n",
    "        return self\n",
    "\n",
    "    def transform(self, X):\n",
    "        X = pd.get_dummies(X, prefix=self.key, columns=self.key)\n",
    "        test_columns = [col for col in X.columns]\n",
    "        for col_ in test_columns:\n",
    "            if col_ not in self.columns:\n",
    "                X[col_] = 0\n",
    "        return X[self.columns]"
   ]
  },
  {
   "cell_type": "code",
   "execution_count": 24,
   "id": "fbd5a4b7",
   "metadata": {},
   "outputs": [],
   "source": [
    "categorical_features = Pipeline([('selector', FeatureSelector(column=['gender', 'cholesterol', 'gluc'])),\n",
    "                                 ('ohe', OHEEncoder(key=['gender', 'cholesterol', 'gluc']))\n",
    "                                ])"
   ]
  },
  {
   "cell_type": "code",
   "execution_count": 25,
   "id": "93b6d53e",
   "metadata": {},
   "outputs": [],
   "source": [
    "# FeatureSelector(column=['gender', 'cholesterol', 'gluc']).fit_transform(X)"
   ]
  },
  {
   "cell_type": "code",
   "execution_count": 26,
   "id": "113b72c2",
   "metadata": {},
   "outputs": [],
   "source": [
    "# pd.get_dummies(X[['gender', 'cholesterol', 'gluc']], columns=['gender', 'cholesterol', 'gluc'], prefix=['gender', 'cholesterol', 'gluc'])"
   ]
  },
  {
   "cell_type": "code",
   "execution_count": 27,
   "id": "4af0b75f",
   "metadata": {},
   "outputs": [],
   "source": [
    "# categorical_features.fit_transform(x_train)"
   ]
  },
  {
   "cell_type": "code",
   "execution_count": 28,
   "id": "69f159ac",
   "metadata": {},
   "outputs": [],
   "source": [
    "feature_processing = FeatureUnion([('cont_features', cont_features),\n",
    "                      ('categorical_features', categorical_features),\n",
    "                      ('other',FeatureSelector(column=['smoke', 'alco', 'active']))\n",
    "                      ])"
   ]
  },
  {
   "cell_type": "code",
   "execution_count": 29,
   "id": "949cebfe",
   "metadata": {},
   "outputs": [],
   "source": [
    "classifier1 = Pipeline([('feature_processing', feature_processing),\n",
    "                     ('clf', LogisticRegression())])\n",
    "\n",
    "classifier2 = Pipeline([('feature_processing', feature_processing),\n",
    "                     ('clf', AdaBoostClassifier())])\n",
    "\n",
    "classifier3 = Pipeline([('feature_processing', feature_processing),\n",
    "                     ('clf', RandomForestClassifier())])"
   ]
  },
  {
   "cell_type": "code",
   "execution_count": 30,
   "id": "e751cf98",
   "metadata": {},
   "outputs": [],
   "source": [
    "models = [classifier1, classifier2, classifier3]\n",
    "names = ['LogisticRegression', 'AdaBoost', 'RandomForest']"
   ]
  },
  {
   "cell_type": "code",
   "execution_count": 31,
   "id": "6c814243",
   "metadata": {},
   "outputs": [],
   "source": [
    "results = pd.DataFrame({'roc_auc': [0, 0, 0],\n",
    "                        'precision': [0, 0, 0],\n",
    "                        'recall': [0, 0, 0],\n",
    "                        'f_score': [0, 0, 0]},\n",
    "                       index=names)"
   ]
  },
  {
   "cell_type": "code",
   "execution_count": 32,
   "id": "7fe5e221",
   "metadata": {},
   "outputs": [],
   "source": [
    "for i, model in enumerate(models):\n",
    "    cv_scores = cross_val_score(model, x_train, y_train, cv=3, scoring='roc_auc')\n",
    "    cv_score = np.mean(cv_scores)\n",
    "        \n",
    "    model.fit(x_train, y_train)\n",
    "    y_score = model.predict_proba(x_test)[:, 1]\n",
    "    \n",
    "    precision, recall, thresholds = precision_recall_curve(y_test.values, y_score)\n",
    "    \n",
    "    fscore = 2*(precision * recall) / (precision + recall)\n",
    "    ix = np.argmax(fscore)\n",
    "    results.loc[names[i],'roc_auc'] = cv_score\n",
    "    results.loc[names[i],'precision'] = precision[ix]\n",
    "    results.loc[names[i],'recall'] = recall[ix]\n",
    "    results.loc[names[i],'f_score'] = fscore[ix]    "
   ]
  },
  {
   "cell_type": "code",
   "execution_count": 33,
   "id": "b8e1799c",
   "metadata": {},
   "outputs": [
    {
     "data": {
      "text/html": [
       "<div>\n",
       "<style scoped>\n",
       "    .dataframe tbody tr th:only-of-type {\n",
       "        vertical-align: middle;\n",
       "    }\n",
       "\n",
       "    .dataframe tbody tr th {\n",
       "        vertical-align: top;\n",
       "    }\n",
       "\n",
       "    .dataframe thead th {\n",
       "        text-align: right;\n",
       "    }\n",
       "</style>\n",
       "<table border=\"1\" class=\"dataframe\">\n",
       "  <thead>\n",
       "    <tr style=\"text-align: right;\">\n",
       "      <th></th>\n",
       "      <th>roc_auc</th>\n",
       "      <th>precision</th>\n",
       "      <th>recall</th>\n",
       "      <th>f_score</th>\n",
       "    </tr>\n",
       "  </thead>\n",
       "  <tbody>\n",
       "    <tr>\n",
       "      <th>LogisticRegression</th>\n",
       "      <td>0.782131</td>\n",
       "      <td>0.661961</td>\n",
       "      <td>0.807578</td>\n",
       "      <td>0.727555</td>\n",
       "    </tr>\n",
       "    <tr>\n",
       "      <th>AdaBoost</th>\n",
       "      <td>0.796318</td>\n",
       "      <td>0.668100</td>\n",
       "      <td>0.817434</td>\n",
       "      <td>0.735261</td>\n",
       "    </tr>\n",
       "    <tr>\n",
       "      <th>RandomForest</th>\n",
       "      <td>0.775208</td>\n",
       "      <td>0.641574</td>\n",
       "      <td>0.823653</td>\n",
       "      <td>0.721300</td>\n",
       "    </tr>\n",
       "  </tbody>\n",
       "</table>\n",
       "</div>"
      ],
      "text/plain": [
       "                     roc_auc  precision    recall   f_score\n",
       "LogisticRegression  0.782131   0.661961  0.807578  0.727555\n",
       "AdaBoost            0.796318   0.668100  0.817434  0.735261\n",
       "RandomForest        0.775208   0.641574  0.823653  0.721300"
      ]
     },
     "execution_count": 33,
     "metadata": {},
     "output_type": "execute_result"
    }
   ],
   "source": [
    "results"
   ]
  },
  {
   "cell_type": "markdown",
   "id": "2fdacfc7",
   "metadata": {},
   "source": [
    "Из проверенных моделей у AdaBoost - лучшие результаты (хотя и довольно скромные)"
   ]
  },
  {
   "cell_type": "markdown",
   "id": "5d958872",
   "metadata": {},
   "source": [
    "(опциональный вопрос) какая метрика (precision_recall_curve или roc_auc_curve) больше подходит в случае сильного дисбаланса классов? (когда объектов одного из классов намного больше чем другого).\n",
    "p.s.В вопросе проще разобраться, если вспомнить оси на графике roc auc curve и рассмотреть такой пример:\n",
    "\n",
    "Имеется 100000 объектов, из которых только 100 - класс \"1\" (99900 - класс \"0\", соответственно). Допустим, у нас две модели:\n",
    "\n",
    "первая помечает 100 объектов как класс 1, но TP = 90\n",
    "вторая помечает 1000 объектов как класс 1, но TP такой же - 90\n",
    "Какая модель лучше и почему? И что позволяет легче сделать вывод - roc_auc_curve или precision_recall_curve?"
   ]
  },
  {
   "cell_type": "markdown",
   "id": "fe4bb3ad",
   "metadata": {},
   "source": [
    "В приведенном примере у первой модели precision 0.9, FPR примерно 10^-4, у второй 0.09 и 9*10^-3 соответственно. Т.е. precision просел на порядок, а FPR - на два. Т.е. вроде как roc_auc_curve с большей чувствительностью показывает, какая модель лучше..."
   ]
  }
 ],
 "metadata": {
  "kernelspec": {
   "display_name": "Python 3",
   "language": "python",
   "name": "python3"
  },
  "language_info": {
   "codemirror_mode": {
    "name": "ipython",
    "version": 3
   },
   "file_extension": ".py",
   "mimetype": "text/x-python",
   "name": "python",
   "nbconvert_exporter": "python",
   "pygments_lexer": "ipython3",
   "version": "3.9.3"
  }
 },
 "nbformat": 4,
 "nbformat_minor": 5
}
