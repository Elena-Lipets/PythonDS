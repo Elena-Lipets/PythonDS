{
 "cells": [
  {
   "cell_type": "code",
   "execution_count": 1,
   "id": "e7448bde",
   "metadata": {},
   "outputs": [],
   "source": [
    "import pandas as pd\n",
    "import numpy as np\n",
    "import matplotlib.pyplot as plt\n",
    "from sklearn.ensemble import AdaBoostClassifier, RandomForestClassifier\n",
    "from sklearn.neighbors import KNeighborsClassifier\n",
    "\n",
    "\n",
    "from sklearn.model_selection import train_test_split, GridSearchCV\n",
    "from sklearn.metrics import precision_recall_curve\n",
    "\n",
    "from sklearn.pipeline import Pipeline\n",
    "from sklearn.base import BaseEstimator, TransformerMixin\n",
    "from sklearn.preprocessing import StandardScaler, MinMaxScaler, PolynomialFeatures\n",
    "from sklearn.pipeline import FeatureUnion"
   ]
  },
  {
   "cell_type": "code",
   "execution_count": 2,
   "id": "6bd573bf",
   "metadata": {},
   "outputs": [],
   "source": [
    "import warnings \n",
    "warnings.filterwarnings('ignore')"
   ]
  },
  {
   "cell_type": "code",
   "execution_count": 3,
   "id": "569ffecc",
   "metadata": {},
   "outputs": [],
   "source": [
    "import dill\n",
    "\n",
    "from flask import Flask, request, jsonify"
   ]
  },
  {
   "cell_type": "code",
   "execution_count": 4,
   "id": "d2fb072a",
   "metadata": {},
   "outputs": [],
   "source": [
    "from catboost import CatBoostClassifier"
   ]
  },
  {
   "cell_type": "code",
   "execution_count": 5,
   "id": "ced1e6ac",
   "metadata": {},
   "outputs": [
    {
     "data": {
      "text/html": [
       "<div>\n",
       "<style scoped>\n",
       "    .dataframe tbody tr th:only-of-type {\n",
       "        vertical-align: middle;\n",
       "    }\n",
       "\n",
       "    .dataframe tbody tr th {\n",
       "        vertical-align: top;\n",
       "    }\n",
       "\n",
       "    .dataframe thead th {\n",
       "        text-align: right;\n",
       "    }\n",
       "</style>\n",
       "<table border=\"1\" class=\"dataframe\">\n",
       "  <thead>\n",
       "    <tr style=\"text-align: right;\">\n",
       "      <th></th>\n",
       "      <th>id</th>\n",
       "      <th>age</th>\n",
       "      <th>gender</th>\n",
       "      <th>height</th>\n",
       "      <th>weight</th>\n",
       "      <th>ap_hi</th>\n",
       "      <th>ap_lo</th>\n",
       "      <th>cholesterol</th>\n",
       "      <th>gluc</th>\n",
       "      <th>smoke</th>\n",
       "      <th>alco</th>\n",
       "      <th>active</th>\n",
       "      <th>cardio</th>\n",
       "    </tr>\n",
       "  </thead>\n",
       "  <tbody>\n",
       "    <tr>\n",
       "      <th>0</th>\n",
       "      <td>0</td>\n",
       "      <td>18393</td>\n",
       "      <td>2</td>\n",
       "      <td>168</td>\n",
       "      <td>62.0</td>\n",
       "      <td>110</td>\n",
       "      <td>80</td>\n",
       "      <td>1</td>\n",
       "      <td>1</td>\n",
       "      <td>0</td>\n",
       "      <td>0</td>\n",
       "      <td>1</td>\n",
       "      <td>0</td>\n",
       "    </tr>\n",
       "    <tr>\n",
       "      <th>1</th>\n",
       "      <td>1</td>\n",
       "      <td>20228</td>\n",
       "      <td>1</td>\n",
       "      <td>156</td>\n",
       "      <td>85.0</td>\n",
       "      <td>140</td>\n",
       "      <td>90</td>\n",
       "      <td>3</td>\n",
       "      <td>1</td>\n",
       "      <td>0</td>\n",
       "      <td>0</td>\n",
       "      <td>1</td>\n",
       "      <td>1</td>\n",
       "    </tr>\n",
       "    <tr>\n",
       "      <th>2</th>\n",
       "      <td>2</td>\n",
       "      <td>18857</td>\n",
       "      <td>1</td>\n",
       "      <td>165</td>\n",
       "      <td>64.0</td>\n",
       "      <td>130</td>\n",
       "      <td>70</td>\n",
       "      <td>3</td>\n",
       "      <td>1</td>\n",
       "      <td>0</td>\n",
       "      <td>0</td>\n",
       "      <td>0</td>\n",
       "      <td>1</td>\n",
       "    </tr>\n",
       "    <tr>\n",
       "      <th>3</th>\n",
       "      <td>3</td>\n",
       "      <td>17623</td>\n",
       "      <td>2</td>\n",
       "      <td>169</td>\n",
       "      <td>82.0</td>\n",
       "      <td>150</td>\n",
       "      <td>100</td>\n",
       "      <td>1</td>\n",
       "      <td>1</td>\n",
       "      <td>0</td>\n",
       "      <td>0</td>\n",
       "      <td>1</td>\n",
       "      <td>1</td>\n",
       "    </tr>\n",
       "    <tr>\n",
       "      <th>4</th>\n",
       "      <td>4</td>\n",
       "      <td>17474</td>\n",
       "      <td>1</td>\n",
       "      <td>156</td>\n",
       "      <td>56.0</td>\n",
       "      <td>100</td>\n",
       "      <td>60</td>\n",
       "      <td>1</td>\n",
       "      <td>1</td>\n",
       "      <td>0</td>\n",
       "      <td>0</td>\n",
       "      <td>0</td>\n",
       "      <td>0</td>\n",
       "    </tr>\n",
       "  </tbody>\n",
       "</table>\n",
       "</div>"
      ],
      "text/plain": [
       "   id    age  gender  height  weight  ap_hi  ap_lo  cholesterol  gluc  smoke  \\\n",
       "0   0  18393       2     168    62.0    110     80            1     1      0   \n",
       "1   1  20228       1     156    85.0    140     90            3     1      0   \n",
       "2   2  18857       1     165    64.0    130     70            3     1      0   \n",
       "3   3  17623       2     169    82.0    150    100            1     1      0   \n",
       "4   4  17474       1     156    56.0    100     60            1     1      0   \n",
       "\n",
       "   alco  active  cardio  \n",
       "0     0       1       0  \n",
       "1     0       1       1  \n",
       "2     0       0       1  \n",
       "3     0       1       1  \n",
       "4     0       0       0  "
      ]
     },
     "execution_count": 5,
     "metadata": {},
     "output_type": "execute_result"
    }
   ],
   "source": [
    "data = pd.read_csv(\"C:/Users/li_le/geekbrains_study/ML_business/train_case2.csv\", sep=';')\n",
    "data.head(5)"
   ]
  },
  {
   "cell_type": "code",
   "execution_count": 6,
   "id": "a3e7f6df",
   "metadata": {},
   "outputs": [
    {
     "name": "stdout",
     "output_type": "stream",
     "text": [
      "<class 'pandas.core.frame.DataFrame'>\n",
      "RangeIndex: 70000 entries, 0 to 69999\n",
      "Data columns (total 13 columns):\n",
      " #   Column       Non-Null Count  Dtype  \n",
      "---  ------       --------------  -----  \n",
      " 0   id           70000 non-null  int64  \n",
      " 1   age          70000 non-null  int64  \n",
      " 2   gender       70000 non-null  int64  \n",
      " 3   height       70000 non-null  int64  \n",
      " 4   weight       70000 non-null  float64\n",
      " 5   ap_hi        70000 non-null  int64  \n",
      " 6   ap_lo        70000 non-null  int64  \n",
      " 7   cholesterol  70000 non-null  int64  \n",
      " 8   gluc         70000 non-null  int64  \n",
      " 9   smoke        70000 non-null  int64  \n",
      " 10  alco         70000 non-null  int64  \n",
      " 11  active       70000 non-null  int64  \n",
      " 12  cardio       70000 non-null  int64  \n",
      "dtypes: float64(1), int64(12)\n",
      "memory usage: 6.9 MB\n"
     ]
    }
   ],
   "source": [
    "data.info()"
   ]
  },
  {
   "cell_type": "code",
   "execution_count": 7,
   "id": "3c096ce7",
   "metadata": {},
   "outputs": [
    {
     "data": {
      "text/plain": [
       "(70000, 13)"
      ]
     },
     "execution_count": 7,
     "metadata": {},
     "output_type": "execute_result"
    }
   ],
   "source": [
    "data.shape"
   ]
  },
  {
   "cell_type": "code",
   "execution_count": 8,
   "id": "93091e2a",
   "metadata": {},
   "outputs": [
    {
     "data": {
      "text/plain": [
       "0    35021\n",
       "1    34979\n",
       "Name: cardio, dtype: int64"
      ]
     },
     "execution_count": 8,
     "metadata": {},
     "output_type": "execute_result"
    }
   ],
   "source": [
    "data['cardio'].value_counts()"
   ]
  },
  {
   "cell_type": "code",
   "execution_count": 9,
   "id": "5943630a",
   "metadata": {},
   "outputs": [
    {
     "data": {
      "text/plain": [
       "<AxesSubplot:>"
      ]
     },
     "execution_count": 9,
     "metadata": {},
     "output_type": "execute_result"
    },
    {
     "data": {
      "image/png": "[encoded data removed]",
      "text/plain": [
       "<Figure size 432x288 with 1 Axes>"
      ]
     },
     "metadata": {
      "needs_background": "light"
     },
     "output_type": "display_data"
    }
   ],
   "source": [
    "(data['age'] / 365).hist()"
   ]
  },
  {
   "cell_type": "code",
   "execution_count": 10,
   "id": "1417b487",
   "metadata": {},
   "outputs": [
    {
     "data": {
      "text/plain": [
       "<AxesSubplot:>"
      ]
     },
     "execution_count": 10,
     "metadata": {},
     "output_type": "execute_result"
    },
    {
     "data": {
      "image/png": "[encoded data removed]",
      "text/plain": [
       "<Figure size 432x288 with 1 Axes>"
      ]
     },
     "metadata": {
      "needs_background": "light"
     },
     "output_type": "display_data"
    }
   ],
   "source": [
    "data['height'].hist(bins=30)"
   ]
  },
  {
   "cell_type": "code",
   "execution_count": 11,
   "id": "ba5e2347",
   "metadata": {},
   "outputs": [],
   "source": [
    "# судя по возрасту детей в базе нет, рост ниже 1м - явно ошибка\n",
    "data.loc[(data['height'] > 230)|(data['height'] < 100), 'height'] = data['height'].median()"
   ]
  },
  {
   "cell_type": "code",
   "execution_count": 12,
   "id": "049aebed",
   "metadata": {},
   "outputs": [
    {
     "data": {
      "text/plain": [
       "<AxesSubplot:>"
      ]
     },
     "execution_count": 12,
     "metadata": {},
     "output_type": "execute_result"
    },
    {
     "data": {
      "image/png": "[encoded data removed]",
      "text/plain": [
       "<Figure size 432x288 with 1 Axes>"
      ]
     },
     "metadata": {
      "needs_background": "light"
     },
     "output_type": "display_data"
    }
   ],
   "source": [
    "data['height'].hist(bins=30)"
   ]
  },
  {
   "cell_type": "code",
   "execution_count": 13,
   "id": "3ced4037",
   "metadata": {},
   "outputs": [
    {
     "data": {
      "text/plain": [
       "<AxesSubplot:>"
      ]
     },
     "execution_count": 13,
     "metadata": {},
     "output_type": "execute_result"
    },
    {
     "data": {
      "image/png": "[encoded data removed]",
      "text/plain": [
       "<Figure size 432x288 with 1 Axes>"
      ]
     },
     "metadata": {
      "needs_background": "light"
     },
     "output_type": "display_data"
    }
   ],
   "source": [
    "data['weight'].hist(bins=20)"
   ]
  },
  {
   "cell_type": "code",
   "execution_count": 14,
   "id": "1706acea",
   "metadata": {},
   "outputs": [],
   "source": [
    "data.loc[data['weight'] < 25, 'weight'] = data['weight'].median()"
   ]
  },
  {
   "cell_type": "code",
   "execution_count": 15,
   "id": "b293114a",
   "metadata": {},
   "outputs": [],
   "source": [
    "# индекс массы тела\n",
    "data['BMI'] = data['weight'] / (data['height'] / 100)**2"
   ]
  },
  {
   "cell_type": "code",
   "execution_count": 16,
   "id": "922f703b",
   "metadata": {},
   "outputs": [
    {
     "data": {
      "text/plain": [
       "<AxesSubplot:>"
      ]
     },
     "execution_count": 16,
     "metadata": {},
     "output_type": "execute_result"
    },
    {
     "data": {
      "image/png": "[encoded data removed]",
      "text/plain": [
       "<Figure size 432x288 with 1 Axes>"
      ]
     },
     "metadata": {
      "needs_background": "light"
     },
     "output_type": "display_data"
    }
   ],
   "source": [
    "data['BMI'].hist(bins=20)"
   ]
  },
  {
   "cell_type": "code",
   "execution_count": 17,
   "id": "97f6469f",
   "metadata": {},
   "outputs": [
    {
     "data": {
      "text/plain": [
       "<AxesSubplot:>"
      ]
     },
     "execution_count": 17,
     "metadata": {},
     "output_type": "execute_result"
    },
    {
     "data": {
      "image/png": "[encoded data removed]",
      "text/plain": [
       "<Figure size 432x288 with 1 Axes>"
      ]
     },
     "metadata": {
      "needs_background": "light"
     },
     "output_type": "display_data"
    }
   ],
   "source": [
    "data['ap_hi'].hist()"
   ]
  },
  {
   "cell_type": "code",
   "execution_count": 18,
   "id": "7aac5846",
   "metadata": {},
   "outputs": [
    {
     "data": {
      "text/plain": [
       "<AxesSubplot:>"
      ]
     },
     "execution_count": 18,
     "metadata": {},
     "output_type": "execute_result"
    },
    {
     "data": {
      "image/png": "[encoded data removed]",
      "text/plain": [
       "<Figure size 432x288 with 1 Axes>"
      ]
     },
     "metadata": {
      "needs_background": "light"
     },
     "output_type": "display_data"
    }
   ],
   "source": [
    "data.loc[(data['ap_hi']<250)&(data['ap_hi']>0),'ap_hi'].hist(bins=20)"
   ]
  },
  {
   "cell_type": "code",
   "execution_count": 19,
   "id": "f16ea199",
   "metadata": {},
   "outputs": [
    {
     "data": {
      "text/plain": [
       "0.025    100.0\n",
       "0.975    170.0\n",
       "Name: ap_hi, dtype: float64"
      ]
     },
     "execution_count": 19,
     "metadata": {},
     "output_type": "execute_result"
    }
   ],
   "source": [
    "data['ap_hi'].quantile([0.025, 0.975])"
   ]
  },
  {
   "cell_type": "code",
   "execution_count": 20,
   "id": "d8f0416b",
   "metadata": {},
   "outputs": [
    {
     "data": {
      "text/plain": [
       "<AxesSubplot:>"
      ]
     },
     "execution_count": 20,
     "metadata": {},
     "output_type": "execute_result"
    },
    {
     "data": {
      "image/png": "[encoded data removed]",
      "text/plain": [
       "<Figure size 432x288 with 1 Axes>"
      ]
     },
     "metadata": {
      "needs_background": "light"
     },
     "output_type": "display_data"
    }
   ],
   "source": [
    "data.loc[(data['ap_lo']<250)&(data['ap_lo']>0),'ap_lo'].hist(bins=20)"
   ]
  },
  {
   "cell_type": "code",
   "execution_count": 21,
   "id": "c204beaf",
   "metadata": {},
   "outputs": [
    {
     "data": {
      "text/plain": [
       "1    804\n",
       "0    149\n",
       "Name: cardio, dtype: int64"
      ]
     },
     "execution_count": 21,
     "metadata": {},
     "output_type": "execute_result"
    }
   ],
   "source": [
    "data.loc[data['ap_lo']>250, 'cardio'].value_counts()"
   ]
  },
  {
   "cell_type": "code",
   "execution_count": 22,
   "id": "88172d85",
   "metadata": {},
   "outputs": [],
   "source": [
    "def norma_deviation(x):\n",
    "    a = x.copy()\n",
    "    q025 = x.quantile(0.025)\n",
    "    q975 = x.quantile(0.975)\n",
    "    a.loc[a <= q025] = -1\n",
    "    a.loc[(a > q025)&(a < q975)] = 0\n",
    "    a.loc[a >= q975] = 1\n",
    "\n",
    "    return a          "
   ]
  },
  {
   "cell_type": "code",
   "execution_count": 23,
   "id": "4fdb1197",
   "metadata": {},
   "outputs": [
    {
     "data": {
      "text/html": [
       "<div>\n",
       "<style scoped>\n",
       "    .dataframe tbody tr th:only-of-type {\n",
       "        vertical-align: middle;\n",
       "    }\n",
       "\n",
       "    .dataframe tbody tr th {\n",
       "        vertical-align: top;\n",
       "    }\n",
       "\n",
       "    .dataframe thead th {\n",
       "        text-align: right;\n",
       "    }\n",
       "</style>\n",
       "<table border=\"1\" class=\"dataframe\">\n",
       "  <thead>\n",
       "    <tr style=\"text-align: right;\">\n",
       "      <th></th>\n",
       "      <th>ap_hi</th>\n",
       "      <th>ap_lo</th>\n",
       "    </tr>\n",
       "    <tr>\n",
       "      <th>cardio</th>\n",
       "      <th></th>\n",
       "      <th></th>\n",
       "    </tr>\n",
       "  </thead>\n",
       "  <tbody>\n",
       "    <tr>\n",
       "      <th>0</th>\n",
       "      <td>-0.082351</td>\n",
       "      <td>-0.034893</td>\n",
       "    </tr>\n",
       "    <tr>\n",
       "      <th>1</th>\n",
       "      <td>0.022413</td>\n",
       "      <td>0.118414</td>\n",
       "    </tr>\n",
       "  </tbody>\n",
       "</table>\n",
       "</div>"
      ],
      "text/plain": [
       "           ap_hi     ap_lo\n",
       "cardio                    \n",
       "0      -0.082351 -0.034893\n",
       "1       0.022413  0.118414"
      ]
     },
     "execution_count": 23,
     "metadata": {},
     "output_type": "execute_result"
    }
   ],
   "source": [
    "a = data[['ap_hi', 'ap_lo', 'cardio']].copy()\n",
    "\n",
    "a['ap_hi'] = norma_deviation(a['ap_hi'])\n",
    "a['ap_lo'] = norma_deviation(a['ap_lo'])\n",
    "\n",
    "a.groupby('cardio').mean()"
   ]
  },
  {
   "cell_type": "code",
   "execution_count": 24,
   "id": "53f19110",
   "metadata": {},
   "outputs": [
    {
     "data": {
      "text/plain": [
       "1    52385\n",
       "2     9549\n",
       "3     8066\n",
       "Name: cholesterol, dtype: int64"
      ]
     },
     "execution_count": 24,
     "metadata": {},
     "output_type": "execute_result"
    }
   ],
   "source": [
    "data['cholesterol'].value_counts()"
   ]
  },
  {
   "cell_type": "code",
   "execution_count": 25,
   "id": "231f7bc2",
   "metadata": {},
   "outputs": [
    {
     "data": {
      "text/plain": [
       "1    59479\n",
       "3     5331\n",
       "2     5190\n",
       "Name: gluc, dtype: int64"
      ]
     },
     "execution_count": 25,
     "metadata": {},
     "output_type": "execute_result"
    }
   ],
   "source": [
    "data['gluc'].value_counts()"
   ]
  },
  {
   "cell_type": "code",
   "execution_count": 26,
   "id": "eed53a03",
   "metadata": {},
   "outputs": [
    {
     "data": {
      "text/plain": [
       "1    45530\n",
       "2    24470\n",
       "Name: gender, dtype: int64"
      ]
     },
     "execution_count": 26,
     "metadata": {},
     "output_type": "execute_result"
    }
   ],
   "source": [
    "data['gender'].value_counts()\n"
   ]
  },
  {
   "cell_type": "code",
   "execution_count": 27,
   "id": "6b961577",
   "metadata": {},
   "outputs": [
    {
     "data": {
      "text/plain": [
       "0    63831\n",
       "1     6169\n",
       "Name: smoke, dtype: int64"
      ]
     },
     "execution_count": 27,
     "metadata": {},
     "output_type": "execute_result"
    }
   ],
   "source": [
    "data['smoke'].value_counts()"
   ]
  },
  {
   "cell_type": "code",
   "execution_count": 28,
   "id": "7057dec9",
   "metadata": {},
   "outputs": [
    {
     "data": {
      "text/plain": [
       "0    66236\n",
       "1     3764\n",
       "Name: alco, dtype: int64"
      ]
     },
     "execution_count": 28,
     "metadata": {},
     "output_type": "execute_result"
    }
   ],
   "source": [
    "data['alco'].value_counts()"
   ]
  },
  {
   "cell_type": "code",
   "execution_count": 29,
   "id": "a6d24efd",
   "metadata": {},
   "outputs": [
    {
     "data": {
      "text/plain": [
       "1    56261\n",
       "0    13739\n",
       "Name: active, dtype: int64"
      ]
     },
     "execution_count": 29,
     "metadata": {},
     "output_type": "execute_result"
    }
   ],
   "source": [
    "data['active'].value_counts()"
   ]
  },
  {
   "cell_type": "code",
   "execution_count": 30,
   "id": "e78628d6",
   "metadata": {},
   "outputs": [
    {
     "data": {
      "text/html": [
       "<div>\n",
       "<style scoped>\n",
       "    .dataframe tbody tr th:only-of-type {\n",
       "        vertical-align: middle;\n",
       "    }\n",
       "\n",
       "    .dataframe tbody tr th {\n",
       "        vertical-align: top;\n",
       "    }\n",
       "\n",
       "    .dataframe thead th {\n",
       "        text-align: right;\n",
       "    }\n",
       "</style>\n",
       "<table border=\"1\" class=\"dataframe\">\n",
       "  <thead>\n",
       "    <tr style=\"text-align: right;\">\n",
       "      <th></th>\n",
       "      <th>smoke</th>\n",
       "      <th>alco</th>\n",
       "      <th>active</th>\n",
       "    </tr>\n",
       "    <tr>\n",
       "      <th>cardio</th>\n",
       "      <th></th>\n",
       "      <th></th>\n",
       "      <th></th>\n",
       "    </tr>\n",
       "  </thead>\n",
       "  <tbody>\n",
       "    <tr>\n",
       "      <th>0</th>\n",
       "      <td>3240</td>\n",
       "      <td>1941</td>\n",
       "      <td>28643</td>\n",
       "    </tr>\n",
       "    <tr>\n",
       "      <th>1</th>\n",
       "      <td>2929</td>\n",
       "      <td>1823</td>\n",
       "      <td>27618</td>\n",
       "    </tr>\n",
       "  </tbody>\n",
       "</table>\n",
       "</div>"
      ],
      "text/plain": [
       "        smoke  alco  active\n",
       "cardio                     \n",
       "0        3240  1941   28643\n",
       "1        2929  1823   27618"
      ]
     },
     "execution_count": 30,
     "metadata": {},
     "output_type": "execute_result"
    }
   ],
   "source": [
    "data[['smoke', 'alco', 'active', 'cardio']].groupby('cardio').sum()"
   ]
  },
  {
   "cell_type": "code",
   "execution_count": 31,
   "id": "924c77fb",
   "metadata": {},
   "outputs": [],
   "source": [
    "a = data[['smoke', 'alco', 'active', 'cardio']].copy()"
   ]
  },
  {
   "cell_type": "code",
   "execution_count": 32,
   "id": "3cc99d38",
   "metadata": {},
   "outputs": [],
   "source": [
    "a['sa'] = a['smoke'] * a['alco']"
   ]
  },
  {
   "cell_type": "code",
   "execution_count": 33,
   "id": "005013c1",
   "metadata": {},
   "outputs": [],
   "source": [
    "a['sai'] = a['smoke'] * a['alco'] * abs(a['active']-1)\n",
    "a['si'] = a['smoke'] * abs(a['active']-1)\n",
    "a['ai'] = a['alco'] * abs(a['active']-1)"
   ]
  },
  {
   "cell_type": "code",
   "execution_count": 34,
   "id": "f33c9226",
   "metadata": {},
   "outputs": [
    {
     "data": {
      "text/html": [
       "<div>\n",
       "<style scoped>\n",
       "    .dataframe tbody tr th:only-of-type {\n",
       "        vertical-align: middle;\n",
       "    }\n",
       "\n",
       "    .dataframe tbody tr th {\n",
       "        vertical-align: top;\n",
       "    }\n",
       "\n",
       "    .dataframe thead th {\n",
       "        text-align: right;\n",
       "    }\n",
       "</style>\n",
       "<table border=\"1\" class=\"dataframe\">\n",
       "  <thead>\n",
       "    <tr style=\"text-align: right;\">\n",
       "      <th></th>\n",
       "      <th>smoke</th>\n",
       "      <th>alco</th>\n",
       "      <th>active</th>\n",
       "      <th>sa</th>\n",
       "      <th>sai</th>\n",
       "      <th>si</th>\n",
       "      <th>ai</th>\n",
       "    </tr>\n",
       "    <tr>\n",
       "      <th>cardio</th>\n",
       "      <th></th>\n",
       "      <th></th>\n",
       "      <th></th>\n",
       "      <th></th>\n",
       "      <th></th>\n",
       "      <th></th>\n",
       "      <th></th>\n",
       "    </tr>\n",
       "  </thead>\n",
       "  <tbody>\n",
       "    <tr>\n",
       "      <th>0</th>\n",
       "      <td>3240</td>\n",
       "      <td>1941</td>\n",
       "      <td>28643</td>\n",
       "      <td>1030</td>\n",
       "      <td>126</td>\n",
       "      <td>449</td>\n",
       "      <td>268</td>\n",
       "    </tr>\n",
       "    <tr>\n",
       "      <th>1</th>\n",
       "      <td>2929</td>\n",
       "      <td>1823</td>\n",
       "      <td>27618</td>\n",
       "      <td>824</td>\n",
       "      <td>156</td>\n",
       "      <td>558</td>\n",
       "      <td>311</td>\n",
       "    </tr>\n",
       "  </tbody>\n",
       "</table>\n",
       "</div>"
      ],
      "text/plain": [
       "        smoke  alco  active    sa  sai   si   ai\n",
       "cardio                                          \n",
       "0        3240  1941   28643  1030  126  449  268\n",
       "1        2929  1823   27618   824  156  558  311"
      ]
     },
     "execution_count": 34,
     "metadata": {},
     "output_type": "execute_result"
    }
   ],
   "source": [
    "a.groupby('cardio').sum()"
   ]
  },
  {
   "cell_type": "code",
   "execution_count": 35,
   "id": "b791f2f6",
   "metadata": {},
   "outputs": [],
   "source": [
    "a['saac'] = a['smoke'] * a['alco'] * a['active']\n",
    "a['sac'] = a['smoke'] * a['active']\n",
    "a['aac'] = a['alco'] * a['active']"
   ]
  },
  {
   "cell_type": "code",
   "execution_count": 36,
   "id": "759f1bf4",
   "metadata": {},
   "outputs": [
    {
     "data": {
      "text/html": [
       "<div>\n",
       "<style scoped>\n",
       "    .dataframe tbody tr th:only-of-type {\n",
       "        vertical-align: middle;\n",
       "    }\n",
       "\n",
       "    .dataframe tbody tr th {\n",
       "        vertical-align: top;\n",
       "    }\n",
       "\n",
       "    .dataframe thead th {\n",
       "        text-align: right;\n",
       "    }\n",
       "</style>\n",
       "<table border=\"1\" class=\"dataframe\">\n",
       "  <thead>\n",
       "    <tr style=\"text-align: right;\">\n",
       "      <th></th>\n",
       "      <th>smoke</th>\n",
       "      <th>alco</th>\n",
       "      <th>active</th>\n",
       "      <th>sa</th>\n",
       "      <th>sai</th>\n",
       "      <th>si</th>\n",
       "      <th>ai</th>\n",
       "      <th>saac</th>\n",
       "      <th>sac</th>\n",
       "      <th>aac</th>\n",
       "    </tr>\n",
       "    <tr>\n",
       "      <th>cardio</th>\n",
       "      <th></th>\n",
       "      <th></th>\n",
       "      <th></th>\n",
       "      <th></th>\n",
       "      <th></th>\n",
       "      <th></th>\n",
       "      <th></th>\n",
       "      <th></th>\n",
       "      <th></th>\n",
       "      <th></th>\n",
       "    </tr>\n",
       "  </thead>\n",
       "  <tbody>\n",
       "    <tr>\n",
       "      <th>0</th>\n",
       "      <td>3240</td>\n",
       "      <td>1941</td>\n",
       "      <td>28643</td>\n",
       "      <td>1030</td>\n",
       "      <td>126</td>\n",
       "      <td>449</td>\n",
       "      <td>268</td>\n",
       "      <td>904</td>\n",
       "      <td>2791</td>\n",
       "      <td>1673</td>\n",
       "    </tr>\n",
       "    <tr>\n",
       "      <th>1</th>\n",
       "      <td>2929</td>\n",
       "      <td>1823</td>\n",
       "      <td>27618</td>\n",
       "      <td>824</td>\n",
       "      <td>156</td>\n",
       "      <td>558</td>\n",
       "      <td>311</td>\n",
       "      <td>668</td>\n",
       "      <td>2371</td>\n",
       "      <td>1512</td>\n",
       "    </tr>\n",
       "  </tbody>\n",
       "</table>\n",
       "</div>"
      ],
      "text/plain": [
       "        smoke  alco  active    sa  sai   si   ai  saac   sac   aac\n",
       "cardio                                                            \n",
       "0        3240  1941   28643  1030  126  449  268   904  2791  1673\n",
       "1        2929  1823   27618   824  156  558  311   668  2371  1512"
      ]
     },
     "execution_count": 36,
     "metadata": {},
     "output_type": "execute_result"
    }
   ],
   "source": [
    "a.groupby('cardio').sum()"
   ]
  },
  {
   "cell_type": "code",
   "execution_count": 37,
   "id": "334866ed",
   "metadata": {},
   "outputs": [
    {
     "data": {
      "text/html": [
       "<div>\n",
       "<style scoped>\n",
       "    .dataframe tbody tr th:only-of-type {\n",
       "        vertical-align: middle;\n",
       "    }\n",
       "\n",
       "    .dataframe tbody tr th {\n",
       "        vertical-align: top;\n",
       "    }\n",
       "\n",
       "    .dataframe thead th {\n",
       "        text-align: right;\n",
       "    }\n",
       "</style>\n",
       "<table border=\"1\" class=\"dataframe\">\n",
       "  <thead>\n",
       "    <tr style=\"text-align: right;\">\n",
       "      <th></th>\n",
       "      <th>id</th>\n",
       "      <th>age</th>\n",
       "      <th>gender</th>\n",
       "      <th>height</th>\n",
       "      <th>weight</th>\n",
       "      <th>ap_hi</th>\n",
       "      <th>ap_lo</th>\n",
       "      <th>cholesterol</th>\n",
       "      <th>gluc</th>\n",
       "      <th>smoke</th>\n",
       "      <th>alco</th>\n",
       "      <th>active</th>\n",
       "      <th>BMI</th>\n",
       "    </tr>\n",
       "    <tr>\n",
       "      <th>cardio</th>\n",
       "      <th></th>\n",
       "      <th></th>\n",
       "      <th></th>\n",
       "      <th></th>\n",
       "      <th></th>\n",
       "      <th></th>\n",
       "      <th></th>\n",
       "      <th></th>\n",
       "      <th></th>\n",
       "      <th></th>\n",
       "      <th></th>\n",
       "      <th></th>\n",
       "      <th></th>\n",
       "    </tr>\n",
       "  </thead>\n",
       "  <tbody>\n",
       "    <tr>\n",
       "      <th>0</th>\n",
       "      <td>49862.869107</td>\n",
       "      <td>18881.623711</td>\n",
       "      <td>1.345707</td>\n",
       "      <td>164.493104</td>\n",
       "      <td>71.594977</td>\n",
       "      <td>120.432598</td>\n",
       "      <td>84.251763</td>\n",
       "      <td>1.216527</td>\n",
       "      <td>1.175380</td>\n",
       "      <td>0.092516</td>\n",
       "      <td>0.055424</td>\n",
       "      <td>0.817881</td>\n",
       "      <td>26.493594</td>\n",
       "    </tr>\n",
       "    <tr>\n",
       "      <th>1</th>\n",
       "      <td>50082.102233</td>\n",
       "      <td>20056.813031</td>\n",
       "      <td>1.353441</td>\n",
       "      <td>164.298865</td>\n",
       "      <td>76.827342</td>\n",
       "      <td>137.212042</td>\n",
       "      <td>109.023929</td>\n",
       "      <td>1.517396</td>\n",
       "      <td>1.277595</td>\n",
       "      <td>0.083736</td>\n",
       "      <td>0.052117</td>\n",
       "      <td>0.789559</td>\n",
       "      <td>28.519877</td>\n",
       "    </tr>\n",
       "  </tbody>\n",
       "</table>\n",
       "</div>"
      ],
      "text/plain": [
       "                  id           age    gender      height     weight  \\\n",
       "cardio                                                                \n",
       "0       49862.869107  18881.623711  1.345707  164.493104  71.594977   \n",
       "1       50082.102233  20056.813031  1.353441  164.298865  76.827342   \n",
       "\n",
       "             ap_hi       ap_lo  cholesterol      gluc     smoke      alco  \\\n",
       "cardio                                                                      \n",
       "0       120.432598   84.251763     1.216527  1.175380  0.092516  0.055424   \n",
       "1       137.212042  109.023929     1.517396  1.277595  0.083736  0.052117   \n",
       "\n",
       "          active        BMI  \n",
       "cardio                       \n",
       "0       0.817881  26.493594  \n",
       "1       0.789559  28.519877  "
      ]
     },
     "execution_count": 37,
     "metadata": {},
     "output_type": "execute_result"
    }
   ],
   "source": [
    "data.groupby('cardio').mean()"
   ]
  },
  {
   "cell_type": "code",
   "execution_count": null,
   "id": "80898ce8",
   "metadata": {},
   "outputs": [],
   "source": []
  },
  {
   "cell_type": "code",
   "execution_count": 38,
   "id": "c548cb73",
   "metadata": {},
   "outputs": [],
   "source": [
    "data = pd.read_csv(\"C:/Users/li_le/geekbrains_study/ML_business/train_case2.csv\", sep=';')"
   ]
  },
  {
   "cell_type": "code",
   "execution_count": 39,
   "id": "efaba611",
   "metadata": {},
   "outputs": [],
   "source": [
    "x_train, x_test, y_train, y_test = train_test_split(data.drop('cardio', 1), data['cardio'], test_size=0.3, random_state=13)"
   ]
  },
  {
   "cell_type": "code",
   "execution_count": 40,
   "id": "bc5a2295",
   "metadata": {},
   "outputs": [],
   "source": [
    "x_train.to_csv(\"X_train.csv\", index=None)\n",
    "x_test.to_csv(\"X_test.csv\", index=None)\n",
    "\n",
    "y_train.to_csv(\"y_train.csv\", index=None)\n",
    "y_test.to_csv(\"y_test.csv\", index=None)"
   ]
  },
  {
   "cell_type": "code",
   "execution_count": 41,
   "id": "673520bd",
   "metadata": {},
   "outputs": [
    {
     "data": {
      "text/plain": [
       "1    24528\n",
       "0    24472\n",
       "Name: cardio, dtype: int64"
      ]
     },
     "execution_count": 41,
     "metadata": {},
     "output_type": "execute_result"
    }
   ],
   "source": [
    "y_train.value_counts()"
   ]
  },
  {
   "cell_type": "code",
   "execution_count": 42,
   "id": "b404ca29",
   "metadata": {},
   "outputs": [
    {
     "data": {
      "text/plain": [
       "0    10549\n",
       "1    10451\n",
       "Name: cardio, dtype: int64"
      ]
     },
     "execution_count": 42,
     "metadata": {},
     "output_type": "execute_result"
    }
   ],
   "source": [
    "y_test.value_counts()"
   ]
  },
  {
   "cell_type": "code",
   "execution_count": 43,
   "id": "a10ab99b",
   "metadata": {},
   "outputs": [],
   "source": [
    "class FeatureSelector(BaseEstimator, TransformerMixin):\n",
    "    def __init__(self, column):\n",
    "        self.column = column\n",
    "        \n",
    "    def fit(self, X, y=None):\n",
    "        return self\n",
    "    \n",
    "    def transform(self, X, y=None):\n",
    "        return X[self.column] \n",
    "    "
   ]
  },
  {
   "cell_type": "code",
   "execution_count": 44,
   "id": "e0e0d57f",
   "metadata": {},
   "outputs": [],
   "source": [
    "cont_features = Pipeline([('selector', FeatureSelector(column=['age', 'height', 'weight', 'ap_hi', 'ap_lo'])),\n",
    "                          ('standard', StandardScaler())\n",
    "                         ])"
   ]
  },
  {
   "cell_type": "code",
   "execution_count": 45,
   "id": "98f626b5",
   "metadata": {},
   "outputs": [],
   "source": [
    "feature_processing = FeatureUnion([('cont_features', cont_features),\n",
    "                      ('other',FeatureSelector(column=['smoke', 'alco', 'active', 'gender', 'cholesterol', 'gluc']))\n",
    "                      ])"
   ]
  },
  {
   "cell_type": "code",
   "execution_count": null,
   "id": "909476bc",
   "metadata": {},
   "outputs": [],
   "source": []
  },
  {
   "cell_type": "code",
   "execution_count": 46,
   "id": "ea024e6d",
   "metadata": {},
   "outputs": [],
   "source": [
    "# def standard_scale(x):\n",
    "#     res = (x - x.mean(axis=0)) / x.std(axis=0)\n",
    "#     return res"
   ]
  },
  {
   "cell_type": "code",
   "execution_count": 47,
   "id": "9ee39ae7",
   "metadata": {},
   "outputs": [],
   "source": [
    "# def minmax_scale(x):\n",
    "#     res = (x - x.min(axis=0)) / (x.max(axis=0)-x.min(axis=0))\n",
    "#     return res"
   ]
  },
  {
   "cell_type": "code",
   "execution_count": 48,
   "id": "ac774fea",
   "metadata": {},
   "outputs": [],
   "source": [
    "# class DataProcessing(BaseEstimator, TransformerMixin):\n",
    "#     def fit(self, X, y=None):\n",
    "#         return self\n",
    "    \n",
    "#     def transform(self, X, y=None):\n",
    "#         X1 = X.copy()\n",
    "#         X1['gender'] = X1['gender'].map({1: 0, 2: 1})\n",
    "        \n",
    "#         X1.loc[(X1['height'] > 230)|(X1['height'] < 100), 'height'] = X1['height'].median()\n",
    "#         X1.loc[X1['weight'] < 25, 'weight'] = X1['weight'].median()\n",
    "#         X1.loc[X1['ap_hi'] <= 0, 'ap_hi'] = data['ap_hi'].median()\n",
    "#         X1.loc[X1['ap_lo'] <= 0, 'ap_lo'] = data['ap_lo'].median()\n",
    "        \n",
    "# #         X1['BMI'] = X1['weight'] / (X1['height'] / 100)**2\n",
    "        \n",
    "# #         X1['ap_hi_cat'] = norma_deviation(X1['ap_hi'])\n",
    "# #         X1['ap_lo_cat'] = norma_deviation(X1['ap_lo'])\n",
    "#         X1[['age', 'height', 'weight', 'ap_hi', 'ap_lo']] = standard_scale(X1[['age', 'height', 'weight', 'ap_hi', 'ap_lo']])\n",
    "         \n",
    "# #         X1['smoke+alco+active'] = X1['smoke'] * X1['alco'] * X1['active']\n",
    "# #         X1['smoke+inective'] = X1['smoke'] * abs(X1['active']-1)\n",
    "# #         X1['alco+inective'] = X1['alco'] * abs(X1['active']-1)\n",
    "        \n",
    "#         return X1.drop('id', 1)"
   ]
  },
  {
   "cell_type": "code",
   "execution_count": 49,
   "id": "d51f24f8",
   "metadata": {},
   "outputs": [],
   "source": [
    "# dp = DataProcessing()\n",
    "\n",
    "# x_train_tr = dp.fit_transform(x_train)\n",
    "\n",
    "# x_test_tr = dp.fit_transform(x_test)"
   ]
  },
  {
   "cell_type": "code",
   "execution_count": 50,
   "id": "de407a74",
   "metadata": {},
   "outputs": [],
   "source": [
    "# selected_features = ['age', 'gender', 'height', 'weight', 'ap_hi', 'ap_lo',\n",
    "#        'cholesterol', 'gluc', 'smoke', 'alco', 'active', 'ap_hi_cat',\n",
    "#        'ap_lo_cat', 'BMI', 'smoke+alco+active', 'smoke+inective',\n",
    "#        'alco+inective']\n",
    "# selected_features = ['age', 'gender', 'height', 'weight', 'ap_hi', 'ap_lo', 'cholesterol',\n",
    "#        'gluc', 'smoke', 'alco', 'active']"
   ]
  },
  {
   "cell_type": "code",
   "execution_count": 51,
   "id": "01764be8",
   "metadata": {},
   "outputs": [],
   "source": [
    "# model2 = RandomForestClassifier(random_state=7)"
   ]
  },
  {
   "cell_type": "code",
   "execution_count": 52,
   "id": "30948dec",
   "metadata": {},
   "outputs": [],
   "source": [
    "# params = params={'max_features':[3, 5, 7],\n",
    "#         'min_samples_leaf':[2, 3, 4],\n",
    "#         'max_depth':[7, 10, 15]\n",
    "#         }\n",
    "# grid = GridSearchCV(model2, param_grid=params, refit=False)\n",
    "# search = grid.fit(x_train_tr[selected_features], y_train)\n",
    "# search.best_params_"
   ]
  },
  {
   "cell_type": "code",
   "execution_count": 53,
   "id": "d4a42380",
   "metadata": {},
   "outputs": [],
   "source": [
    "# model2 = RandomForestClassifier(max_depth=7, max_features=5, min_samples_leaf=4, random_state=7)\n",
    "# # model2 = RandomForestClassifier(max_depth=10, max_features=5, min_samples_leaf=3, random_state=7)\n",
    "\n",
    "# model2.fit(x_train_tr, y_train)"
   ]
  },
  {
   "cell_type": "code",
   "execution_count": 54,
   "id": "43a89560",
   "metadata": {},
   "outputs": [],
   "source": [
    "# preds = model2.predict_proba(x_test_tr)[:, 1]\n",
    "# precision, recall, thresholds = precision_recall_curve(y_test, preds)\n",
    "\n",
    "# fscore = (2 * precision * recall) / (precision + recall)\n",
    "\n",
    "# ix = np.argmax(fscore)\n",
    "# print('Best Threshold=%f, F-Score=%.3f, Precision=%.3f, Recall=%.3f' % (thresholds[ix], \n",
    "#                                                                         fscore[ix],\n",
    "#                                                                         precision[ix],\n",
    "#                                                                         recall[ix]))"
   ]
  },
  {
   "cell_type": "code",
   "execution_count": 55,
   "id": "48af6795",
   "metadata": {},
   "outputs": [],
   "source": [
    "# poly = PolynomialFeatures(2)\n",
    "# big_table_train = poly.fit_transform(x_train_tr)\n",
    "# big_table_test = poly.fit_transform(x_test_tr)"
   ]
  },
  {
   "cell_type": "code",
   "execution_count": 56,
   "id": "b4ed08bf",
   "metadata": {},
   "outputs": [],
   "source": [
    "# model4 = CatBoostClassifier(random_state=13, silent=True)"
   ]
  },
  {
   "cell_type": "code",
   "execution_count": 57,
   "id": "c2b3c91d",
   "metadata": {},
   "outputs": [],
   "source": [
    "# params={'iterations':[40, 50],\n",
    "#         'learning_rate':[0.5, 1],\n",
    "#         'depth':[2, 3, 4]\n",
    "#         }"
   ]
  },
  {
   "cell_type": "code",
   "execution_count": 58,
   "id": "baa08538",
   "metadata": {},
   "outputs": [],
   "source": [
    "# grid = GridSearchCV(model4,\n",
    "#                     param_grid=params,\n",
    "#                     cv=5,\n",
    "#                     refit=False)\n",
    "\n",
    "# search = grid.fit(big_table_train, y_train)\n",
    "# search.best_params_"
   ]
  },
  {
   "cell_type": "code",
   "execution_count": 59,
   "id": "911bf7a5",
   "metadata": {},
   "outputs": [],
   "source": [
    "# model4 = CatBoostClassifier(depth=3, iterations=40, learning_rate=0.5, random_state=13, silent=True)\n",
    "# model4.fit(big_table_train, y_train)"
   ]
  },
  {
   "cell_type": "code",
   "execution_count": 60,
   "id": "1499b98d",
   "metadata": {},
   "outputs": [],
   "source": [
    "# preds = model4.predict_proba(big_table_test)[:, 1]\n",
    "# precision, recall, thresholds = precision_recall_curve(y_test, preds)\n",
    "\n",
    "# fscore = (2 * precision * recall) / (precision + recall)\n",
    "\n",
    "# ix = np.argmax(fscore)\n",
    "# print('Best Threshold=%f, F-Score=%.3f, Precision=%.3f, Recall=%.3f' % (thresholds[ix], \n",
    "#                                                                         fscore[ix],\n",
    "#                                                                         precision[ix],\n",
    "#                                                                         recall[ix]))"
   ]
  },
  {
   "cell_type": "code",
   "execution_count": 61,
   "id": "4ee3b1ec",
   "metadata": {},
   "outputs": [],
   "source": [
    "# feature_importances = pd.DataFrame(model4.feature_importances_, columns=['coefficient'])\n",
    "# feature_importances.sort_values(by='coefficient', inplace=True, ascending=False)\n",
    "# selected_features = feature_importances.head(60)"
   ]
  },
  {
   "cell_type": "code",
   "execution_count": 62,
   "id": "f5c6198e",
   "metadata": {},
   "outputs": [],
   "source": [
    "# selected_features = feature_importances.head(20)"
   ]
  },
  {
   "cell_type": "code",
   "execution_count": 63,
   "id": "9e74e1ed",
   "metadata": {},
   "outputs": [],
   "source": [
    "# big_table_test[:, selected_features.index]"
   ]
  },
  {
   "cell_type": "code",
   "execution_count": 64,
   "id": "2ee91db3",
   "metadata": {},
   "outputs": [
    {
     "data": {
      "text/plain": [
       "Pipeline(steps=[('feature_processing',\n",
       "                 FeatureUnion(transformer_list=[('cont_features',\n",
       "                                                 Pipeline(steps=[('selector',\n",
       "                                                                  FeatureSelector(column=['age',\n",
       "                                                                                          'height',\n",
       "                                                                                          'weight',\n",
       "                                                                                          'ap_hi',\n",
       "                                                                                          'ap_lo'])),\n",
       "                                                                 ('standard',\n",
       "                                                                  StandardScaler())])),\n",
       "                                                ('other',\n",
       "                                                 FeatureSelector(column=['smoke',\n",
       "                                                                         'alco',\n",
       "                                                                         'active',\n",
       "                                                                         'gender',\n",
       "                                                                         'cholesterol',\n",
       "                                                                         'gluc']))])),\n",
       "                ('poly', PolynomialFeatures()),\n",
       "                ('classifier',\n",
       "                 <catboost.core.CatBoostClassifier object at 0x000002AE69AD6C70>)])"
      ]
     },
     "execution_count": 64,
     "metadata": {},
     "output_type": "execute_result"
    }
   ],
   "source": [
    "pipeline = Pipeline([\n",
    "    ('feature_processing', feature_processing),\n",
    "    ('poly', PolynomialFeatures(2)),\n",
    "    ('classifier', CatBoostClassifier(depth=3, iterations=40, learning_rate=0.5, random_state=13, silent=True)),\n",
    "])\n",
    "\n",
    "pipeline.fit(x_train, y_train)"
   ]
  },
  {
   "cell_type": "code",
   "execution_count": 65,
   "id": "5af17f23",
   "metadata": {},
   "outputs": [],
   "source": [
    "with open(\"lesson9_model.dill\", \"wb\") as f:\n",
    "    dill.dump(pipeline, f)"
   ]
  },
  {
   "cell_type": "markdown",
   "id": "6c968d22",
   "metadata": {},
   "source": [
    "### Сервис обработки запросов"
   ]
  },
  {
   "cell_type": "code",
   "execution_count": 66,
   "id": "bf8ed832",
   "metadata": {},
   "outputs": [],
   "source": [
    "X_test = pd.read_csv(\"X_test.csv\")\n",
    "y_test = pd.read_csv(\"y_test.csv\")"
   ]
  },
  {
   "cell_type": "code",
   "execution_count": 67,
   "id": "32132774",
   "metadata": {},
   "outputs": [],
   "source": [
    "with open('lesson9_model.dill', 'rb') as in_strm:\n",
    "    pipeline = dill.load(in_strm)"
   ]
  },
  {
   "cell_type": "code",
   "execution_count": 68,
   "id": "c01e371b",
   "metadata": {},
   "outputs": [],
   "source": [
    "preds = pipeline.predict_proba(X_test)[:, 1]\n",
    "\n",
    "pred_df = pd.DataFrame({'preds': preds})\n",
    "pred_df.to_csv(\"test_predictions.csv\", index=None)"
   ]
  },
  {
   "cell_type": "code",
   "execution_count": 69,
   "id": "c646687d",
   "metadata": {},
   "outputs": [
    {
     "name": "stdout",
     "output_type": "stream",
     "text": [
      "Best Threshold=0.3912638330159812, F-Score=0.741, Precision=0.697, Recall=0.791\n"
     ]
    }
   ],
   "source": [
    "precision, recall, thresholds = precision_recall_curve(y_test, preds)\n",
    "\n",
    "fscore = (2 * precision * recall) / (precision + recall)\n",
    "\n",
    "ix = np.argmax(fscore)\n",
    "print(f'Best Threshold={thresholds[ix]}, F-Score={fscore[ix]:.3f}, Precision={precision[ix]:.3f}, Recall={recall[ix]:.3f}')"
   ]
  },
  {
   "cell_type": "code",
   "execution_count": 70,
   "id": "c03e8f95",
   "metadata": {},
   "outputs": [
    {
     "name": "stdout",
     "output_type": "stream",
     "text": [
      " * Serving Flask app '__main__'\n",
      " * Debug mode: off\n"
     ]
    },
    {
     "name": "stderr",
     "output_type": "stream",
     "text": [
      "WARNING: This is a development server. Do not use it in a production deployment. Use a production WSGI server instead.\n",
      " * Running on http://127.0.0.1:5000\n",
      "Press CTRL+C to quit\n",
      "127.0.0.1 - - [23/Apr/2023 13:12:00] \"GET / HTTP/1.1\" 200 -\n",
      "127.0.0.1 - - [23/Apr/2023 13:12:00] \"GET /favicon.ico HTTP/1.1\" 404 -\n",
      "127.0.0.1 - - [23/Apr/2023 13:12:37] \"POST //predict HTTP/1.1\" 200 -\n"
     ]
    },
    {
     "name": "stdout",
     "output_type": "stream",
     "text": [
      "OK\n"
     ]
    },
    {
     "name": "stderr",
     "output_type": "stream",
     "text": [
      "127.0.0.1 - - [23/Apr/2023 13:12:47] \"POST //predict HTTP/1.1\" 200 -\n"
     ]
    },
    {
     "name": "stdout",
     "output_type": "stream",
     "text": [
      "OK\n"
     ]
    },
    {
     "name": "stderr",
     "output_type": "stream",
     "text": [
      "127.0.0.1 - - [23/Apr/2023 13:12:58] \"POST //predict HTTP/1.1\" 200 -\n",
      "127.0.0.1 - - [23/Apr/2023 13:12:58] \"POST //predict HTTP/1.1\" 200 -\n",
      "127.0.0.1 - - [23/Apr/2023 13:12:58] \"POST //predict HTTP/1.1\" 200 -\n",
      "127.0.0.1 - - [23/Apr/2023 13:12:58] \"POST //predict HTTP/1.1\" 200 -\n",
      "127.0.0.1 - - [23/Apr/2023 13:12:58] \"POST //predict HTTP/1.1\" 200 -\n",
      "127.0.0.1 - - [23/Apr/2023 13:12:58] \"POST //predict HTTP/1.1\" 200 -\n",
      "127.0.0.1 - - [23/Apr/2023 13:12:58] \"POST //predict HTTP/1.1\" 200 -\n",
      "127.0.0.1 - - [23/Apr/2023 13:12:58] \"POST //predict HTTP/1.1\" 200 -\n",
      "127.0.0.1 - - [23/Apr/2023 13:12:58] \"POST //predict HTTP/1.1\" 200 -\n",
      "127.0.0.1 - - [23/Apr/2023 13:12:58] \"POST //predict HTTP/1.1\" 200 -\n",
      "127.0.0.1 - - [23/Apr/2023 13:12:58] \"POST //predict HTTP/1.1\" 200 -\n",
      "127.0.0.1 - - [23/Apr/2023 13:12:58] \"POST //predict HTTP/1.1\" 200 -\n",
      "127.0.0.1 - - [23/Apr/2023 13:12:58] \"POST //predict HTTP/1.1\" 200 -\n",
      "127.0.0.1 - - [23/Apr/2023 13:12:58] \"POST //predict HTTP/1.1\" 200 -\n",
      "127.0.0.1 - - [23/Apr/2023 13:12:58] \"POST //predict HTTP/1.1\" 200 -\n",
      "127.0.0.1 - - [23/Apr/2023 13:12:58] \"POST //predict HTTP/1.1\" 200 -\n",
      "127.0.0.1 - - [23/Apr/2023 13:12:58] \"POST //predict HTTP/1.1\" 200 -\n"
     ]
    },
    {
     "name": "stdout",
     "output_type": "stream",
     "text": [
      "OK\n",
      "OK\n",
      "OK\n",
      "OK\n",
      "OK\n",
      "OK\n",
      "OK\n",
      "OK\n",
      "OK\n",
      "OK\n",
      "OK\n",
      "OK\n",
      "OK\n",
      "OK\n",
      "OK\n",
      "OK\n",
      "OK\n"
     ]
    },
    {
     "name": "stderr",
     "output_type": "stream",
     "text": [
      "127.0.0.1 - - [23/Apr/2023 13:12:58] \"POST //predict HTTP/1.1\" 200 -\n",
      "127.0.0.1 - - [23/Apr/2023 13:12:58] \"POST //predict HTTP/1.1\" 200 -\n",
      "127.0.0.1 - - [23/Apr/2023 13:12:58] \"POST //predict HTTP/1.1\" 200 -\n",
      "127.0.0.1 - - [23/Apr/2023 13:12:58] \"POST //predict HTTP/1.1\" 200 -\n",
      "127.0.0.1 - - [23/Apr/2023 13:12:58] \"POST //predict HTTP/1.1\" 200 -\n",
      "127.0.0.1 - - [23/Apr/2023 13:12:58] \"POST //predict HTTP/1.1\" 200 -\n",
      "127.0.0.1 - - [23/Apr/2023 13:12:58] \"POST //predict HTTP/1.1\" 200 -\n",
      "127.0.0.1 - - [23/Apr/2023 13:12:58] \"POST //predict HTTP/1.1\" 200 -\n",
      "127.0.0.1 - - [23/Apr/2023 13:12:58] \"POST //predict HTTP/1.1\" 200 -\n",
      "127.0.0.1 - - [23/Apr/2023 13:12:58] \"POST //predict HTTP/1.1\" 200 -\n",
      "127.0.0.1 - - [23/Apr/2023 13:12:58] \"POST //predict HTTP/1.1\" 200 -\n",
      "127.0.0.1 - - [23/Apr/2023 13:12:58] \"POST //predict HTTP/1.1\" 200 -\n",
      "127.0.0.1 - - [23/Apr/2023 13:12:58] \"POST //predict HTTP/1.1\" 200 -\n",
      "127.0.0.1 - - [23/Apr/2023 13:12:58] \"POST //predict HTTP/1.1\" 200 -\n",
      "127.0.0.1 - - [23/Apr/2023 13:12:58] \"POST //predict HTTP/1.1\" 200 -\n",
      "127.0.0.1 - - [23/Apr/2023 13:12:58] \"POST //predict HTTP/1.1\" 200 -\n"
     ]
    },
    {
     "name": "stdout",
     "output_type": "stream",
     "text": [
      "OK\n",
      "OK\n",
      "OK\n",
      "OK\n",
      "OK\n",
      "OK\n",
      "OK\n",
      "OK\n",
      "OK\n",
      "OK\n",
      "OK\n",
      "OK\n",
      "OK\n",
      "OK\n",
      "OK\n",
      "OK\n"
     ]
    },
    {
     "name": "stderr",
     "output_type": "stream",
     "text": [
      "127.0.0.1 - - [23/Apr/2023 13:12:58] \"POST //predict HTTP/1.1\" 200 -\n",
      "127.0.0.1 - - [23/Apr/2023 13:12:58] \"POST //predict HTTP/1.1\" 200 -\n",
      "127.0.0.1 - - [23/Apr/2023 13:12:58] \"POST //predict HTTP/1.1\" 200 -\n",
      "127.0.0.1 - - [23/Apr/2023 13:12:58] \"POST //predict HTTP/1.1\" 200 -\n",
      "127.0.0.1 - - [23/Apr/2023 13:12:58] \"POST //predict HTTP/1.1\" 200 -\n",
      "127.0.0.1 - - [23/Apr/2023 13:12:58] \"POST //predict HTTP/1.1\" 200 -\n",
      "127.0.0.1 - - [23/Apr/2023 13:12:58] \"POST //predict HTTP/1.1\" 200 -\n",
      "127.0.0.1 - - [23/Apr/2023 13:12:58] \"POST //predict HTTP/1.1\" 200 -\n",
      "127.0.0.1 - - [23/Apr/2023 13:12:58] \"POST //predict HTTP/1.1\" 200 -\n",
      "127.0.0.1 - - [23/Apr/2023 13:12:58] \"POST //predict HTTP/1.1\" 200 -\n",
      "127.0.0.1 - - [23/Apr/2023 13:12:58] \"POST //predict HTTP/1.1\" 200 -\n",
      "127.0.0.1 - - [23/Apr/2023 13:12:58] \"POST //predict HTTP/1.1\" 200 -\n",
      "127.0.0.1 - - [23/Apr/2023 13:12:58] \"POST //predict HTTP/1.1\" 200 -\n",
      "127.0.0.1 - - [23/Apr/2023 13:12:58] \"POST //predict HTTP/1.1\" 200 -\n",
      "127.0.0.1 - - [23/Apr/2023 13:12:58] \"POST //predict HTTP/1.1\" 200 -\n",
      "127.0.0.1 - - [23/Apr/2023 13:12:58] \"POST //predict HTTP/1.1\" 200 -\n",
      "127.0.0.1 - - [23/Apr/2023 13:12:58] \"POST //predict HTTP/1.1\" 200 -\n"
     ]
    },
    {
     "name": "stdout",
     "output_type": "stream",
     "text": [
      "OK\n",
      "OK\n",
      "OK\n",
      "OK\n",
      "OK\n",
      "OK\n",
      "OK\n",
      "OK\n",
      "OK\n",
      "OK\n",
      "OK\n",
      "OK\n",
      "OK\n",
      "OK\n",
      "OK\n",
      "OK\n",
      "OK\n"
     ]
    },
    {
     "name": "stderr",
     "output_type": "stream",
     "text": [
      "127.0.0.1 - - [23/Apr/2023 13:12:58] \"POST //predict HTTP/1.1\" 200 -\n",
      "127.0.0.1 - - [23/Apr/2023 13:12:58] \"POST //predict HTTP/1.1\" 200 -\n",
      "127.0.0.1 - - [23/Apr/2023 13:12:58] \"POST //predict HTTP/1.1\" 200 -\n",
      "127.0.0.1 - - [23/Apr/2023 13:12:58] \"POST //predict HTTP/1.1\" 200 -\n",
      "127.0.0.1 - - [23/Apr/2023 13:12:58] \"POST //predict HTTP/1.1\" 200 -\n",
      "127.0.0.1 - - [23/Apr/2023 13:12:58] \"POST //predict HTTP/1.1\" 200 -\n",
      "127.0.0.1 - - [23/Apr/2023 13:12:58] \"POST //predict HTTP/1.1\" 200 -\n",
      "127.0.0.1 - - [23/Apr/2023 13:12:58] \"POST //predict HTTP/1.1\" 200 -\n",
      "127.0.0.1 - - [23/Apr/2023 13:12:58] \"POST //predict HTTP/1.1\" 200 -\n",
      "127.0.0.1 - - [23/Apr/2023 13:12:58] \"POST //predict HTTP/1.1\" 200 -\n",
      "127.0.0.1 - - [23/Apr/2023 13:12:58] \"POST //predict HTTP/1.1\" 200 -\n",
      "127.0.0.1 - - [23/Apr/2023 13:12:58] \"POST //predict HTTP/1.1\" 200 -\n",
      "127.0.0.1 - - [23/Apr/2023 13:12:58] \"POST //predict HTTP/1.1\" 200 -\n",
      "127.0.0.1 - - [23/Apr/2023 13:12:58] \"POST //predict HTTP/1.1\" 200 -\n",
      "127.0.0.1 - - [23/Apr/2023 13:12:58] \"POST //predict HTTP/1.1\" 200 -\n",
      "127.0.0.1 - - [23/Apr/2023 13:12:59] \"POST //predict HTTP/1.1\" 200 -\n"
     ]
    },
    {
     "name": "stdout",
     "output_type": "stream",
     "text": [
      "OK\n",
      "OK\n",
      "OK\n",
      "OK\n",
      "OK\n",
      "OK\n",
      "OK\n",
      "OK\n",
      "OK\n",
      "OK\n",
      "OK\n",
      "OK\n",
      "OK\n",
      "OK\n",
      "OK\n",
      "OK\n"
     ]
    },
    {
     "name": "stderr",
     "output_type": "stream",
     "text": [
      "127.0.0.1 - - [23/Apr/2023 13:12:59] \"POST //predict HTTP/1.1\" 200 -\n",
      "127.0.0.1 - - [23/Apr/2023 13:12:59] \"POST //predict HTTP/1.1\" 200 -\n",
      "127.0.0.1 - - [23/Apr/2023 13:12:59] \"POST //predict HTTP/1.1\" 200 -\n",
      "127.0.0.1 - - [23/Apr/2023 13:12:59] \"POST //predict HTTP/1.1\" 200 -\n",
      "127.0.0.1 - - [23/Apr/2023 13:12:59] \"POST //predict HTTP/1.1\" 200 -\n",
      "127.0.0.1 - - [23/Apr/2023 13:12:59] \"POST //predict HTTP/1.1\" 200 -\n",
      "127.0.0.1 - - [23/Apr/2023 13:12:59] \"POST //predict HTTP/1.1\" 200 -\n",
      "127.0.0.1 - - [23/Apr/2023 13:12:59] \"POST //predict HTTP/1.1\" 200 -\n",
      "127.0.0.1 - - [23/Apr/2023 13:12:59] \"POST //predict HTTP/1.1\" 200 -\n",
      "127.0.0.1 - - [23/Apr/2023 13:12:59] \"POST //predict HTTP/1.1\" 200 -\n",
      "127.0.0.1 - - [23/Apr/2023 13:12:59] \"POST //predict HTTP/1.1\" 200 -\n",
      "127.0.0.1 - - [23/Apr/2023 13:12:59] \"POST //predict HTTP/1.1\" 200 -\n",
      "127.0.0.1 - - [23/Apr/2023 13:12:59] \"POST //predict HTTP/1.1\" 200 -\n",
      "127.0.0.1 - - [23/Apr/2023 13:12:59] \"POST //predict HTTP/1.1\" 200 -\n",
      "127.0.0.1 - - [23/Apr/2023 13:12:59] \"POST //predict HTTP/1.1\" 200 -\n",
      "127.0.0.1 - - [23/Apr/2023 13:12:59] \"POST //predict HTTP/1.1\" 200 -\n",
      "127.0.0.1 - - [23/Apr/2023 13:12:59] \"POST //predict HTTP/1.1\" 200 -\n"
     ]
    },
    {
     "name": "stdout",
     "output_type": "stream",
     "text": [
      "OK\n",
      "OK\n",
      "OK\n",
      "OK\n",
      "OK\n",
      "OK\n",
      "OK\n",
      "OK\n",
      "OK\n",
      "OK\n",
      "OK\n",
      "OK\n",
      "OK\n",
      "OK\n",
      "OK\n",
      "OK\n",
      "OK\n"
     ]
    },
    {
     "name": "stderr",
     "output_type": "stream",
     "text": [
      "127.0.0.1 - - [23/Apr/2023 13:12:59] \"POST //predict HTTP/1.1\" 200 -\n",
      "127.0.0.1 - - [23/Apr/2023 13:12:59] \"POST //predict HTTP/1.1\" 200 -\n",
      "127.0.0.1 - - [23/Apr/2023 13:12:59] \"POST //predict HTTP/1.1\" 200 -\n",
      "127.0.0.1 - - [23/Apr/2023 13:12:59] \"POST //predict HTTP/1.1\" 200 -\n",
      "127.0.0.1 - - [23/Apr/2023 13:12:59] \"POST //predict HTTP/1.1\" 200 -\n",
      "127.0.0.1 - - [23/Apr/2023 13:12:59] \"POST //predict HTTP/1.1\" 200 -\n",
      "127.0.0.1 - - [23/Apr/2023 13:12:59] \"POST //predict HTTP/1.1\" 200 -\n",
      "127.0.0.1 - - [23/Apr/2023 13:12:59] \"POST //predict HTTP/1.1\" 200 -\n",
      "127.0.0.1 - - [23/Apr/2023 13:12:59] \"POST //predict HTTP/1.1\" 200 -\n",
      "127.0.0.1 - - [23/Apr/2023 13:12:59] \"POST //predict HTTP/1.1\" 200 -\n",
      "127.0.0.1 - - [23/Apr/2023 13:12:59] \"POST //predict HTTP/1.1\" 200 -\n",
      "127.0.0.1 - - [23/Apr/2023 13:12:59] \"POST //predict HTTP/1.1\" 200 -\n",
      "127.0.0.1 - - [23/Apr/2023 13:12:59] \"POST //predict HTTP/1.1\" 200 -\n",
      "127.0.0.1 - - [23/Apr/2023 13:12:59] \"POST //predict HTTP/1.1\" 200 -\n",
      "127.0.0.1 - - [23/Apr/2023 13:12:59] \"POST //predict HTTP/1.1\" 200 -\n",
      "127.0.0.1 - - [23/Apr/2023 13:12:59] \"POST //predict HTTP/1.1\" 200 -\n",
      "127.0.0.1 - - [23/Apr/2023 13:12:59] \"POST //predict HTTP/1.1\" 200 -\n"
     ]
    },
    {
     "name": "stdout",
     "output_type": "stream",
     "text": [
      "OK\n",
      "OK\n",
      "OK\n",
      "OK\n",
      "OK\n",
      "OK\n",
      "OK\n",
      "OK\n",
      "OK\n",
      "OK\n",
      "OK\n",
      "OK\n",
      "OK\n",
      "OK\n",
      "OK\n",
      "OK\n",
      "OK\n"
     ]
    },
    {
     "name": "stderr",
     "output_type": "stream",
     "text": [
      "127.0.0.1 - - [23/Apr/2023 13:12:59] \"POST //predict HTTP/1.1\" 200 -\n",
      "127.0.0.1 - - [23/Apr/2023 13:12:59] \"POST //predict HTTP/1.1\" 200 -\n",
      "127.0.0.1 - - [23/Apr/2023 13:12:59] \"POST //predict HTTP/1.1\" 200 -\n",
      "127.0.0.1 - - [23/Apr/2023 13:12:59] \"POST //predict HTTP/1.1\" 200 -\n",
      "127.0.0.1 - - [23/Apr/2023 13:12:59] \"POST //predict HTTP/1.1\" 200 -\n",
      "127.0.0.1 - - [23/Apr/2023 13:12:59] \"POST //predict HTTP/1.1\" 200 -\n",
      "127.0.0.1 - - [23/Apr/2023 13:12:59] \"POST //predict HTTP/1.1\" 200 -\n",
      "127.0.0.1 - - [23/Apr/2023 13:12:59] \"POST //predict HTTP/1.1\" 200 -\n",
      "127.0.0.1 - - [23/Apr/2023 13:12:59] \"POST //predict HTTP/1.1\" 200 -\n",
      "127.0.0.1 - - [23/Apr/2023 13:12:59] \"POST //predict HTTP/1.1\" 200 -\n",
      "127.0.0.1 - - [23/Apr/2023 13:12:59] \"POST //predict HTTP/1.1\" 200 -\n",
      "127.0.0.1 - - [23/Apr/2023 13:12:59] \"POST //predict HTTP/1.1\" 200 -\n",
      "127.0.0.1 - - [23/Apr/2023 13:12:59] \"POST //predict HTTP/1.1\" 200 -\n",
      "127.0.0.1 - - [23/Apr/2023 13:12:59] \"POST //predict HTTP/1.1\" 200 -\n",
      "127.0.0.1 - - [23/Apr/2023 13:12:59] \"POST //predict HTTP/1.1\" 200 -\n",
      "127.0.0.1 - - [23/Apr/2023 13:12:59] \"POST //predict HTTP/1.1\" 200 -\n",
      "127.0.0.1 - - [23/Apr/2023 13:12:59] \"POST //predict HTTP/1.1\" 200 -\n"
     ]
    },
    {
     "name": "stdout",
     "output_type": "stream",
     "text": [
      "OK\n",
      "OK\n",
      "OK\n",
      "OK\n",
      "OK\n",
      "OK\n",
      "OK\n",
      "OK\n",
      "OK\n",
      "OK\n",
      "OK\n",
      "OK\n",
      "OK\n",
      "OK\n",
      "OK\n",
      "OK\n",
      "OK\n"
     ]
    },
    {
     "name": "stderr",
     "output_type": "stream",
     "text": [
      "127.0.0.1 - - [23/Apr/2023 13:12:59] \"POST //predict HTTP/1.1\" 200 -\n",
      "127.0.0.1 - - [23/Apr/2023 13:12:59] \"POST //predict HTTP/1.1\" 200 -\n",
      "127.0.0.1 - - [23/Apr/2023 13:12:59] \"POST //predict HTTP/1.1\" 200 -\n",
      "127.0.0.1 - - [23/Apr/2023 13:12:59] \"POST //predict HTTP/1.1\" 200 -\n",
      "127.0.0.1 - - [23/Apr/2023 13:12:59] \"POST //predict HTTP/1.1\" 200 -\n",
      "127.0.0.1 - - [23/Apr/2023 13:12:59] \"POST //predict HTTP/1.1\" 200 -\n",
      "127.0.0.1 - - [23/Apr/2023 13:12:59] \"POST //predict HTTP/1.1\" 200 -\n",
      "127.0.0.1 - - [23/Apr/2023 13:12:59] \"POST //predict HTTP/1.1\" 200 -\n",
      "127.0.0.1 - - [23/Apr/2023 13:12:59] \"POST //predict HTTP/1.1\" 200 -\n",
      "127.0.0.1 - - [23/Apr/2023 13:12:59] \"POST //predict HTTP/1.1\" 200 -\n",
      "127.0.0.1 - - [23/Apr/2023 13:12:59] \"POST //predict HTTP/1.1\" 200 -\n",
      "127.0.0.1 - - [23/Apr/2023 13:12:59] \"POST //predict HTTP/1.1\" 200 -\n",
      "127.0.0.1 - - [23/Apr/2023 13:12:59] \"POST //predict HTTP/1.1\" 200 -\n",
      "127.0.0.1 - - [23/Apr/2023 13:12:59] \"POST //predict HTTP/1.1\" 200 -\n",
      "127.0.0.1 - - [23/Apr/2023 13:12:59] \"POST //predict HTTP/1.1\" 200 -\n",
      "127.0.0.1 - - [23/Apr/2023 13:12:59] \"POST //predict HTTP/1.1\" 200 -\n",
      "127.0.0.1 - - [23/Apr/2023 13:12:59] \"POST //predict HTTP/1.1\" 200 -\n"
     ]
    },
    {
     "name": "stdout",
     "output_type": "stream",
     "text": [
      "OK\n",
      "OK\n",
      "OK\n",
      "OK\n",
      "OK\n",
      "OK\n",
      "OK\n",
      "OK\n",
      "OK\n",
      "OK\n",
      "OK\n",
      "OK\n",
      "OK\n",
      "OK\n",
      "OK\n",
      "OK\n",
      "OK\n"
     ]
    },
    {
     "name": "stderr",
     "output_type": "stream",
     "text": [
      "127.0.0.1 - - [23/Apr/2023 13:12:59] \"POST //predict HTTP/1.1\" 200 -\n",
      "127.0.0.1 - - [23/Apr/2023 13:12:59] \"POST //predict HTTP/1.1\" 200 -\n",
      "127.0.0.1 - - [23/Apr/2023 13:12:59] \"POST //predict HTTP/1.1\" 200 -\n",
      "127.0.0.1 - - [23/Apr/2023 13:12:59] \"POST //predict HTTP/1.1\" 200 -\n",
      "127.0.0.1 - - [23/Apr/2023 13:12:59] \"POST //predict HTTP/1.1\" 200 -\n",
      "127.0.0.1 - - [23/Apr/2023 13:12:59] \"POST //predict HTTP/1.1\" 200 -\n",
      "127.0.0.1 - - [23/Apr/2023 13:12:59] \"POST //predict HTTP/1.1\" 200 -\n",
      "127.0.0.1 - - [23/Apr/2023 13:12:59] \"POST //predict HTTP/1.1\" 200 -\n",
      "127.0.0.1 - - [23/Apr/2023 13:12:59] \"POST //predict HTTP/1.1\" 200 -\n",
      "127.0.0.1 - - [23/Apr/2023 13:12:59] \"POST //predict HTTP/1.1\" 200 -\n",
      "127.0.0.1 - - [23/Apr/2023 13:12:59] \"POST //predict HTTP/1.1\" 200 -\n",
      "127.0.0.1 - - [23/Apr/2023 13:12:59] \"POST //predict HTTP/1.1\" 200 -\n",
      "127.0.0.1 - - [23/Apr/2023 13:12:59] \"POST //predict HTTP/1.1\" 200 -\n",
      "127.0.0.1 - - [23/Apr/2023 13:12:59] \"POST //predict HTTP/1.1\" 200 -\n",
      "127.0.0.1 - - [23/Apr/2023 13:12:59] \"POST //predict HTTP/1.1\" 200 -\n",
      "127.0.0.1 - - [23/Apr/2023 13:12:59] \"POST //predict HTTP/1.1\" 200 -\n",
      "127.0.0.1 - - [23/Apr/2023 13:12:59] \"POST //predict HTTP/1.1\" 200 -\n"
     ]
    },
    {
     "name": "stdout",
     "output_type": "stream",
     "text": [
      "OK\n",
      "OK\n",
      "OK\n",
      "OK\n",
      "OK\n",
      "OK\n",
      "OK\n",
      "OK\n",
      "OK\n",
      "OK\n",
      "OK\n",
      "OK\n",
      "OK\n",
      "OK\n",
      "OK\n",
      "OK\n",
      "OK\n"
     ]
    },
    {
     "name": "stderr",
     "output_type": "stream",
     "text": [
      "127.0.0.1 - - [23/Apr/2023 13:13:00] \"POST //predict HTTP/1.1\" 200 -\n",
      "127.0.0.1 - - [23/Apr/2023 13:13:00] \"POST //predict HTTP/1.1\" 200 -\n",
      "127.0.0.1 - - [23/Apr/2023 13:13:00] \"POST //predict HTTP/1.1\" 200 -\n",
      "127.0.0.1 - - [23/Apr/2023 13:13:00] \"POST //predict HTTP/1.1\" 200 -\n",
      "127.0.0.1 - - [23/Apr/2023 13:13:00] \"POST //predict HTTP/1.1\" 200 -\n",
      "127.0.0.1 - - [23/Apr/2023 13:13:00] \"POST //predict HTTP/1.1\" 200 -\n",
      "127.0.0.1 - - [23/Apr/2023 13:13:00] \"POST //predict HTTP/1.1\" 200 -\n",
      "127.0.0.1 - - [23/Apr/2023 13:13:00] \"POST //predict HTTP/1.1\" 200 -\n",
      "127.0.0.1 - - [23/Apr/2023 13:13:00] \"POST //predict HTTP/1.1\" 200 -\n",
      "127.0.0.1 - - [23/Apr/2023 13:13:00] \"POST //predict HTTP/1.1\" 200 -\n",
      "127.0.0.1 - - [23/Apr/2023 13:13:00] \"POST //predict HTTP/1.1\" 200 -\n",
      "127.0.0.1 - - [23/Apr/2023 13:13:00] \"POST //predict HTTP/1.1\" 200 -\n",
      "127.0.0.1 - - [23/Apr/2023 13:13:00] \"POST //predict HTTP/1.1\" 200 -\n",
      "127.0.0.1 - - [23/Apr/2023 13:13:00] \"POST //predict HTTP/1.1\" 200 -\n",
      "127.0.0.1 - - [23/Apr/2023 13:13:00] \"POST //predict HTTP/1.1\" 200 -\n",
      "127.0.0.1 - - [23/Apr/2023 13:13:00] \"POST //predict HTTP/1.1\" 200 -\n"
     ]
    },
    {
     "name": "stdout",
     "output_type": "stream",
     "text": [
      "OK\n",
      "OK\n",
      "OK\n",
      "OK\n",
      "OK\n",
      "OK\n",
      "OK\n",
      "OK\n",
      "OK\n",
      "OK\n",
      "OK\n",
      "OK\n",
      "OK\n",
      "OK\n",
      "OK\n",
      "OK\n"
     ]
    },
    {
     "name": "stderr",
     "output_type": "stream",
     "text": [
      "127.0.0.1 - - [23/Apr/2023 13:13:00] \"POST //predict HTTP/1.1\" 200 -\n",
      "127.0.0.1 - - [23/Apr/2023 13:13:00] \"POST //predict HTTP/1.1\" 200 -\n",
      "127.0.0.1 - - [23/Apr/2023 13:13:00] \"POST //predict HTTP/1.1\" 200 -\n",
      "127.0.0.1 - - [23/Apr/2023 13:13:00] \"POST //predict HTTP/1.1\" 200 -\n",
      "127.0.0.1 - - [23/Apr/2023 13:13:00] \"POST //predict HTTP/1.1\" 200 -\n",
      "127.0.0.1 - - [23/Apr/2023 13:13:00] \"POST //predict HTTP/1.1\" 200 -\n",
      "127.0.0.1 - - [23/Apr/2023 13:13:00] \"POST //predict HTTP/1.1\" 200 -\n",
      "127.0.0.1 - - [23/Apr/2023 13:13:00] \"POST //predict HTTP/1.1\" 200 -\n",
      "127.0.0.1 - - [23/Apr/2023 13:13:00] \"POST //predict HTTP/1.1\" 200 -\n",
      "127.0.0.1 - - [23/Apr/2023 13:13:00] \"POST //predict HTTP/1.1\" 200 -\n",
      "127.0.0.1 - - [23/Apr/2023 13:13:00] \"POST //predict HTTP/1.1\" 200 -\n",
      "127.0.0.1 - - [23/Apr/2023 13:13:00] \"POST //predict HTTP/1.1\" 200 -\n",
      "127.0.0.1 - - [23/Apr/2023 13:13:00] \"POST //predict HTTP/1.1\" 200 -\n",
      "127.0.0.1 - - [23/Apr/2023 13:13:00] \"POST //predict HTTP/1.1\" 200 -\n",
      "127.0.0.1 - - [23/Apr/2023 13:13:00] \"POST //predict HTTP/1.1\" 200 -\n",
      "127.0.0.1 - - [23/Apr/2023 13:13:00] \"POST //predict HTTP/1.1\" 200 -\n"
     ]
    },
    {
     "name": "stdout",
     "output_type": "stream",
     "text": [
      "OK\n",
      "OK\n",
      "OK\n",
      "OK\n",
      "OK\n",
      "OK\n",
      "OK\n",
      "OK\n",
      "OK\n",
      "OK\n",
      "OK\n",
      "OK\n",
      "OK\n",
      "OK\n",
      "OK\n",
      "OK\n"
     ]
    },
    {
     "name": "stderr",
     "output_type": "stream",
     "text": [
      "127.0.0.1 - - [23/Apr/2023 13:13:00] \"POST //predict HTTP/1.1\" 200 -\n",
      "127.0.0.1 - - [23/Apr/2023 13:13:00] \"POST //predict HTTP/1.1\" 200 -\n",
      "127.0.0.1 - - [23/Apr/2023 13:13:00] \"POST //predict HTTP/1.1\" 200 -\n",
      "127.0.0.1 - - [23/Apr/2023 13:13:00] \"POST //predict HTTP/1.1\" 200 -\n",
      "127.0.0.1 - - [23/Apr/2023 13:13:00] \"POST //predict HTTP/1.1\" 200 -\n",
      "127.0.0.1 - - [23/Apr/2023 13:13:00] \"POST //predict HTTP/1.1\" 200 -\n",
      "127.0.0.1 - - [23/Apr/2023 13:13:00] \"POST //predict HTTP/1.1\" 200 -\n",
      "127.0.0.1 - - [23/Apr/2023 13:13:00] \"POST //predict HTTP/1.1\" 200 -\n",
      "127.0.0.1 - - [23/Apr/2023 13:13:00] \"POST //predict HTTP/1.1\" 200 -\n",
      "127.0.0.1 - - [23/Apr/2023 13:13:00] \"POST //predict HTTP/1.1\" 200 -\n",
      "127.0.0.1 - - [23/Apr/2023 13:13:00] \"POST //predict HTTP/1.1\" 200 -\n",
      "127.0.0.1 - - [23/Apr/2023 13:13:00] \"POST //predict HTTP/1.1\" 200 -\n",
      "127.0.0.1 - - [23/Apr/2023 13:13:00] \"POST //predict HTTP/1.1\" 200 -\n",
      "127.0.0.1 - - [23/Apr/2023 13:13:00] \"POST //predict HTTP/1.1\" 200 -\n",
      "127.0.0.1 - - [23/Apr/2023 13:13:00] \"POST //predict HTTP/1.1\" 200 -\n",
      "127.0.0.1 - - [23/Apr/2023 13:13:00] \"POST //predict HTTP/1.1\" 200 -\n",
      "127.0.0.1 - - [23/Apr/2023 13:13:00] \"POST //predict HTTP/1.1\" 200 -\n"
     ]
    },
    {
     "name": "stdout",
     "output_type": "stream",
     "text": [
      "OK\n",
      "OK\n",
      "OK\n",
      "OK\n",
      "OK\n",
      "OK\n",
      "OK\n",
      "OK\n",
      "OK\n",
      "OK\n",
      "OK\n",
      "OK\n",
      "OK\n",
      "OK\n",
      "OK\n",
      "OK\n",
      "OK\n"
     ]
    },
    {
     "name": "stderr",
     "output_type": "stream",
     "text": [
      "127.0.0.1 - - [23/Apr/2023 13:13:00] \"POST //predict HTTP/1.1\" 200 -\n",
      "127.0.0.1 - - [23/Apr/2023 13:13:00] \"POST //predict HTTP/1.1\" 200 -\n",
      "127.0.0.1 - - [23/Apr/2023 13:13:00] \"POST //predict HTTP/1.1\" 200 -\n",
      "127.0.0.1 - - [23/Apr/2023 13:13:00] \"POST //predict HTTP/1.1\" 200 -\n",
      "127.0.0.1 - - [23/Apr/2023 13:13:00] \"POST //predict HTTP/1.1\" 200 -\n",
      "127.0.0.1 - - [23/Apr/2023 13:13:00] \"POST //predict HTTP/1.1\" 200 -\n",
      "127.0.0.1 - - [23/Apr/2023 13:13:00] \"POST //predict HTTP/1.1\" 200 -\n",
      "127.0.0.1 - - [23/Apr/2023 13:13:00] \"POST //predict HTTP/1.1\" 200 -\n",
      "127.0.0.1 - - [23/Apr/2023 13:13:00] \"POST //predict HTTP/1.1\" 200 -\n",
      "127.0.0.1 - - [23/Apr/2023 13:13:00] \"POST //predict HTTP/1.1\" 200 -\n",
      "127.0.0.1 - - [23/Apr/2023 13:13:00] \"POST //predict HTTP/1.1\" 200 -\n",
      "127.0.0.1 - - [23/Apr/2023 13:13:00] \"POST //predict HTTP/1.1\" 200 -\n",
      "127.0.0.1 - - [23/Apr/2023 13:13:00] \"POST //predict HTTP/1.1\" 200 -\n",
      "127.0.0.1 - - [23/Apr/2023 13:13:00] \"POST //predict HTTP/1.1\" 200 -\n",
      "127.0.0.1 - - [23/Apr/2023 13:13:00] \"POST //predict HTTP/1.1\" 200 -\n",
      "127.0.0.1 - - [23/Apr/2023 13:13:00] \"POST //predict HTTP/1.1\" 200 -\n",
      "127.0.0.1 - - [23/Apr/2023 13:13:00] \"POST //predict HTTP/1.1\" 200 -\n"
     ]
    },
    {
     "name": "stdout",
     "output_type": "stream",
     "text": [
      "OK\n",
      "OK\n",
      "OK\n",
      "OK\n",
      "OK\n",
      "OK\n",
      "OK\n",
      "OK\n",
      "OK\n",
      "OK\n",
      "OK\n",
      "OK\n",
      "OK\n",
      "OK\n",
      "OK\n",
      "OK\n",
      "OK\n"
     ]
    },
    {
     "name": "stderr",
     "output_type": "stream",
     "text": [
      "127.0.0.1 - - [23/Apr/2023 13:13:00] \"POST //predict HTTP/1.1\" 200 -\n",
      "127.0.0.1 - - [23/Apr/2023 13:13:00] \"POST //predict HTTP/1.1\" 200 -\n",
      "127.0.0.1 - - [23/Apr/2023 13:13:00] \"POST //predict HTTP/1.1\" 200 -\n",
      "127.0.0.1 - - [23/Apr/2023 13:13:00] \"POST //predict HTTP/1.1\" 200 -\n",
      "127.0.0.1 - - [23/Apr/2023 13:13:00] \"POST //predict HTTP/1.1\" 200 -\n",
      "127.0.0.1 - - [23/Apr/2023 13:13:00] \"POST //predict HTTP/1.1\" 200 -\n",
      "127.0.0.1 - - [23/Apr/2023 13:13:00] \"POST //predict HTTP/1.1\" 200 -\n",
      "127.0.0.1 - - [23/Apr/2023 13:13:00] \"POST //predict HTTP/1.1\" 200 -\n",
      "127.0.0.1 - - [23/Apr/2023 13:13:00] \"POST //predict HTTP/1.1\" 200 -\n",
      "127.0.0.1 - - [23/Apr/2023 13:13:00] \"POST //predict HTTP/1.1\" 200 -\n",
      "127.0.0.1 - - [23/Apr/2023 13:13:00] \"POST //predict HTTP/1.1\" 200 -\n",
      "127.0.0.1 - - [23/Apr/2023 13:13:00] \"POST //predict HTTP/1.1\" 200 -\n",
      "127.0.0.1 - - [23/Apr/2023 13:13:00] \"POST //predict HTTP/1.1\" 200 -\n",
      "127.0.0.1 - - [23/Apr/2023 13:13:00] \"POST //predict HTTP/1.1\" 200 -\n",
      "127.0.0.1 - - [23/Apr/2023 13:13:00] \"POST //predict HTTP/1.1\" 200 -\n",
      "127.0.0.1 - - [23/Apr/2023 13:13:00] \"POST //predict HTTP/1.1\" 200 -\n"
     ]
    },
    {
     "name": "stdout",
     "output_type": "stream",
     "text": [
      "OK\n",
      "OK\n",
      "OK\n",
      "OK\n",
      "OK\n",
      "OK\n",
      "OK\n",
      "OK\n",
      "OK\n",
      "OK\n",
      "OK\n",
      "OK\n",
      "OK\n",
      "OK\n",
      "OK\n",
      "OK\n"
     ]
    },
    {
     "name": "stderr",
     "output_type": "stream",
     "text": [
      "127.0.0.1 - - [23/Apr/2023 13:13:00] \"POST //predict HTTP/1.1\" 200 -\n",
      "127.0.0.1 - - [23/Apr/2023 13:13:00] \"POST //predict HTTP/1.1\" 200 -\n",
      "127.0.0.1 - - [23/Apr/2023 13:13:00] \"POST //predict HTTP/1.1\" 200 -\n",
      "127.0.0.1 - - [23/Apr/2023 13:13:00] \"POST //predict HTTP/1.1\" 200 -\n",
      "127.0.0.1 - - [23/Apr/2023 13:13:01] \"POST //predict HTTP/1.1\" 200 -\n",
      "127.0.0.1 - - [23/Apr/2023 13:13:01] \"POST //predict HTTP/1.1\" 200 -\n",
      "127.0.0.1 - - [23/Apr/2023 13:13:01] \"POST //predict HTTP/1.1\" 200 -\n",
      "127.0.0.1 - - [23/Apr/2023 13:13:01] \"POST //predict HTTP/1.1\" 200 -\n",
      "127.0.0.1 - - [23/Apr/2023 13:13:01] \"POST //predict HTTP/1.1\" 200 -\n",
      "127.0.0.1 - - [23/Apr/2023 13:13:01] \"POST //predict HTTP/1.1\" 200 -\n",
      "127.0.0.1 - - [23/Apr/2023 13:13:01] \"POST //predict HTTP/1.1\" 200 -\n",
      "127.0.0.1 - - [23/Apr/2023 13:13:01] \"POST //predict HTTP/1.1\" 200 -\n",
      "127.0.0.1 - - [23/Apr/2023 13:13:01] \"POST //predict HTTP/1.1\" 200 -\n",
      "127.0.0.1 - - [23/Apr/2023 13:13:01] \"POST //predict HTTP/1.1\" 200 -\n",
      "127.0.0.1 - - [23/Apr/2023 13:13:01] \"POST //predict HTTP/1.1\" 200 -\n",
      "127.0.0.1 - - [23/Apr/2023 13:13:01] \"POST //predict HTTP/1.1\" 200 -\n",
      "127.0.0.1 - - [23/Apr/2023 13:13:01] \"POST //predict HTTP/1.1\" 200 -\n"
     ]
    },
    {
     "name": "stdout",
     "output_type": "stream",
     "text": [
      "OK\n",
      "OK\n",
      "OK\n",
      "OK\n",
      "OK\n",
      "OK\n",
      "OK\n",
      "OK\n",
      "OK\n",
      "OK\n",
      "OK\n",
      "OK\n",
      "OK\n",
      "OK\n",
      "OK\n",
      "OK\n",
      "OK\n"
     ]
    },
    {
     "name": "stderr",
     "output_type": "stream",
     "text": [
      "127.0.0.1 - - [23/Apr/2023 13:13:01] \"POST //predict HTTP/1.1\" 200 -\n",
      "127.0.0.1 - - [23/Apr/2023 13:13:01] \"POST //predict HTTP/1.1\" 200 -\n",
      "127.0.0.1 - - [23/Apr/2023 13:13:01] \"POST //predict HTTP/1.1\" 200 -\n",
      "127.0.0.1 - - [23/Apr/2023 13:13:01] \"POST //predict HTTP/1.1\" 200 -\n",
      "127.0.0.1 - - [23/Apr/2023 13:13:01] \"POST //predict HTTP/1.1\" 200 -\n",
      "127.0.0.1 - - [23/Apr/2023 13:13:01] \"POST //predict HTTP/1.1\" 200 -\n",
      "127.0.0.1 - - [23/Apr/2023 13:13:01] \"POST //predict HTTP/1.1\" 200 -\n",
      "127.0.0.1 - - [23/Apr/2023 13:13:01] \"POST //predict HTTP/1.1\" 200 -\n",
      "127.0.0.1 - - [23/Apr/2023 13:13:01] \"POST //predict HTTP/1.1\" 200 -\n",
      "127.0.0.1 - - [23/Apr/2023 13:13:01] \"POST //predict HTTP/1.1\" 200 -\n",
      "127.0.0.1 - - [23/Apr/2023 13:13:01] \"POST //predict HTTP/1.1\" 200 -\n",
      "127.0.0.1 - - [23/Apr/2023 13:13:01] \"POST //predict HTTP/1.1\" 200 -\n",
      "127.0.0.1 - - [23/Apr/2023 13:13:01] \"POST //predict HTTP/1.1\" 200 -\n",
      "127.0.0.1 - - [23/Apr/2023 13:13:01] \"POST //predict HTTP/1.1\" 200 -\n",
      "127.0.0.1 - - [23/Apr/2023 13:13:01] \"POST //predict HTTP/1.1\" 200 -\n",
      "127.0.0.1 - - [23/Apr/2023 13:13:01] \"POST //predict HTTP/1.1\" 200 -\n",
      "127.0.0.1 - - [23/Apr/2023 13:13:01] \"POST //predict HTTP/1.1\" 200 -\n"
     ]
    },
    {
     "name": "stdout",
     "output_type": "stream",
     "text": [
      "OK\n",
      "OK\n",
      "OK\n",
      "OK\n",
      "OK\n",
      "OK\n",
      "OK\n",
      "OK\n",
      "OK\n",
      "OK\n",
      "OK\n",
      "OK\n",
      "OK\n",
      "OK\n",
      "OK\n",
      "OK\n",
      "OK\n"
     ]
    },
    {
     "name": "stderr",
     "output_type": "stream",
     "text": [
      "127.0.0.1 - - [23/Apr/2023 13:13:01] \"POST //predict HTTP/1.1\" 200 -\n",
      "127.0.0.1 - - [23/Apr/2023 13:13:01] \"POST //predict HTTP/1.1\" 200 -\n",
      "127.0.0.1 - - [23/Apr/2023 13:13:01] \"POST //predict HTTP/1.1\" 200 -\n",
      "127.0.0.1 - - [23/Apr/2023 13:13:01] \"POST //predict HTTP/1.1\" 200 -\n",
      "127.0.0.1 - - [23/Apr/2023 13:13:01] \"POST //predict HTTP/1.1\" 200 -\n",
      "127.0.0.1 - - [23/Apr/2023 13:13:01] \"POST //predict HTTP/1.1\" 200 -\n",
      "127.0.0.1 - - [23/Apr/2023 13:13:01] \"POST //predict HTTP/1.1\" 200 -\n",
      "127.0.0.1 - - [23/Apr/2023 13:13:01] \"POST //predict HTTP/1.1\" 200 -\n",
      "127.0.0.1 - - [23/Apr/2023 13:13:01] \"POST //predict HTTP/1.1\" 200 -\n",
      "127.0.0.1 - - [23/Apr/2023 13:13:01] \"POST //predict HTTP/1.1\" 200 -\n",
      "127.0.0.1 - - [23/Apr/2023 13:13:01] \"POST //predict HTTP/1.1\" 200 -\n",
      "127.0.0.1 - - [23/Apr/2023 13:13:01] \"POST //predict HTTP/1.1\" 200 -\n",
      "127.0.0.1 - - [23/Apr/2023 13:13:01] \"POST //predict HTTP/1.1\" 200 -\n",
      "127.0.0.1 - - [23/Apr/2023 13:13:01] \"POST //predict HTTP/1.1\" 200 -\n",
      "127.0.0.1 - - [23/Apr/2023 13:13:01] \"POST //predict HTTP/1.1\" 200 -\n",
      "127.0.0.1 - - [23/Apr/2023 13:13:01] \"POST //predict HTTP/1.1\" 200 -\n",
      "127.0.0.1 - - [23/Apr/2023 13:13:01] \"POST //predict HTTP/1.1\" 200 -\n"
     ]
    },
    {
     "name": "stdout",
     "output_type": "stream",
     "text": [
      "OK\n",
      "OK\n",
      "OK\n",
      "OK\n",
      "OK\n",
      "OK\n",
      "OK\n",
      "OK\n",
      "OK\n",
      "OK\n",
      "OK\n",
      "OK\n",
      "OK\n",
      "OK\n",
      "OK\n",
      "OK\n",
      "OK\n"
     ]
    },
    {
     "name": "stderr",
     "output_type": "stream",
     "text": [
      "127.0.0.1 - - [23/Apr/2023 13:13:01] \"POST //predict HTTP/1.1\" 200 -\n",
      "127.0.0.1 - - [23/Apr/2023 13:13:01] \"POST //predict HTTP/1.1\" 200 -\n",
      "127.0.0.1 - - [23/Apr/2023 13:13:01] \"POST //predict HTTP/1.1\" 200 -\n",
      "127.0.0.1 - - [23/Apr/2023 13:13:01] \"POST //predict HTTP/1.1\" 200 -\n",
      "127.0.0.1 - - [23/Apr/2023 13:13:01] \"POST //predict HTTP/1.1\" 200 -\n",
      "127.0.0.1 - - [23/Apr/2023 13:13:01] \"POST //predict HTTP/1.1\" 200 -\n",
      "127.0.0.1 - - [23/Apr/2023 13:13:01] \"POST //predict HTTP/1.1\" 200 -\n",
      "127.0.0.1 - - [23/Apr/2023 13:13:01] \"POST //predict HTTP/1.1\" 200 -\n",
      "127.0.0.1 - - [23/Apr/2023 13:13:01] \"POST //predict HTTP/1.1\" 200 -\n",
      "127.0.0.1 - - [23/Apr/2023 13:13:01] \"POST //predict HTTP/1.1\" 200 -\n",
      "127.0.0.1 - - [23/Apr/2023 13:13:01] \"POST //predict HTTP/1.1\" 200 -\n",
      "127.0.0.1 - - [23/Apr/2023 13:13:01] \"POST //predict HTTP/1.1\" 200 -\n",
      "127.0.0.1 - - [23/Apr/2023 13:13:01] \"POST //predict HTTP/1.1\" 200 -\n",
      "127.0.0.1 - - [23/Apr/2023 13:13:01] \"POST //predict HTTP/1.1\" 200 -\n",
      "127.0.0.1 - - [23/Apr/2023 13:13:01] \"POST //predict HTTP/1.1\" 200 -\n"
     ]
    },
    {
     "name": "stdout",
     "output_type": "stream",
     "text": [
      "OK\n",
      "OK\n",
      "OK\n",
      "OK\n",
      "OK\n",
      "OK\n",
      "OK\n",
      "OK\n",
      "OK\n",
      "OK\n",
      "OK\n",
      "OK\n",
      "OK\n",
      "OK\n",
      "OK\n",
      "OK"
     ]
    },
    {
     "name": "stderr",
     "output_type": "stream",
     "text": [
      "127.0.0.1 - - [23/Apr/2023 13:13:01] \"POST //predict HTTP/1.1\" 200 -\n",
      "127.0.0.1 - - [23/Apr/2023 13:13:01] \"POST //predict HTTP/1.1\" 200 -\n",
      "127.0.0.1 - - [23/Apr/2023 13:13:01] \"POST //predict HTTP/1.1\" 200 -\n",
      "127.0.0.1 - - [23/Apr/2023 13:13:01] \"POST //predict HTTP/1.1\" 200 -\n",
      "127.0.0.1 - - [23/Apr/2023 13:13:01] \"POST //predict HTTP/1.1\" 200 -\n",
      "127.0.0.1 - - [23/Apr/2023 13:13:01] \"POST //predict HTTP/1.1\" 200 -\n",
      "127.0.0.1 - - [23/Apr/2023 13:13:01] \"POST //predict HTTP/1.1\" 200 -\n",
      "127.0.0.1 - - [23/Apr/2023 13:13:01] \"POST //predict HTTP/1.1\" 200 -\n",
      "127.0.0.1 - - [23/Apr/2023 13:13:01] \"POST //predict HTTP/1.1\" 200 -\n",
      "127.0.0.1 - - [23/Apr/2023 13:13:01] \"POST //predict HTTP/1.1\" 200 -\n",
      "127.0.0.1 - - [23/Apr/2023 13:13:01] \"POST //predict HTTP/1.1\" 200 -\n",
      "127.0.0.1 - - [23/Apr/2023 13:13:01] \"POST //predict HTTP/1.1\" 200 -\n",
      "127.0.0.1 - - [23/Apr/2023 13:13:01] \"POST //predict HTTP/1.1\" 200 -\n",
      "127.0.0.1 - - [23/Apr/2023 13:13:01] \"POST //predict HTTP/1.1\" 200 -\n",
      "127.0.0.1 - - [23/Apr/2023 13:13:01] \"POST //predict HTTP/1.1\" 200 -\n",
      "127.0.0.1 - - [23/Apr/2023 13:13:01] \"POST //predict HTTP/1.1\" 200 -\n",
      "127.0.0.1 - - [23/Apr/2023 13:13:01] \"POST //predict HTTP/1.1\" 200 -\n"
     ]
    },
    {
     "name": "stdout",
     "output_type": "stream",
     "text": [
      "\n",
      "OK\n",
      "OK\n",
      "OK\n",
      "OK\n",
      "OK\n",
      "OK\n",
      "OK\n",
      "OK\n",
      "OK\n",
      "OK\n",
      "OK\n",
      "OK\n",
      "OK\n",
      "OK\n",
      "OK\n",
      "OK\n"
     ]
    },
    {
     "name": "stderr",
     "output_type": "stream",
     "text": [
      "127.0.0.1 - - [23/Apr/2023 13:13:01] \"POST //predict HTTP/1.1\" 200 -\n",
      "127.0.0.1 - - [23/Apr/2023 13:13:01] \"POST //predict HTTP/1.1\" 200 -\n",
      "127.0.0.1 - - [23/Apr/2023 13:13:01] \"POST //predict HTTP/1.1\" 200 -\n",
      "127.0.0.1 - - [23/Apr/2023 13:13:01] \"POST //predict HTTP/1.1\" 200 -\n",
      "127.0.0.1 - - [23/Apr/2023 13:13:01] \"POST //predict HTTP/1.1\" 200 -\n",
      "127.0.0.1 - - [23/Apr/2023 13:13:01] \"POST //predict HTTP/1.1\" 200 -\n",
      "127.0.0.1 - - [23/Apr/2023 13:13:01] \"POST //predict HTTP/1.1\" 200 -\n",
      "127.0.0.1 - - [23/Apr/2023 13:13:02] \"POST //predict HTTP/1.1\" 200 -\n",
      "127.0.0.1 - - [23/Apr/2023 13:13:02] \"POST //predict HTTP/1.1\" 200 -\n",
      "127.0.0.1 - - [23/Apr/2023 13:13:02] \"POST //predict HTTP/1.1\" 200 -\n",
      "127.0.0.1 - - [23/Apr/2023 13:13:02] \"POST //predict HTTP/1.1\" 200 -\n",
      "127.0.0.1 - - [23/Apr/2023 13:13:02] \"POST //predict HTTP/1.1\" 200 -\n",
      "127.0.0.1 - - [23/Apr/2023 13:13:02] \"POST //predict HTTP/1.1\" 200 -\n",
      "127.0.0.1 - - [23/Apr/2023 13:13:02] \"POST //predict HTTP/1.1\" 200 -\n",
      "127.0.0.1 - - [23/Apr/2023 13:13:02] \"POST //predict HTTP/1.1\" 200 -\n",
      "127.0.0.1 - - [23/Apr/2023 13:13:02] \"POST //predict HTTP/1.1\" 200 -\n",
      "127.0.0.1 - - [23/Apr/2023 13:13:02] \"POST //predict HTTP/1.1\" 200 -\n"
     ]
    },
    {
     "name": "stdout",
     "output_type": "stream",
     "text": [
      "OK\n",
      "OK\n",
      "OK\n",
      "OK\n",
      "OK\n",
      "OK\n",
      "OK\n",
      "OK\n",
      "OK\n",
      "OK\n",
      "OK\n",
      "OK\n",
      "OK\n",
      "OK\n",
      "OK\n",
      "OK\n",
      "OK\n"
     ]
    },
    {
     "name": "stderr",
     "output_type": "stream",
     "text": [
      "127.0.0.1 - - [23/Apr/2023 13:13:02] \"POST //predict HTTP/1.1\" 200 -\n",
      "127.0.0.1 - - [23/Apr/2023 13:13:02] \"POST //predict HTTP/1.1\" 200 -\n",
      "127.0.0.1 - - [23/Apr/2023 13:13:02] \"POST //predict HTTP/1.1\" 200 -\n",
      "127.0.0.1 - - [23/Apr/2023 13:13:02] \"POST //predict HTTP/1.1\" 200 -\n",
      "127.0.0.1 - - [23/Apr/2023 13:13:02] \"POST //predict HTTP/1.1\" 200 -\n",
      "127.0.0.1 - - [23/Apr/2023 13:13:02] \"POST //predict HTTP/1.1\" 200 -\n",
      "127.0.0.1 - - [23/Apr/2023 13:13:02] \"POST //predict HTTP/1.1\" 200 -\n",
      "127.0.0.1 - - [23/Apr/2023 13:13:02] \"POST //predict HTTP/1.1\" 200 -\n",
      "127.0.0.1 - - [23/Apr/2023 13:13:02] \"POST //predict HTTP/1.1\" 200 -\n",
      "127.0.0.1 - - [23/Apr/2023 13:13:02] \"POST //predict HTTP/1.1\" 200 -\n",
      "127.0.0.1 - - [23/Apr/2023 13:13:02] \"POST //predict HTTP/1.1\" 200 -\n",
      "127.0.0.1 - - [23/Apr/2023 13:13:02] \"POST //predict HTTP/1.1\" 200 -\n",
      "127.0.0.1 - - [23/Apr/2023 13:13:02] \"POST //predict HTTP/1.1\" 200 -\n",
      "127.0.0.1 - - [23/Apr/2023 13:13:02] \"POST //predict HTTP/1.1\" 200 -\n",
      "127.0.0.1 - - [23/Apr/2023 13:13:02] \"POST //predict HTTP/1.1\" 200 -\n",
      "127.0.0.1 - - [23/Apr/2023 13:13:02] \"POST //predict HTTP/1.1\" 200 -\n",
      "127.0.0.1 - - [23/Apr/2023 13:13:02] \"POST //predict HTTP/1.1\" 200 -\n"
     ]
    },
    {
     "name": "stdout",
     "output_type": "stream",
     "text": [
      "OK\n",
      "OK\n",
      "OK\n",
      "OK\n",
      "OK\n",
      "OK\n",
      "OK\n",
      "OK\n",
      "OK\n",
      "OK\n",
      "OK\n",
      "OK\n",
      "OK\n",
      "OK\n",
      "OK\n",
      "OK\n",
      "OK\n",
      "OK"
     ]
    },
    {
     "name": "stderr",
     "output_type": "stream",
     "text": [
      "127.0.0.1 - - [23/Apr/2023 13:13:02] \"POST //predict HTTP/1.1\" 200 -\n",
      "127.0.0.1 - - [23/Apr/2023 13:13:02] \"POST //predict HTTP/1.1\" 200 -\n",
      "127.0.0.1 - - [23/Apr/2023 13:13:02] \"POST //predict HTTP/1.1\" 200 -\n",
      "127.0.0.1 - - [23/Apr/2023 13:13:02] \"POST //predict HTTP/1.1\" 200 -\n",
      "127.0.0.1 - - [23/Apr/2023 13:13:02] \"POST //predict HTTP/1.1\" 200 -\n",
      "127.0.0.1 - - [23/Apr/2023 13:13:02] \"POST //predict HTTP/1.1\" 200 -\n",
      "127.0.0.1 - - [23/Apr/2023 13:13:02] \"POST //predict HTTP/1.1\" 200 -\n",
      "127.0.0.1 - - [23/Apr/2023 13:13:02] \"POST //predict HTTP/1.1\" 200 -\n",
      "127.0.0.1 - - [23/Apr/2023 13:13:02] \"POST //predict HTTP/1.1\" 200 -\n",
      "127.0.0.1 - - [23/Apr/2023 13:13:02] \"POST //predict HTTP/1.1\" 200 -\n",
      "127.0.0.1 - - [23/Apr/2023 13:13:02] \"POST //predict HTTP/1.1\" 200 -\n",
      "127.0.0.1 - - [23/Apr/2023 13:13:02] \"POST //predict HTTP/1.1\" 200 -\n",
      "127.0.0.1 - - [23/Apr/2023 13:13:02] \"POST //predict HTTP/1.1\" 200 -\n",
      "127.0.0.1 - - [23/Apr/2023 13:13:02] \"POST //predict HTTP/1.1\" 200 -\n",
      "127.0.0.1 - - [23/Apr/2023 13:13:02] \"POST //predict HTTP/1.1\" 200 -\n",
      "127.0.0.1 - - [23/Apr/2023 13:13:02] \"POST //predict HTTP/1.1\" 200 -\n",
      "127.0.0.1 - - [23/Apr/2023 13:13:02] \"POST //predict HTTP/1.1\" 200 -\n"
     ]
    },
    {
     "name": "stdout",
     "output_type": "stream",
     "text": [
      "\n",
      "OK\n",
      "OK\n",
      "OK\n",
      "OK\n",
      "OK\n",
      "OK\n",
      "OK\n",
      "OK\n",
      "OK\n",
      "OK\n",
      "OK\n",
      "OK\n",
      "OK\n",
      "OK\n",
      "OK\n",
      "OK\n"
     ]
    },
    {
     "name": "stderr",
     "output_type": "stream",
     "text": [
      "127.0.0.1 - - [23/Apr/2023 13:13:02] \"POST //predict HTTP/1.1\" 200 -\n",
      "127.0.0.1 - - [23/Apr/2023 13:13:02] \"POST //predict HTTP/1.1\" 200 -\n",
      "127.0.0.1 - - [23/Apr/2023 13:13:02] \"POST //predict HTTP/1.1\" 200 -\n",
      "127.0.0.1 - - [23/Apr/2023 13:13:02] \"POST //predict HTTP/1.1\" 200 -\n",
      "127.0.0.1 - - [23/Apr/2023 13:13:02] \"POST //predict HTTP/1.1\" 200 -\n",
      "127.0.0.1 - - [23/Apr/2023 13:13:02] \"POST //predict HTTP/1.1\" 200 -\n",
      "127.0.0.1 - - [23/Apr/2023 13:13:02] \"POST //predict HTTP/1.1\" 200 -\n",
      "127.0.0.1 - - [23/Apr/2023 13:13:02] \"POST //predict HTTP/1.1\" 200 -\n",
      "127.0.0.1 - - [23/Apr/2023 13:13:02] \"POST //predict HTTP/1.1\" 200 -\n",
      "127.0.0.1 - - [23/Apr/2023 13:13:02] \"POST //predict HTTP/1.1\" 200 -\n",
      "127.0.0.1 - - [23/Apr/2023 13:13:02] \"POST //predict HTTP/1.1\" 200 -\n",
      "127.0.0.1 - - [23/Apr/2023 13:13:02] \"POST //predict HTTP/1.1\" 200 -\n",
      "127.0.0.1 - - [23/Apr/2023 13:13:02] \"POST //predict HTTP/1.1\" 200 -\n",
      "127.0.0.1 - - [23/Apr/2023 13:13:02] \"POST //predict HTTP/1.1\" 200 -\n",
      "127.0.0.1 - - [23/Apr/2023 13:13:02] \"POST //predict HTTP/1.1\" 200 -\n",
      "127.0.0.1 - - [23/Apr/2023 13:13:02] \"POST //predict HTTP/1.1\" 200 -\n",
      "127.0.0.1 - - [23/Apr/2023 13:13:02] \"POST //predict HTTP/1.1\" 200 -\n",
      "127.0.0.1 - - [23/Apr/2023 13:13:02] \"POST //predict HTTP/1.1\" 200 -\n"
     ]
    },
    {
     "name": "stdout",
     "output_type": "stream",
     "text": [
      "OK\n",
      "OK\n",
      "OK\n",
      "OK\n",
      "OK\n",
      "OK\n",
      "OK\n",
      "OK\n",
      "OK\n",
      "OK\n",
      "OK\n",
      "OK\n",
      "OK\n",
      "OK\n",
      "OK\n",
      "OK\n",
      "OK\n",
      "OK\n"
     ]
    },
    {
     "name": "stderr",
     "output_type": "stream",
     "text": [
      "127.0.0.1 - - [23/Apr/2023 13:13:02] \"POST //predict HTTP/1.1\" 200 -\n",
      "127.0.0.1 - - [23/Apr/2023 13:13:02] \"POST //predict HTTP/1.1\" 200 -\n",
      "127.0.0.1 - - [23/Apr/2023 13:13:02] \"POST //predict HTTP/1.1\" 200 -\n",
      "127.0.0.1 - - [23/Apr/2023 13:13:02] \"POST //predict HTTP/1.1\" 200 -\n",
      "127.0.0.1 - - [23/Apr/2023 13:13:02] \"POST //predict HTTP/1.1\" 200 -\n",
      "127.0.0.1 - - [23/Apr/2023 13:13:02] \"POST //predict HTTP/1.1\" 200 -\n",
      "127.0.0.1 - - [23/Apr/2023 13:13:02] \"POST //predict HTTP/1.1\" 200 -\n",
      "127.0.0.1 - - [23/Apr/2023 13:13:02] \"POST //predict HTTP/1.1\" 200 -\n",
      "127.0.0.1 - - [23/Apr/2023 13:13:02] \"POST //predict HTTP/1.1\" 200 -\n",
      "127.0.0.1 - - [23/Apr/2023 13:13:02] \"POST //predict HTTP/1.1\" 200 -\n",
      "127.0.0.1 - - [23/Apr/2023 13:13:02] \"POST //predict HTTP/1.1\" 200 -\n",
      "127.0.0.1 - - [23/Apr/2023 13:13:02] \"POST //predict HTTP/1.1\" 200 -\n",
      "127.0.0.1 - - [23/Apr/2023 13:13:02] \"POST //predict HTTP/1.1\" 200 -\n",
      "127.0.0.1 - - [23/Apr/2023 13:13:02] \"POST //predict HTTP/1.1\" 200 -\n",
      "127.0.0.1 - - [23/Apr/2023 13:13:02] \"POST //predict HTTP/1.1\" 200 -\n",
      "127.0.0.1 - - [23/Apr/2023 13:13:02] \"POST //predict HTTP/1.1\" 200 -\n",
      "127.0.0.1 - - [23/Apr/2023 13:13:02] \"POST //predict HTTP/1.1\" 200 -\n"
     ]
    },
    {
     "name": "stdout",
     "output_type": "stream",
     "text": [
      "OK\n",
      "OK\n",
      "OK\n",
      "OK\n",
      "OK\n",
      "OK\n",
      "OK\n",
      "OK\n",
      "OK\n",
      "OK\n",
      "OK\n",
      "OK\n",
      "OK\n",
      "OK\n",
      "OK\n",
      "OK\n",
      "OK\n",
      "OK"
     ]
    },
    {
     "name": "stderr",
     "output_type": "stream",
     "text": [
      "127.0.0.1 - - [23/Apr/2023 13:13:02] \"POST //predict HTTP/1.1\" 200 -\n",
      "127.0.0.1 - - [23/Apr/2023 13:13:02] \"POST //predict HTTP/1.1\" 200 -\n",
      "127.0.0.1 - - [23/Apr/2023 13:13:02] \"POST //predict HTTP/1.1\" 200 -\n",
      "127.0.0.1 - - [23/Apr/2023 13:13:02] \"POST //predict HTTP/1.1\" 200 -\n",
      "127.0.0.1 - - [23/Apr/2023 13:13:02] \"POST //predict HTTP/1.1\" 200 -\n",
      "127.0.0.1 - - [23/Apr/2023 13:13:02] \"POST //predict HTTP/1.1\" 200 -\n",
      "127.0.0.1 - - [23/Apr/2023 13:13:02] \"POST //predict HTTP/1.1\" 200 -\n",
      "127.0.0.1 - - [23/Apr/2023 13:13:02] \"POST //predict HTTP/1.1\" 200 -\n",
      "127.0.0.1 - - [23/Apr/2023 13:13:02] \"POST //predict HTTP/1.1\" 200 -\n",
      "127.0.0.1 - - [23/Apr/2023 13:13:03] \"POST //predict HTTP/1.1\" 200 -\n",
      "127.0.0.1 - - [23/Apr/2023 13:13:03] \"POST //predict HTTP/1.1\" 200 -\n",
      "127.0.0.1 - - [23/Apr/2023 13:13:03] \"POST //predict HTTP/1.1\" 200 -\n",
      "127.0.0.1 - - [23/Apr/2023 13:13:03] \"POST //predict HTTP/1.1\" 200 -\n",
      "127.0.0.1 - - [23/Apr/2023 13:13:03] \"POST //predict HTTP/1.1\" 200 -\n",
      "127.0.0.1 - - [23/Apr/2023 13:13:03] \"POST //predict HTTP/1.1\" 200 -\n",
      "127.0.0.1 - - [23/Apr/2023 13:13:03] \"POST //predict HTTP/1.1\" 200 -\n"
     ]
    },
    {
     "name": "stdout",
     "output_type": "stream",
     "text": [
      "\n",
      "OK\n",
      "OK\n",
      "OK\n",
      "OK\n",
      "OK\n",
      "OK\n",
      "OK\n",
      "OK\n",
      "OK\n",
      "OK\n",
      "OK\n",
      "OK\n",
      "OK\n",
      "OK\n",
      "OK\n",
      "OK"
     ]
    },
    {
     "name": "stderr",
     "output_type": "stream",
     "text": [
      "127.0.0.1 - - [23/Apr/2023 13:13:03] \"POST //predict HTTP/1.1\" 200 -\n",
      "127.0.0.1 - - [23/Apr/2023 13:13:03] \"POST //predict HTTP/1.1\" 200 -\n",
      "127.0.0.1 - - [23/Apr/2023 13:13:03] \"POST //predict HTTP/1.1\" 200 -\n",
      "127.0.0.1 - - [23/Apr/2023 13:13:03] \"POST //predict HTTP/1.1\" 200 -\n",
      "127.0.0.1 - - [23/Apr/2023 13:13:03] \"POST //predict HTTP/1.1\" 200 -\n",
      "127.0.0.1 - - [23/Apr/2023 13:13:03] \"POST //predict HTTP/1.1\" 200 -\n",
      "127.0.0.1 - - [23/Apr/2023 13:13:03] \"POST //predict HTTP/1.1\" 200 -\n",
      "127.0.0.1 - - [23/Apr/2023 13:13:03] \"POST //predict HTTP/1.1\" 200 -\n",
      "127.0.0.1 - - [23/Apr/2023 13:13:03] \"POST //predict HTTP/1.1\" 200 -\n",
      "127.0.0.1 - - [23/Apr/2023 13:13:03] \"POST //predict HTTP/1.1\" 200 -\n",
      "127.0.0.1 - - [23/Apr/2023 13:13:03] \"POST //predict HTTP/1.1\" 200 -\n",
      "127.0.0.1 - - [23/Apr/2023 13:13:03] \"POST //predict HTTP/1.1\" 200 -\n",
      "127.0.0.1 - - [23/Apr/2023 13:13:03] \"POST //predict HTTP/1.1\" 200 -\n",
      "127.0.0.1 - - [23/Apr/2023 13:13:03] \"POST //predict HTTP/1.1\" 200 -\n",
      "127.0.0.1 - - [23/Apr/2023 13:13:03] \"POST //predict HTTP/1.1\" 200 -\n",
      "127.0.0.1 - - [23/Apr/2023 13:13:03] \"POST //predict HTTP/1.1\" 200 -\n"
     ]
    },
    {
     "name": "stdout",
     "output_type": "stream",
     "text": [
      "\n",
      "OK\n",
      "OK\n",
      "OK\n",
      "OK\n",
      "OK\n",
      "OK\n",
      "OK\n",
      "OK\n",
      "OK\n",
      "OK\n",
      "OK\n",
      "OK\n",
      "OK\n",
      "OK\n",
      "OK\n",
      "OK"
     ]
    },
    {
     "name": "stderr",
     "output_type": "stream",
     "text": [
      "127.0.0.1 - - [23/Apr/2023 13:13:03] \"POST //predict HTTP/1.1\" 200 -\n",
      "127.0.0.1 - - [23/Apr/2023 13:13:03] \"POST //predict HTTP/1.1\" 200 -\n",
      "127.0.0.1 - - [23/Apr/2023 13:13:03] \"POST //predict HTTP/1.1\" 200 -\n",
      "127.0.0.1 - - [23/Apr/2023 13:13:03] \"POST //predict HTTP/1.1\" 200 -\n",
      "127.0.0.1 - - [23/Apr/2023 13:13:03] \"POST //predict HTTP/1.1\" 200 -\n",
      "127.0.0.1 - - [23/Apr/2023 13:13:03] \"POST //predict HTTP/1.1\" 200 -\n",
      "127.0.0.1 - - [23/Apr/2023 13:13:03] \"POST //predict HTTP/1.1\" 200 -\n",
      "127.0.0.1 - - [23/Apr/2023 13:13:03] \"POST //predict HTTP/1.1\" 200 -\n",
      "127.0.0.1 - - [23/Apr/2023 13:13:03] \"POST //predict HTTP/1.1\" 200 -\n",
      "127.0.0.1 - - [23/Apr/2023 13:13:03] \"POST //predict HTTP/1.1\" 200 -\n",
      "127.0.0.1 - - [23/Apr/2023 13:13:03] \"POST //predict HTTP/1.1\" 200 -\n",
      "127.0.0.1 - - [23/Apr/2023 13:13:03] \"POST //predict HTTP/1.1\" 200 -\n",
      "127.0.0.1 - - [23/Apr/2023 13:13:03] \"POST //predict HTTP/1.1\" 200 -\n",
      "127.0.0.1 - - [23/Apr/2023 13:13:03] \"POST //predict HTTP/1.1\" 200 -\n",
      "127.0.0.1 - - [23/Apr/2023 13:13:03] \"POST //predict HTTP/1.1\" 200 -\n",
      "127.0.0.1 - - [23/Apr/2023 13:13:03] \"POST //predict HTTP/1.1\" 200 -\n",
      "127.0.0.1 - - [23/Apr/2023 13:13:03] \"POST //predict HTTP/1.1\" 200 -\n",
      "127.0.0.1 - - [23/Apr/2023 13:13:03] \"POST //predict HTTP/1.1\" 200 -\n"
     ]
    },
    {
     "name": "stdout",
     "output_type": "stream",
     "text": [
      "\n",
      "OK\n",
      "OK\n",
      "OK\n",
      "OK\n",
      "OK\n",
      "OK\n",
      "OK\n",
      "OK\n",
      "OK\n",
      "OK\n",
      "OK\n",
      "OK\n",
      "OK\n",
      "OK\n",
      "OK\n",
      "OK\n",
      "OK\n"
     ]
    },
    {
     "name": "stderr",
     "output_type": "stream",
     "text": [
      "127.0.0.1 - - [23/Apr/2023 13:13:03] \"POST //predict HTTP/1.1\" 200 -\n",
      "127.0.0.1 - - [23/Apr/2023 13:13:03] \"POST //predict HTTP/1.1\" 200 -\n",
      "127.0.0.1 - - [23/Apr/2023 13:13:03] \"POST //predict HTTP/1.1\" 200 -\n",
      "127.0.0.1 - - [23/Apr/2023 13:13:03] \"POST //predict HTTP/1.1\" 200 -\n",
      "127.0.0.1 - - [23/Apr/2023 13:13:03] \"POST //predict HTTP/1.1\" 200 -\n",
      "127.0.0.1 - - [23/Apr/2023 13:13:03] \"POST //predict HTTP/1.1\" 200 -\n",
      "127.0.0.1 - - [23/Apr/2023 13:13:03] \"POST //predict HTTP/1.1\" 200 -\n",
      "127.0.0.1 - - [23/Apr/2023 13:13:03] \"POST //predict HTTP/1.1\" 200 -\n",
      "127.0.0.1 - - [23/Apr/2023 13:13:03] \"POST //predict HTTP/1.1\" 200 -\n",
      "127.0.0.1 - - [23/Apr/2023 13:13:03] \"POST //predict HTTP/1.1\" 200 -\n",
      "127.0.0.1 - - [23/Apr/2023 13:13:03] \"POST //predict HTTP/1.1\" 200 -\n",
      "127.0.0.1 - - [23/Apr/2023 13:13:03] \"POST //predict HTTP/1.1\" 200 -\n",
      "127.0.0.1 - - [23/Apr/2023 13:13:03] \"POST //predict HTTP/1.1\" 200 -\n",
      "127.0.0.1 - - [23/Apr/2023 13:13:03] \"POST //predict HTTP/1.1\" 200 -\n",
      "127.0.0.1 - - [23/Apr/2023 13:13:03] \"POST //predict HTTP/1.1\" 200 -\n",
      "127.0.0.1 - - [23/Apr/2023 13:13:03] \"POST //predict HTTP/1.1\" 200 -\n",
      "127.0.0.1 - - [23/Apr/2023 13:13:03] \"POST //predict HTTP/1.1\" 200 -\n"
     ]
    },
    {
     "name": "stdout",
     "output_type": "stream",
     "text": [
      "OK\n",
      "OK\n",
      "OK\n",
      "OK\n",
      "OK\n",
      "OK\n",
      "OK\n",
      "OK\n",
      "OK\n",
      "OK\n",
      "OK\n",
      "OK\n",
      "OK\n",
      "OK\n",
      "OK\n",
      "OK\n",
      "OK\n"
     ]
    },
    {
     "name": "stderr",
     "output_type": "stream",
     "text": [
      "127.0.0.1 - - [23/Apr/2023 13:13:03] \"POST //predict HTTP/1.1\" 200 -\n",
      "127.0.0.1 - - [23/Apr/2023 13:13:03] \"POST //predict HTTP/1.1\" 200 -\n",
      "127.0.0.1 - - [23/Apr/2023 13:13:03] \"POST //predict HTTP/1.1\" 200 -\n",
      "127.0.0.1 - - [23/Apr/2023 13:13:03] \"POST //predict HTTP/1.1\" 200 -\n",
      "127.0.0.1 - - [23/Apr/2023 13:13:03] \"POST //predict HTTP/1.1\" 200 -\n",
      "127.0.0.1 - - [23/Apr/2023 13:13:03] \"POST //predict HTTP/1.1\" 200 -\n",
      "127.0.0.1 - - [23/Apr/2023 13:13:03] \"POST //predict HTTP/1.1\" 200 -\n",
      "127.0.0.1 - - [23/Apr/2023 13:13:03] \"POST //predict HTTP/1.1\" 200 -\n",
      "127.0.0.1 - - [23/Apr/2023 13:13:03] \"POST //predict HTTP/1.1\" 200 -\n",
      "127.0.0.1 - - [23/Apr/2023 13:13:03] \"POST //predict HTTP/1.1\" 200 -\n",
      "127.0.0.1 - - [23/Apr/2023 13:13:03] \"POST //predict HTTP/1.1\" 200 -\n",
      "127.0.0.1 - - [23/Apr/2023 13:13:03] \"POST //predict HTTP/1.1\" 200 -\n",
      "127.0.0.1 - - [23/Apr/2023 13:13:03] \"POST //predict HTTP/1.1\" 200 -\n",
      "127.0.0.1 - - [23/Apr/2023 13:13:03] \"POST //predict HTTP/1.1\" 200 -\n",
      "127.0.0.1 - - [23/Apr/2023 13:13:03] \"POST //predict HTTP/1.1\" 200 -\n",
      "127.0.0.1 - - [23/Apr/2023 13:13:03] \"POST //predict HTTP/1.1\" 200 -\n",
      "127.0.0.1 - - [23/Apr/2023 13:13:03] \"POST //predict HTTP/1.1\" 200 -\n"
     ]
    },
    {
     "name": "stdout",
     "output_type": "stream",
     "text": [
      "OK\n",
      "OK\n",
      "OK\n",
      "OK\n",
      "OK\n",
      "OK\n",
      "OK\n",
      "OK\n",
      "OK\n",
      "OK\n",
      "OK\n",
      "OK\n",
      "OK\n",
      "OK\n",
      "OK\n",
      "OK\n",
      "OK\n"
     ]
    },
    {
     "name": "stderr",
     "output_type": "stream",
     "text": [
      "127.0.0.1 - - [23/Apr/2023 13:13:03] \"POST //predict HTTP/1.1\" 200 -\n",
      "127.0.0.1 - - [23/Apr/2023 13:13:03] \"POST //predict HTTP/1.1\" 200 -\n",
      "127.0.0.1 - - [23/Apr/2023 13:13:03] \"POST //predict HTTP/1.1\" 200 -\n",
      "127.0.0.1 - - [23/Apr/2023 13:13:03] \"POST //predict HTTP/1.1\" 200 -\n",
      "127.0.0.1 - - [23/Apr/2023 13:13:03] \"POST //predict HTTP/1.1\" 200 -\n",
      "127.0.0.1 - - [23/Apr/2023 13:13:03] \"POST //predict HTTP/1.1\" 200 -\n",
      "127.0.0.1 - - [23/Apr/2023 13:13:03] \"POST //predict HTTP/1.1\" 200 -\n",
      "127.0.0.1 - - [23/Apr/2023 13:13:03] \"POST //predict HTTP/1.1\" 200 -\n",
      "127.0.0.1 - - [23/Apr/2023 13:13:03] \"POST //predict HTTP/1.1\" 200 -\n",
      "127.0.0.1 - - [23/Apr/2023 13:13:03] \"POST //predict HTTP/1.1\" 200 -\n",
      "127.0.0.1 - - [23/Apr/2023 13:13:03] \"POST //predict HTTP/1.1\" 200 -\n",
      "127.0.0.1 - - [23/Apr/2023 13:13:03] \"POST //predict HTTP/1.1\" 200 -\n",
      "127.0.0.1 - - [23/Apr/2023 13:13:04] \"POST //predict HTTP/1.1\" 200 -\n",
      "127.0.0.1 - - [23/Apr/2023 13:13:04] \"POST //predict HTTP/1.1\" 200 -\n"
     ]
    },
    {
     "name": "stdout",
     "output_type": "stream",
     "text": [
      "OK\n",
      "OK\n",
      "OK\n",
      "OK\n",
      "OK\n",
      "OK\n",
      "OK\n",
      "OK\n",
      "OK\n",
      "OK\n",
      "OK\n",
      "OK\n",
      "OK\n",
      "OK\n"
     ]
    }
   ],
   "source": [
    "app = Flask(__name__)\n",
    "\n",
    "@app.route(\"/\", methods=[\"GET\"])\n",
    "def general():\n",
    "    return \"Welcome to prediction process\"\n",
    "\n",
    "@app.route('/predict', methods=['POST'])\n",
    "def predict():\n",
    "    data = {\"success\": False}\n",
    "\n",
    "    # ensure an image was properly uploaded to our endpoint\n",
    "    features={el: 0 for el in ['age', 'gender', 'height', 'weight', 'ap_hi', 'ap_lo',\n",
    "       'cholesterol', 'gluc', 'smoke', 'alco', 'active']}\n",
    "    request_json = request.get_json()\n",
    "    \n",
    "    for feature in features.keys():\n",
    "        if request_json[feature]:\n",
    "            features[feature] = [request_json[feature]]\n",
    "            \n",
    "\n",
    "    preds = pipeline.predict_proba(pd.DataFrame(features))\n",
    "    data[\"predictions\"] = preds[:, 1][0]\n",
    "    \n",
    "        # indicate that the request was a success\n",
    "    data[\"success\"] = True\n",
    "    print('OK')\n",
    "\n",
    "        # return the data dictionary as a JSON response\n",
    "    return jsonify(data)\n",
    "\n",
    "\n",
    "if __name__ == '__main__':\n",
    "    app.run()"
   ]
  },
  {
   "cell_type": "code",
   "execution_count": null,
   "id": "15e42dc3",
   "metadata": {},
   "outputs": [],
   "source": []
  }
 ],
 "metadata": {
  "kernelspec": {
   "display_name": "Python 3",
   "language": "python",
   "name": "python3"
  },
  "language_info": {
   "codemirror_mode": {
    "name": "ipython",
    "version": 3
   },
   "file_extension": ".py",
   "mimetype": "text/x-python",
   "name": "python",
   "nbconvert_exporter": "python",
   "pygments_lexer": "ipython3",
   "version": "3.9.3"
  }
 },
 "nbformat": 4,
 "nbformat_minor": 5
}
