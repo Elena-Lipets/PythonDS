{
 "cells": [
  {
   "cell_type": "code",
   "execution_count": 1,
   "id": "7b9cd52c",
   "metadata": {},
   "outputs": [],
   "source": [
    "import numpy as np\n",
    "import pandas as pd\n",
    "import matplotlib.pyplot as plt\n",
    "import warnings \n",
    "warnings.filterwarnings('ignore')\n",
    "%matplotlib inline"
   ]
  },
  {
   "cell_type": "code",
   "execution_count": 2,
   "id": "66993528",
   "metadata": {},
   "outputs": [],
   "source": [
    "from sklearn.preprocessing import KBinsDiscretizer, StandardScaler"
   ]
  },
  {
   "cell_type": "code",
   "execution_count": 3,
   "id": "c764ef58",
   "metadata": {},
   "outputs": [],
   "source": [
    "from sklearn.pipeline import Pipeline, FeatureUnion\n",
    "from sklearn.base import BaseEstimator, TransformerMixin\n",
    "from sklearn.linear_model import LogisticRegression\n",
    "from sklearn.ensemble import RandomForestClassifier, GradientBoostingClassifier"
   ]
  },
  {
   "cell_type": "code",
   "execution_count": 4,
   "id": "b03c2b57",
   "metadata": {},
   "outputs": [],
   "source": [
    "from sklearn.metrics import f1_score, precision_score, recall_score, precision_recall_curve, confusion_matrix"
   ]
  },
  {
   "cell_type": "markdown",
   "id": "1dc280df",
   "metadata": {},
   "source": [
    "Описание данных\n",
    "\n",
    "https://archive.ics.uci.edu/ml/datasets/Cardiotocography\n",
    "\n",
    "Data Set Information:\n",
    "\n",
    "2126 fetal cardiotocograms (CTGs) were automatically processed and the respective diagnostic features measured. The CTGs were also classified by three expert obstetricians and a consensus classification label assigned to each of them. Classification was both with respect to a morphologic pattern (A, B, C. ...) and to a fetal state (N, S, P). Therefore the dataset can be used either for 10-class or 3-class experiments.\n",
    "\n",
    "// Столбец с 10 классами удалила\n",
    "\n",
    "\n",
    "Attribute Information:\n",
    "\n",
    "LB - FHR baseline (beats per minute)\n",
    "AC - # of accelerations per second\n",
    "FM - # of fetal movements per second\n",
    "UC - # of uterine contractions per second\n",
    "DL - # of light decelerations per second\n",
    "DS - # of severe decelerations per second\n",
    "DP - # of prolongued decelerations per second\n",
    "ASTV - percentage of time with abnormal short term variability\n",
    "MSTV - mean value of short term variability\n",
    "ALTV - percentage of time with abnormal long term variability\n",
    "MLTV - mean value of long term variability\n",
    "Width - width of FHR histogram\n",
    "Min - minimum of FHR histogram\n",
    "Max - Maximum of FHR histogram\n",
    "Nmax - # of histogram peaks\n",
    "Nzeros - # of histogram zeros\n",
    "Mode - histogram mode\n",
    "Mean - histogram mean\n",
    "Median - histogram median\n",
    "Variance - histogram variance\n",
    "Tendency - histogram tendency\n",
    "\n",
    "NSP - fetal state class code (N=normal; S=suspect; P=pathologic)\n",
    "\n"
   ]
  },
  {
   "cell_type": "code",
   "execution_count": 5,
   "id": "e82058eb",
   "metadata": {},
   "outputs": [],
   "source": [
    "df = pd.read_csv('cardio.csv', sep=\";\")"
   ]
  },
  {
   "cell_type": "code",
   "execution_count": 6,
   "id": "21dc7ef8",
   "metadata": {},
   "outputs": [
    {
     "data": {
      "text/html": [
       "<div>\n",
       "<style scoped>\n",
       "    .dataframe tbody tr th:only-of-type {\n",
       "        vertical-align: middle;\n",
       "    }\n",
       "\n",
       "    .dataframe tbody tr th {\n",
       "        vertical-align: top;\n",
       "    }\n",
       "\n",
       "    .dataframe thead th {\n",
       "        text-align: right;\n",
       "    }\n",
       "</style>\n",
       "<table border=\"1\" class=\"dataframe\">\n",
       "  <thead>\n",
       "    <tr style=\"text-align: right;\">\n",
       "      <th></th>\n",
       "      <th>FileName</th>\n",
       "      <th>Date</th>\n",
       "      <th>SegFile</th>\n",
       "      <th>b</th>\n",
       "      <th>e</th>\n",
       "      <th>LBE</th>\n",
       "      <th>LB</th>\n",
       "      <th>AC</th>\n",
       "      <th>FM</th>\n",
       "      <th>UC</th>\n",
       "      <th>...</th>\n",
       "      <th>B</th>\n",
       "      <th>C</th>\n",
       "      <th>D</th>\n",
       "      <th>E</th>\n",
       "      <th>AD</th>\n",
       "      <th>DE</th>\n",
       "      <th>LD</th>\n",
       "      <th>FS</th>\n",
       "      <th>SUSP</th>\n",
       "      <th>NSP</th>\n",
       "    </tr>\n",
       "  </thead>\n",
       "  <tbody>\n",
       "    <tr>\n",
       "      <th>0</th>\n",
       "      <td>Variab10.txt</td>\n",
       "      <td>01.12.1996</td>\n",
       "      <td>CTG0001.txt</td>\n",
       "      <td>240.0</td>\n",
       "      <td>357.0</td>\n",
       "      <td>120.0</td>\n",
       "      <td>120.0</td>\n",
       "      <td>0.0</td>\n",
       "      <td>0.0</td>\n",
       "      <td>0.0</td>\n",
       "      <td>...</td>\n",
       "      <td>0.0</td>\n",
       "      <td>0.0</td>\n",
       "      <td>0.0</td>\n",
       "      <td>0.0</td>\n",
       "      <td>0.0</td>\n",
       "      <td>0.0</td>\n",
       "      <td>0.0</td>\n",
       "      <td>1.0</td>\n",
       "      <td>0.0</td>\n",
       "      <td>2.0</td>\n",
       "    </tr>\n",
       "    <tr>\n",
       "      <th>1</th>\n",
       "      <td>Fmcs_1.txt</td>\n",
       "      <td>03.05.1996</td>\n",
       "      <td>CTG0002.txt</td>\n",
       "      <td>5.0</td>\n",
       "      <td>632.0</td>\n",
       "      <td>132.0</td>\n",
       "      <td>132.0</td>\n",
       "      <td>4.0</td>\n",
       "      <td>0.0</td>\n",
       "      <td>4.0</td>\n",
       "      <td>...</td>\n",
       "      <td>0.0</td>\n",
       "      <td>0.0</td>\n",
       "      <td>0.0</td>\n",
       "      <td>0.0</td>\n",
       "      <td>1.0</td>\n",
       "      <td>0.0</td>\n",
       "      <td>0.0</td>\n",
       "      <td>0.0</td>\n",
       "      <td>0.0</td>\n",
       "      <td>1.0</td>\n",
       "    </tr>\n",
       "    <tr>\n",
       "      <th>2</th>\n",
       "      <td>Fmcs_1.txt</td>\n",
       "      <td>03.05.1996</td>\n",
       "      <td>CTG0003.txt</td>\n",
       "      <td>177.0</td>\n",
       "      <td>779.0</td>\n",
       "      <td>133.0</td>\n",
       "      <td>133.0</td>\n",
       "      <td>2.0</td>\n",
       "      <td>0.0</td>\n",
       "      <td>5.0</td>\n",
       "      <td>...</td>\n",
       "      <td>0.0</td>\n",
       "      <td>0.0</td>\n",
       "      <td>0.0</td>\n",
       "      <td>0.0</td>\n",
       "      <td>1.0</td>\n",
       "      <td>0.0</td>\n",
       "      <td>0.0</td>\n",
       "      <td>0.0</td>\n",
       "      <td>0.0</td>\n",
       "      <td>1.0</td>\n",
       "    </tr>\n",
       "    <tr>\n",
       "      <th>3</th>\n",
       "      <td>Fmcs_1.txt</td>\n",
       "      <td>03.05.1996</td>\n",
       "      <td>CTG0004.txt</td>\n",
       "      <td>411.0</td>\n",
       "      <td>1192.0</td>\n",
       "      <td>134.0</td>\n",
       "      <td>134.0</td>\n",
       "      <td>2.0</td>\n",
       "      <td>0.0</td>\n",
       "      <td>6.0</td>\n",
       "      <td>...</td>\n",
       "      <td>0.0</td>\n",
       "      <td>0.0</td>\n",
       "      <td>0.0</td>\n",
       "      <td>0.0</td>\n",
       "      <td>1.0</td>\n",
       "      <td>0.0</td>\n",
       "      <td>0.0</td>\n",
       "      <td>0.0</td>\n",
       "      <td>0.0</td>\n",
       "      <td>1.0</td>\n",
       "    </tr>\n",
       "    <tr>\n",
       "      <th>4</th>\n",
       "      <td>Fmcs_1.txt</td>\n",
       "      <td>03.05.1996</td>\n",
       "      <td>CTG0005.txt</td>\n",
       "      <td>533.0</td>\n",
       "      <td>1147.0</td>\n",
       "      <td>132.0</td>\n",
       "      <td>132.0</td>\n",
       "      <td>4.0</td>\n",
       "      <td>0.0</td>\n",
       "      <td>5.0</td>\n",
       "      <td>...</td>\n",
       "      <td>1.0</td>\n",
       "      <td>0.0</td>\n",
       "      <td>0.0</td>\n",
       "      <td>0.0</td>\n",
       "      <td>0.0</td>\n",
       "      <td>0.0</td>\n",
       "      <td>0.0</td>\n",
       "      <td>0.0</td>\n",
       "      <td>0.0</td>\n",
       "      <td>1.0</td>\n",
       "    </tr>\n",
       "    <tr>\n",
       "      <th>5</th>\n",
       "      <td>Fmcs_2.txt</td>\n",
       "      <td>03.05.1996</td>\n",
       "      <td>CTG0006.txt</td>\n",
       "      <td>0.0</td>\n",
       "      <td>953.0</td>\n",
       "      <td>134.0</td>\n",
       "      <td>134.0</td>\n",
       "      <td>1.0</td>\n",
       "      <td>0.0</td>\n",
       "      <td>10.0</td>\n",
       "      <td>...</td>\n",
       "      <td>0.0</td>\n",
       "      <td>0.0</td>\n",
       "      <td>0.0</td>\n",
       "      <td>0.0</td>\n",
       "      <td>0.0</td>\n",
       "      <td>0.0</td>\n",
       "      <td>1.0</td>\n",
       "      <td>0.0</td>\n",
       "      <td>0.0</td>\n",
       "      <td>3.0</td>\n",
       "    </tr>\n",
       "    <tr>\n",
       "      <th>6</th>\n",
       "      <td>Fmcs_2.txt</td>\n",
       "      <td>03.05.1996</td>\n",
       "      <td>CTG0007.txt</td>\n",
       "      <td>240.0</td>\n",
       "      <td>953.0</td>\n",
       "      <td>134.0</td>\n",
       "      <td>134.0</td>\n",
       "      <td>1.0</td>\n",
       "      <td>0.0</td>\n",
       "      <td>9.0</td>\n",
       "      <td>...</td>\n",
       "      <td>0.0</td>\n",
       "      <td>0.0</td>\n",
       "      <td>0.0</td>\n",
       "      <td>0.0</td>\n",
       "      <td>0.0</td>\n",
       "      <td>0.0</td>\n",
       "      <td>1.0</td>\n",
       "      <td>0.0</td>\n",
       "      <td>0.0</td>\n",
       "      <td>3.0</td>\n",
       "    </tr>\n",
       "    <tr>\n",
       "      <th>7</th>\n",
       "      <td>Hasc_1.txt</td>\n",
       "      <td>22.02.1995</td>\n",
       "      <td>CTG0008.txt</td>\n",
       "      <td>62.0</td>\n",
       "      <td>679.0</td>\n",
       "      <td>122.0</td>\n",
       "      <td>122.0</td>\n",
       "      <td>0.0</td>\n",
       "      <td>0.0</td>\n",
       "      <td>0.0</td>\n",
       "      <td>...</td>\n",
       "      <td>0.0</td>\n",
       "      <td>0.0</td>\n",
       "      <td>0.0</td>\n",
       "      <td>0.0</td>\n",
       "      <td>0.0</td>\n",
       "      <td>0.0</td>\n",
       "      <td>0.0</td>\n",
       "      <td>1.0</td>\n",
       "      <td>0.0</td>\n",
       "      <td>3.0</td>\n",
       "    </tr>\n",
       "    <tr>\n",
       "      <th>8</th>\n",
       "      <td>Hasc_1.txt</td>\n",
       "      <td>22.02.1995</td>\n",
       "      <td>CTG0009.txt</td>\n",
       "      <td>120.0</td>\n",
       "      <td>779.0</td>\n",
       "      <td>122.0</td>\n",
       "      <td>122.0</td>\n",
       "      <td>0.0</td>\n",
       "      <td>0.0</td>\n",
       "      <td>1.0</td>\n",
       "      <td>...</td>\n",
       "      <td>0.0</td>\n",
       "      <td>0.0</td>\n",
       "      <td>0.0</td>\n",
       "      <td>0.0</td>\n",
       "      <td>0.0</td>\n",
       "      <td>0.0</td>\n",
       "      <td>0.0</td>\n",
       "      <td>1.0</td>\n",
       "      <td>0.0</td>\n",
       "      <td>3.0</td>\n",
       "    </tr>\n",
       "    <tr>\n",
       "      <th>9</th>\n",
       "      <td>Hasc_1.txt</td>\n",
       "      <td>22.02.1995</td>\n",
       "      <td>CTG0010.txt</td>\n",
       "      <td>181.0</td>\n",
       "      <td>1192.0</td>\n",
       "      <td>122.0</td>\n",
       "      <td>122.0</td>\n",
       "      <td>0.0</td>\n",
       "      <td>0.0</td>\n",
       "      <td>3.0</td>\n",
       "      <td>...</td>\n",
       "      <td>0.0</td>\n",
       "      <td>0.0</td>\n",
       "      <td>0.0</td>\n",
       "      <td>0.0</td>\n",
       "      <td>0.0</td>\n",
       "      <td>0.0</td>\n",
       "      <td>0.0</td>\n",
       "      <td>1.0</td>\n",
       "      <td>0.0</td>\n",
       "      <td>3.0</td>\n",
       "    </tr>\n",
       "  </tbody>\n",
       "</table>\n",
       "<p>10 rows × 39 columns</p>\n",
       "</div>"
      ],
      "text/plain": [
       "       FileName        Date      SegFile      b       e    LBE     LB   AC  \\\n",
       "0  Variab10.txt  01.12.1996  CTG0001.txt  240.0   357.0  120.0  120.0  0.0   \n",
       "1    Fmcs_1.txt  03.05.1996  CTG0002.txt    5.0   632.0  132.0  132.0  4.0   \n",
       "2    Fmcs_1.txt  03.05.1996  CTG0003.txt  177.0   779.0  133.0  133.0  2.0   \n",
       "3    Fmcs_1.txt  03.05.1996  CTG0004.txt  411.0  1192.0  134.0  134.0  2.0   \n",
       "4    Fmcs_1.txt  03.05.1996  CTG0005.txt  533.0  1147.0  132.0  132.0  4.0   \n",
       "5    Fmcs_2.txt  03.05.1996  CTG0006.txt    0.0   953.0  134.0  134.0  1.0   \n",
       "6    Fmcs_2.txt  03.05.1996  CTG0007.txt  240.0   953.0  134.0  134.0  1.0   \n",
       "7    Hasc_1.txt  22.02.1995  CTG0008.txt   62.0   679.0  122.0  122.0  0.0   \n",
       "8    Hasc_1.txt  22.02.1995  CTG0009.txt  120.0   779.0  122.0  122.0  0.0   \n",
       "9    Hasc_1.txt  22.02.1995  CTG0010.txt  181.0  1192.0  122.0  122.0  0.0   \n",
       "\n",
       "    FM    UC  ...    B    C    D    E   AD   DE   LD   FS  SUSP  NSP  \n",
       "0  0.0   0.0  ...  0.0  0.0  0.0  0.0  0.0  0.0  0.0  1.0   0.0  2.0  \n",
       "1  0.0   4.0  ...  0.0  0.0  0.0  0.0  1.0  0.0  0.0  0.0   0.0  1.0  \n",
       "2  0.0   5.0  ...  0.0  0.0  0.0  0.0  1.0  0.0  0.0  0.0   0.0  1.0  \n",
       "3  0.0   6.0  ...  0.0  0.0  0.0  0.0  1.0  0.0  0.0  0.0   0.0  1.0  \n",
       "4  0.0   5.0  ...  1.0  0.0  0.0  0.0  0.0  0.0  0.0  0.0   0.0  1.0  \n",
       "5  0.0  10.0  ...  0.0  0.0  0.0  0.0  0.0  0.0  1.0  0.0   0.0  3.0  \n",
       "6  0.0   9.0  ...  0.0  0.0  0.0  0.0  0.0  0.0  1.0  0.0   0.0  3.0  \n",
       "7  0.0   0.0  ...  0.0  0.0  0.0  0.0  0.0  0.0  0.0  1.0   0.0  3.0  \n",
       "8  0.0   1.0  ...  0.0  0.0  0.0  0.0  0.0  0.0  0.0  1.0   0.0  3.0  \n",
       "9  0.0   3.0  ...  0.0  0.0  0.0  0.0  0.0  0.0  0.0  1.0   0.0  3.0  \n",
       "\n",
       "[10 rows x 39 columns]"
      ]
     },
     "execution_count": 6,
     "metadata": {},
     "output_type": "execute_result"
    }
   ],
   "source": [
    "df.head(10)"
   ]
  },
  {
   "cell_type": "code",
   "execution_count": 7,
   "id": "d1a5a98a",
   "metadata": {},
   "outputs": [],
   "source": [
    "# df.info()"
   ]
  },
  {
   "cell_type": "code",
   "execution_count": 8,
   "id": "ae8ff835",
   "metadata": {},
   "outputs": [
    {
     "data": {
      "text/plain": [
       "1.0    1655\n",
       "2.0     295\n",
       "3.0     176\n",
       "Name: NSP, dtype: int64"
      ]
     },
     "execution_count": 8,
     "metadata": {},
     "output_type": "execute_result"
    }
   ],
   "source": [
    "df['NSP'].value_counts()"
   ]
  },
  {
   "cell_type": "markdown",
   "id": "5d57aef5",
   "metadata": {},
   "source": [
    "Исходно в задаче 3 класса. Для тренировки оставляю только два - больных и здоровых. Группу под вопросом удвляю."
   ]
  },
  {
   "cell_type": "code",
   "execution_count": 9,
   "id": "b05d6fa4",
   "metadata": {},
   "outputs": [],
   "source": [
    "df= df.loc[df['NSP']!=2]"
   ]
  },
  {
   "cell_type": "code",
   "execution_count": 10,
   "id": "cd90adcb",
   "metadata": {},
   "outputs": [
    {
     "data": {
      "text/plain": [
       "1.0    1655\n",
       "3.0     176\n",
       "Name: NSP, dtype: int64"
      ]
     },
     "execution_count": 10,
     "metadata": {},
     "output_type": "execute_result"
    }
   ],
   "source": [
    "df['NSP'].value_counts()"
   ]
  },
  {
   "cell_type": "code",
   "execution_count": 11,
   "id": "424ea9e7",
   "metadata": {},
   "outputs": [],
   "source": [
    "df['NSP'] = df['NSP'].map(lambda x: 0 if x==1 else 1)"
   ]
  },
  {
   "cell_type": "code",
   "execution_count": 12,
   "id": "9c45f9dc",
   "metadata": {},
   "outputs": [
    {
     "data": {
      "text/plain": [
       "0    1655\n",
       "1     179\n",
       "Name: NSP, dtype: int64"
      ]
     },
     "execution_count": 12,
     "metadata": {},
     "output_type": "execute_result"
    }
   ],
   "source": [
    "df['NSP'].value_counts()"
   ]
  },
  {
   "cell_type": "code",
   "execution_count": 13,
   "id": "f2cf24d6",
   "metadata": {},
   "outputs": [],
   "source": [
    "# df.isna().sum()"
   ]
  },
  {
   "cell_type": "code",
   "execution_count": 14,
   "id": "7a2f358d",
   "metadata": {},
   "outputs": [
    {
     "data": {
      "text/plain": [
       "(1831, (1834, 39))"
      ]
     },
     "execution_count": 14,
     "metadata": {},
     "output_type": "execute_result"
    }
   ],
   "source": [
    "df['SegFile'].nunique(), df.shape"
   ]
  },
  {
   "cell_type": "code",
   "execution_count": 15,
   "id": "ba61a9f2",
   "metadata": {},
   "outputs": [],
   "source": [
    "df = df.loc[df['SegFile'].notna()]"
   ]
  },
  {
   "cell_type": "code",
   "execution_count": 16,
   "id": "1b18371d",
   "metadata": {},
   "outputs": [
    {
     "data": {
      "text/plain": [
       "0"
      ]
     },
     "execution_count": 16,
     "metadata": {},
     "output_type": "execute_result"
    }
   ],
   "source": [
    "df.isna().sum().sum()"
   ]
  },
  {
   "cell_type": "code",
   "execution_count": 17,
   "id": "03d88f5e",
   "metadata": {},
   "outputs": [],
   "source": [
    "df = df.drop(['FileName', 'Date', 'SegFile'], axis=1)"
   ]
  },
  {
   "cell_type": "code",
   "execution_count": 18,
   "id": "7b7333e0",
   "metadata": {},
   "outputs": [
    {
     "data": {
      "text/html": [
       "<div>\n",
       "<style scoped>\n",
       "    .dataframe tbody tr th:only-of-type {\n",
       "        vertical-align: middle;\n",
       "    }\n",
       "\n",
       "    .dataframe tbody tr th {\n",
       "        vertical-align: top;\n",
       "    }\n",
       "\n",
       "    .dataframe thead th {\n",
       "        text-align: right;\n",
       "    }\n",
       "</style>\n",
       "<table border=\"1\" class=\"dataframe\">\n",
       "  <thead>\n",
       "    <tr style=\"text-align: right;\">\n",
       "      <th></th>\n",
       "      <th>b</th>\n",
       "      <th>e</th>\n",
       "      <th>LBE</th>\n",
       "      <th>LB</th>\n",
       "      <th>AC</th>\n",
       "      <th>FM</th>\n",
       "      <th>UC</th>\n",
       "      <th>ASTV</th>\n",
       "      <th>MSTV</th>\n",
       "      <th>ALTV</th>\n",
       "      <th>...</th>\n",
       "      <th>B</th>\n",
       "      <th>C</th>\n",
       "      <th>D</th>\n",
       "      <th>E</th>\n",
       "      <th>AD</th>\n",
       "      <th>DE</th>\n",
       "      <th>LD</th>\n",
       "      <th>FS</th>\n",
       "      <th>SUSP</th>\n",
       "      <th>NSP</th>\n",
       "    </tr>\n",
       "  </thead>\n",
       "  <tbody>\n",
       "    <tr>\n",
       "      <th>1</th>\n",
       "      <td>5.0</td>\n",
       "      <td>632.0</td>\n",
       "      <td>132.0</td>\n",
       "      <td>132.0</td>\n",
       "      <td>4.0</td>\n",
       "      <td>0.0</td>\n",
       "      <td>4.0</td>\n",
       "      <td>17.0</td>\n",
       "      <td>2,1</td>\n",
       "      <td>0.0</td>\n",
       "      <td>...</td>\n",
       "      <td>0.0</td>\n",
       "      <td>0.0</td>\n",
       "      <td>0.0</td>\n",
       "      <td>0.0</td>\n",
       "      <td>1.0</td>\n",
       "      <td>0.0</td>\n",
       "      <td>0.0</td>\n",
       "      <td>0.0</td>\n",
       "      <td>0.0</td>\n",
       "      <td>0</td>\n",
       "    </tr>\n",
       "    <tr>\n",
       "      <th>2</th>\n",
       "      <td>177.0</td>\n",
       "      <td>779.0</td>\n",
       "      <td>133.0</td>\n",
       "      <td>133.0</td>\n",
       "      <td>2.0</td>\n",
       "      <td>0.0</td>\n",
       "      <td>5.0</td>\n",
       "      <td>16.0</td>\n",
       "      <td>2,1</td>\n",
       "      <td>0.0</td>\n",
       "      <td>...</td>\n",
       "      <td>0.0</td>\n",
       "      <td>0.0</td>\n",
       "      <td>0.0</td>\n",
       "      <td>0.0</td>\n",
       "      <td>1.0</td>\n",
       "      <td>0.0</td>\n",
       "      <td>0.0</td>\n",
       "      <td>0.0</td>\n",
       "      <td>0.0</td>\n",
       "      <td>0</td>\n",
       "    </tr>\n",
       "    <tr>\n",
       "      <th>3</th>\n",
       "      <td>411.0</td>\n",
       "      <td>1192.0</td>\n",
       "      <td>134.0</td>\n",
       "      <td>134.0</td>\n",
       "      <td>2.0</td>\n",
       "      <td>0.0</td>\n",
       "      <td>6.0</td>\n",
       "      <td>16.0</td>\n",
       "      <td>2,4</td>\n",
       "      <td>0.0</td>\n",
       "      <td>...</td>\n",
       "      <td>0.0</td>\n",
       "      <td>0.0</td>\n",
       "      <td>0.0</td>\n",
       "      <td>0.0</td>\n",
       "      <td>1.0</td>\n",
       "      <td>0.0</td>\n",
       "      <td>0.0</td>\n",
       "      <td>0.0</td>\n",
       "      <td>0.0</td>\n",
       "      <td>0</td>\n",
       "    </tr>\n",
       "    <tr>\n",
       "      <th>4</th>\n",
       "      <td>533.0</td>\n",
       "      <td>1147.0</td>\n",
       "      <td>132.0</td>\n",
       "      <td>132.0</td>\n",
       "      <td>4.0</td>\n",
       "      <td>0.0</td>\n",
       "      <td>5.0</td>\n",
       "      <td>16.0</td>\n",
       "      <td>2,4</td>\n",
       "      <td>0.0</td>\n",
       "      <td>...</td>\n",
       "      <td>1.0</td>\n",
       "      <td>0.0</td>\n",
       "      <td>0.0</td>\n",
       "      <td>0.0</td>\n",
       "      <td>0.0</td>\n",
       "      <td>0.0</td>\n",
       "      <td>0.0</td>\n",
       "      <td>0.0</td>\n",
       "      <td>0.0</td>\n",
       "      <td>0</td>\n",
       "    </tr>\n",
       "    <tr>\n",
       "      <th>5</th>\n",
       "      <td>0.0</td>\n",
       "      <td>953.0</td>\n",
       "      <td>134.0</td>\n",
       "      <td>134.0</td>\n",
       "      <td>1.0</td>\n",
       "      <td>0.0</td>\n",
       "      <td>10.0</td>\n",
       "      <td>26.0</td>\n",
       "      <td>5,9</td>\n",
       "      <td>0.0</td>\n",
       "      <td>...</td>\n",
       "      <td>0.0</td>\n",
       "      <td>0.0</td>\n",
       "      <td>0.0</td>\n",
       "      <td>0.0</td>\n",
       "      <td>0.0</td>\n",
       "      <td>0.0</td>\n",
       "      <td>1.0</td>\n",
       "      <td>0.0</td>\n",
       "      <td>0.0</td>\n",
       "      <td>1</td>\n",
       "    </tr>\n",
       "  </tbody>\n",
       "</table>\n",
       "<p>5 rows × 36 columns</p>\n",
       "</div>"
      ],
      "text/plain": [
       "       b       e    LBE     LB   AC   FM    UC  ASTV MSTV  ALTV  ...    B  \\\n",
       "1    5.0   632.0  132.0  132.0  4.0  0.0   4.0  17.0  2,1   0.0  ...  0.0   \n",
       "2  177.0   779.0  133.0  133.0  2.0  0.0   5.0  16.0  2,1   0.0  ...  0.0   \n",
       "3  411.0  1192.0  134.0  134.0  2.0  0.0   6.0  16.0  2,4   0.0  ...  0.0   \n",
       "4  533.0  1147.0  132.0  132.0  4.0  0.0   5.0  16.0  2,4   0.0  ...  1.0   \n",
       "5    0.0   953.0  134.0  134.0  1.0  0.0  10.0  26.0  5,9   0.0  ...  0.0   \n",
       "\n",
       "     C    D    E   AD   DE   LD   FS  SUSP  NSP  \n",
       "1  0.0  0.0  0.0  1.0  0.0  0.0  0.0   0.0    0  \n",
       "2  0.0  0.0  0.0  1.0  0.0  0.0  0.0   0.0    0  \n",
       "3  0.0  0.0  0.0  1.0  0.0  0.0  0.0   0.0    0  \n",
       "4  0.0  0.0  0.0  0.0  0.0  0.0  0.0   0.0    0  \n",
       "5  0.0  0.0  0.0  0.0  0.0  1.0  0.0   0.0    1  \n",
       "\n",
       "[5 rows x 36 columns]"
      ]
     },
     "execution_count": 18,
     "metadata": {},
     "output_type": "execute_result"
    }
   ],
   "source": [
    "df.head()"
   ]
  },
  {
   "cell_type": "code",
   "execution_count": 19,
   "id": "1b0cb03f",
   "metadata": {},
   "outputs": [
    {
     "data": {
      "text/plain": [
       "(1831, 36)"
      ]
     },
     "execution_count": 19,
     "metadata": {},
     "output_type": "execute_result"
    }
   ],
   "source": [
    "df.shape"
   ]
  },
  {
   "cell_type": "code",
   "execution_count": 20,
   "id": "e6202bf0",
   "metadata": {},
   "outputs": [],
   "source": [
    "df.drop_duplicates(inplace=True)"
   ]
  },
  {
   "cell_type": "code",
   "execution_count": 21,
   "id": "d9abef08",
   "metadata": {},
   "outputs": [
    {
     "data": {
      "text/plain": [
       "<AxesSubplot:>"
      ]
     },
     "execution_count": 21,
     "metadata": {},
     "output_type": "execute_result"
    },
    {
     "data": {
      "image/png": "[encoded data removed]",
      "text/plain": [
       "<Figure size 432x288 with 1 Axes>"
      ]
     },
     "metadata": {
      "needs_background": "light"
     },
     "output_type": "display_data"
    }
   ],
   "source": [
    "df['b'].hist()"
   ]
  },
  {
   "cell_type": "code",
   "execution_count": 22,
   "id": "2eb035fb",
   "metadata": {},
   "outputs": [
    {
     "data": {
      "text/plain": [
       "<AxesSubplot:>"
      ]
     },
     "execution_count": 22,
     "metadata": {},
     "output_type": "execute_result"
    },
    {
     "data": {
      "image/png": "[encoded data removed]",
      "text/plain": [
       "<Figure size 432x288 with 1 Axes>"
      ]
     },
     "metadata": {
      "needs_background": "light"
     },
     "output_type": "display_data"
    }
   ],
   "source": [
    "df['e'].hist()"
   ]
  },
  {
   "cell_type": "code",
   "execution_count": 23,
   "id": "7265cbdf",
   "metadata": {},
   "outputs": [
    {
     "data": {
      "text/plain": [
       "<AxesSubplot:>"
      ]
     },
     "execution_count": 23,
     "metadata": {},
     "output_type": "execute_result"
    },
    {
     "data": {
      "image/png": "[encoded data removed]",
      "text/plain": [
       "<Figure size 432x288 with 1 Axes>"
      ]
     },
     "metadata": {
      "needs_background": "light"
     },
     "output_type": "display_data"
    }
   ],
   "source": [
    "df['LBE'].hist()"
   ]
  },
  {
   "cell_type": "code",
   "execution_count": 24,
   "id": "8465bfcf",
   "metadata": {},
   "outputs": [
    {
     "data": {
      "text/plain": [
       "<AxesSubplot:>"
      ]
     },
     "execution_count": 24,
     "metadata": {},
     "output_type": "execute_result"
    },
    {
     "data": {
      "image/png": "[encoded data removed]",
      "text/plain": [
       "<Figure size 432x288 with 1 Axes>"
      ]
     },
     "metadata": {
      "needs_background": "light"
     },
     "output_type": "display_data"
    }
   ],
   "source": [
    "df['LB'].hist()"
   ]
  },
  {
   "cell_type": "code",
   "execution_count": 25,
   "id": "ebef47b9",
   "metadata": {},
   "outputs": [],
   "source": [
    "df1 = df.drop('LBE', 1)\n",
    "df = df.drop('LB', 1)"
   ]
  },
  {
   "cell_type": "code",
   "execution_count": 26,
   "id": "01593f17",
   "metadata": {},
   "outputs": [
    {
     "data": {
      "text/plain": [
       "<AxesSubplot:>"
      ]
     },
     "execution_count": 26,
     "metadata": {},
     "output_type": "execute_result"
    },
    {
     "data": {
      "image/png": "[encoded data removed]",
      "text/plain": [
       "<Figure size 432x288 with 1 Axes>"
      ]
     },
     "metadata": {
      "needs_background": "light"
     },
     "output_type": "display_data"
    }
   ],
   "source": [
    "df['AC'].hist()"
   ]
  },
  {
   "cell_type": "code",
   "execution_count": 27,
   "id": "1a6184f0",
   "metadata": {},
   "outputs": [
    {
     "data": {
      "image/png": "[encoded data removed]",
      "text/plain": [
       "<Figure size 864x288 with 2 Axes>"
      ]
     },
     "metadata": {
      "needs_background": "light"
     },
     "output_type": "display_data"
    }
   ],
   "source": [
    "plt.figure(figsize = (12, 4))\n",
    "plt.subplot(121)\n",
    "plt.hist(df['FM'], bins=30)\n",
    "\n",
    "plt.subplot(122)\n",
    "plt.hist(df['FM'], bins=30)\n",
    "plt.ylim(0, 50)\n",
    "\n",
    "plt.show()"
   ]
  },
  {
   "cell_type": "code",
   "execution_count": 28,
   "id": "16dfd9eb",
   "metadata": {},
   "outputs": [],
   "source": [
    "# kb = KBinsDiscretizer(n_bins=3, encode='ordinal', strategy='uniform')\n",
    "# kb.fit_transform(df[['FM']])\n",
    "\n",
    "# kb.bin_edges_"
   ]
  },
  {
   "cell_type": "code",
   "execution_count": 29,
   "id": "19dadc79",
   "metadata": {},
   "outputs": [],
   "source": [
    "def bins_FM(X):\n",
    "    a = X.copy()\n",
    "    for i in range(len(X)):\n",
    "        if 0 < X.iloc[i] <= 100:\n",
    "            a.iloc[i] = 1\n",
    "        elif X.iloc[i] > 100:\n",
    "            a.iloc[i] = 2\n",
    "    return a                "
   ]
  },
  {
   "cell_type": "code",
   "execution_count": 30,
   "id": "3ba21a44",
   "metadata": {},
   "outputs": [],
   "source": [
    "# df['FM_bins'] = bins_FM(df['FM'])"
   ]
  },
  {
   "cell_type": "code",
   "execution_count": 31,
   "id": "7b71ef2a",
   "metadata": {},
   "outputs": [],
   "source": [
    "# df['FM_bins'].value_counts()"
   ]
  },
  {
   "cell_type": "code",
   "execution_count": 32,
   "id": "0f9f831f",
   "metadata": {},
   "outputs": [
    {
     "data": {
      "text/plain": [
       "<AxesSubplot:>"
      ]
     },
     "execution_count": 32,
     "metadata": {},
     "output_type": "execute_result"
    },
    {
     "data": {
      "image/png": "[encoded data removed]",
      "text/plain": [
       "<Figure size 432x288 with 1 Axes>"
      ]
     },
     "metadata": {
      "needs_background": "light"
     },
     "output_type": "display_data"
    }
   ],
   "source": [
    "df['UC'].hist()"
   ]
  },
  {
   "cell_type": "code",
   "execution_count": 33,
   "id": "72f8d423",
   "metadata": {},
   "outputs": [
    {
     "data": {
      "text/plain": [
       "<AxesSubplot:>"
      ]
     },
     "execution_count": 33,
     "metadata": {},
     "output_type": "execute_result"
    },
    {
     "data": {
      "image/png": "[encoded data removed]",
      "text/plain": [
       "<Figure size 432x288 with 1 Axes>"
      ]
     },
     "metadata": {
      "needs_background": "light"
     },
     "output_type": "display_data"
    }
   ],
   "source": [
    "df['ASTV'].hist()"
   ]
  },
  {
   "cell_type": "code",
   "execution_count": 34,
   "id": "2020cbc5",
   "metadata": {
    "scrolled": true
   },
   "outputs": [
    {
     "data": {
      "text/plain": [
       "<AxesSubplot:>"
      ]
     },
     "execution_count": 34,
     "metadata": {},
     "output_type": "execute_result"
    },
    {
     "data": {
      "image/png": "[encoded data removed]",
      "text/plain": [
       "<Figure size 432x288 with 1 Axes>"
      ]
     },
     "metadata": {
      "needs_background": "light"
     },
     "output_type": "display_data"
    }
   ],
   "source": [
    "df['MSTV'].hist()"
   ]
  },
  {
   "cell_type": "code",
   "execution_count": 35,
   "id": "6a3ffdc3",
   "metadata": {},
   "outputs": [
    {
     "data": {
      "image/png": "[encoded data removed]",
      "text/plain": [
       "<Figure size 864x288 with 2 Axes>"
      ]
     },
     "metadata": {
      "needs_background": "light"
     },
     "output_type": "display_data"
    }
   ],
   "source": [
    "plt.figure(figsize = (12, 4))\n",
    "plt.subplot(121)\n",
    "plt.hist(df['ALTV'], bins=30)\n",
    "\n",
    "plt.subplot(122)\n",
    "plt.hist(df['ALTV'], bins=30)\n",
    "plt.ylim(0, 120)\n",
    "\n",
    "plt.show()"
   ]
  },
  {
   "cell_type": "code",
   "execution_count": 36,
   "id": "a7268e05",
   "metadata": {},
   "outputs": [
    {
     "data": {
      "text/plain": [
       "0.0     1212\n",
       "1.0       51\n",
       "2.0       41\n",
       "5.0       39\n",
       "4.0       34\n",
       "        ... \n",
       "85.0       1\n",
       "52.0       1\n",
       "47.0       1\n",
       "63.0       1\n",
       "79.0       1\n",
       "Name: ALTV, Length: 82, dtype: int64"
      ]
     },
     "execution_count": 36,
     "metadata": {},
     "output_type": "execute_result"
    }
   ],
   "source": [
    "df['ALTV'].value_counts()"
   ]
  },
  {
   "cell_type": "code",
   "execution_count": 37,
   "id": "a6151d6f",
   "metadata": {},
   "outputs": [],
   "source": [
    "def bins_ALTV(X):\n",
    "    a = X.copy()\n",
    "    for i in range(len(X)):\n",
    "        if 0 < X.iloc[i] <= 20:\n",
    "            a.iloc[i] = 1\n",
    "        elif X.iloc[i] > 20:\n",
    "            a.iloc[i] = 2\n",
    "    return a        "
   ]
  },
  {
   "cell_type": "code",
   "execution_count": 38,
   "id": "9187cef5",
   "metadata": {},
   "outputs": [],
   "source": [
    "# df['ALTV_bins'] = bins_ALTV(df['ALTV'])"
   ]
  },
  {
   "cell_type": "code",
   "execution_count": 39,
   "id": "f048ea86",
   "metadata": {},
   "outputs": [],
   "source": [
    "# df['ALTV_bins'].value_counts()"
   ]
  },
  {
   "cell_type": "code",
   "execution_count": 40,
   "id": "85de657a",
   "metadata": {},
   "outputs": [
    {
     "data": {
      "text/plain": [
       "<AxesSubplot:>"
      ]
     },
     "execution_count": 40,
     "metadata": {},
     "output_type": "execute_result"
    },
    {
     "data": {
      "image/png": "[encoded data removed]",
      "text/plain": [
       "<Figure size 432x288 with 1 Axes>"
      ]
     },
     "metadata": {
      "needs_background": "light"
     },
     "output_type": "display_data"
    }
   ],
   "source": [
    "df['MLTV'].hist()"
   ]
  },
  {
   "cell_type": "code",
   "execution_count": 41,
   "id": "a3d2593c",
   "metadata": {},
   "outputs": [
    {
     "data": {
      "text/plain": [
       "<AxesSubplot:>"
      ]
     },
     "execution_count": 41,
     "metadata": {},
     "output_type": "execute_result"
    },
    {
     "data": {
      "image/png": "[encoded data removed]",
      "text/plain": [
       "<Figure size 432x288 with 1 Axes>"
      ]
     },
     "metadata": {
      "needs_background": "light"
     },
     "output_type": "display_data"
    }
   ],
   "source": [
    "df['DL'].hist()"
   ]
  },
  {
   "cell_type": "code",
   "execution_count": 42,
   "id": "ca7bbcef",
   "metadata": {},
   "outputs": [
    {
     "data": {
      "text/plain": [
       "0.0    1816\n",
       "1.0       7\n",
       "Name: DS, dtype: int64"
      ]
     },
     "execution_count": 42,
     "metadata": {},
     "output_type": "execute_result"
    }
   ],
   "source": [
    "df['DS'].value_counts()"
   ]
  },
  {
   "cell_type": "code",
   "execution_count": 43,
   "id": "4d721d71",
   "metadata": {},
   "outputs": [
    {
     "data": {
      "text/plain": [
       "0.0    1660\n",
       "1.0      97\n",
       "2.0      47\n",
       "3.0      18\n",
       "4.0       1\n",
       "Name: DP, dtype: int64"
      ]
     },
     "execution_count": 43,
     "metadata": {},
     "output_type": "execute_result"
    }
   ],
   "source": [
    "df['DP'].value_counts()"
   ]
  },
  {
   "cell_type": "code",
   "execution_count": 44,
   "id": "dc74074b",
   "metadata": {},
   "outputs": [
    {
     "data": {
      "text/plain": [
       "0.0    1823\n",
       "Name: DR, dtype: int64"
      ]
     },
     "execution_count": 44,
     "metadata": {},
     "output_type": "execute_result"
    }
   ],
   "source": [
    "df['DR'].value_counts()"
   ]
  },
  {
   "cell_type": "code",
   "execution_count": 45,
   "id": "b74c8a50",
   "metadata": {},
   "outputs": [],
   "source": [
    "df = df.drop('DR', 1)"
   ]
  },
  {
   "cell_type": "code",
   "execution_count": 46,
   "id": "28bea66d",
   "metadata": {},
   "outputs": [
    {
     "data": {
      "text/plain": [
       "<AxesSubplot:>"
      ]
     },
     "execution_count": 46,
     "metadata": {},
     "output_type": "execute_result"
    },
    {
     "data": {
      "image/png": "[encoded data removed]",
      "text/plain": [
       "<Figure size 432x288 with 1 Axes>"
      ]
     },
     "metadata": {
      "needs_background": "light"
     },
     "output_type": "display_data"
    }
   ],
   "source": [
    "df['Width'].hist()"
   ]
  },
  {
   "cell_type": "code",
   "execution_count": 47,
   "id": "fe88ad01",
   "metadata": {},
   "outputs": [
    {
     "data": {
      "text/plain": [
       "<AxesSubplot:>"
      ]
     },
     "execution_count": 47,
     "metadata": {},
     "output_type": "execute_result"
    },
    {
     "data": {
      "image/png": "[encoded data removed]",
      "text/plain": [
       "<Figure size 432x288 with 1 Axes>"
      ]
     },
     "metadata": {
      "needs_background": "light"
     },
     "output_type": "display_data"
    }
   ],
   "source": [
    "df['Min'].hist()"
   ]
  },
  {
   "cell_type": "code",
   "execution_count": 48,
   "id": "01ce6ee4",
   "metadata": {},
   "outputs": [
    {
     "data": {
      "text/plain": [
       "<AxesSubplot:>"
      ]
     },
     "execution_count": 48,
     "metadata": {},
     "output_type": "execute_result"
    },
    {
     "data": {
      "image/png": "[encoded data removed]",
      "text/plain": [
       "<Figure size 432x288 with 1 Axes>"
      ]
     },
     "metadata": {
      "needs_background": "light"
     },
     "output_type": "display_data"
    }
   ],
   "source": [
    "df['Max'].hist()"
   ]
  },
  {
   "cell_type": "code",
   "execution_count": 49,
   "id": "eefbd5f3",
   "metadata": {},
   "outputs": [
    {
     "data": {
      "text/plain": [
       "<AxesSubplot:>"
      ]
     },
     "execution_count": 49,
     "metadata": {},
     "output_type": "execute_result"
    },
    {
     "data": {
      "image/png": "[encoded data removed]",
      "text/plain": [
       "<Figure size 432x288 with 1 Axes>"
      ]
     },
     "metadata": {
      "needs_background": "light"
     },
     "output_type": "display_data"
    }
   ],
   "source": [
    "df['Nmax'].hist()"
   ]
  },
  {
   "cell_type": "code",
   "execution_count": 50,
   "id": "3409795a",
   "metadata": {},
   "outputs": [
    {
     "data": {
      "text/plain": [
       "<AxesSubplot:>"
      ]
     },
     "execution_count": 50,
     "metadata": {},
     "output_type": "execute_result"
    },
    {
     "data": {
      "image/png": "[encoded data removed]",
      "text/plain": [
       "<Figure size 432x288 with 1 Axes>"
      ]
     },
     "metadata": {
      "needs_background": "light"
     },
     "output_type": "display_data"
    }
   ],
   "source": [
    "df['Nzeros'].hist()"
   ]
  },
  {
   "cell_type": "code",
   "execution_count": 51,
   "id": "9d59dd26",
   "metadata": {},
   "outputs": [
    {
     "data": {
      "text/plain": [
       "0.0     1367\n",
       "1.0      331\n",
       "2.0      102\n",
       "3.0       19\n",
       "5.0        2\n",
       "10.0       1\n",
       "4.0        1\n",
       "Name: Nzeros, dtype: int64"
      ]
     },
     "execution_count": 51,
     "metadata": {},
     "output_type": "execute_result"
    }
   ],
   "source": [
    "df['Nzeros'].value_counts()"
   ]
  },
  {
   "cell_type": "code",
   "execution_count": 52,
   "id": "c650e220",
   "metadata": {},
   "outputs": [],
   "source": [
    "def bins_Nzeros(X):\n",
    "    a = X.copy()\n",
    "    for i in range(len(X)):\n",
    "        if 0 < X.iloc[i] <= 2:\n",
    "            a.iloc[i] = 1\n",
    "        elif X.iloc[i] > 2:\n",
    "            a.iloc[i] = 2\n",
    "    return a        "
   ]
  },
  {
   "cell_type": "code",
   "execution_count": 53,
   "id": "a759efed",
   "metadata": {},
   "outputs": [],
   "source": [
    "# df['Nzeros_bins'] = bins_Nzeros(df['Nzeros'])"
   ]
  },
  {
   "cell_type": "code",
   "execution_count": 54,
   "id": "e1383530",
   "metadata": {},
   "outputs": [],
   "source": [
    "# df['Nzeros_bins'].value_counts()"
   ]
  },
  {
   "cell_type": "code",
   "execution_count": 55,
   "id": "e33f2b4f",
   "metadata": {},
   "outputs": [
    {
     "data": {
      "text/plain": [
       "<AxesSubplot:>"
      ]
     },
     "execution_count": 55,
     "metadata": {},
     "output_type": "execute_result"
    },
    {
     "data": {
      "image/png": "[encoded data removed]",
      "text/plain": [
       "<Figure size 432x288 with 1 Axes>"
      ]
     },
     "metadata": {
      "needs_background": "light"
     },
     "output_type": "display_data"
    }
   ],
   "source": [
    "df['Mode'].hist()"
   ]
  },
  {
   "cell_type": "code",
   "execution_count": 56,
   "id": "85c36f5a",
   "metadata": {},
   "outputs": [
    {
     "data": {
      "text/plain": [
       "<AxesSubplot:>"
      ]
     },
     "execution_count": 56,
     "metadata": {},
     "output_type": "execute_result"
    },
    {
     "data": {
      "image/png": "[encoded data removed]",
      "text/plain": [
       "<Figure size 432x288 with 1 Axes>"
      ]
     },
     "metadata": {
      "needs_background": "light"
     },
     "output_type": "display_data"
    }
   ],
   "source": [
    "df['Mean'].hist()"
   ]
  },
  {
   "cell_type": "code",
   "execution_count": 57,
   "id": "7fb11a3a",
   "metadata": {},
   "outputs": [
    {
     "data": {
      "text/plain": [
       "<AxesSubplot:>"
      ]
     },
     "execution_count": 57,
     "metadata": {},
     "output_type": "execute_result"
    },
    {
     "data": {
      "image/png": "[encoded data removed]",
      "text/plain": [
       "<Figure size 432x288 with 1 Axes>"
      ]
     },
     "metadata": {
      "needs_background": "light"
     },
     "output_type": "display_data"
    }
   ],
   "source": [
    "df['Median'].hist()"
   ]
  },
  {
   "cell_type": "code",
   "execution_count": 58,
   "id": "88dd23bb",
   "metadata": {},
   "outputs": [
    {
     "data": {
      "text/plain": [
       "<AxesSubplot:>"
      ]
     },
     "execution_count": 58,
     "metadata": {},
     "output_type": "execute_result"
    },
    {
     "data": {
      "image/png": "[encoded data removed]",
      "text/plain": [
       "<Figure size 432x288 with 1 Axes>"
      ]
     },
     "metadata": {
      "needs_background": "light"
     },
     "output_type": "display_data"
    }
   ],
   "source": [
    "df['Variance'].hist(bins=20)"
   ]
  },
  {
   "cell_type": "code",
   "execution_count": 59,
   "id": "2cdcfb93",
   "metadata": {},
   "outputs": [],
   "source": [
    "# df['Variance'].value_counts()"
   ]
  },
  {
   "cell_type": "code",
   "execution_count": 60,
   "id": "b794f916",
   "metadata": {},
   "outputs": [
    {
     "data": {
      "text/plain": [
       " 0.0    974\n",
       " 1.0    699\n",
       "-1.0    150\n",
       "Name: Tendency, dtype: int64"
      ]
     },
     "execution_count": 60,
     "metadata": {},
     "output_type": "execute_result"
    }
   ],
   "source": [
    "df['Tendency'].value_counts()"
   ]
  },
  {
   "cell_type": "code",
   "execution_count": 61,
   "id": "f4d75eee",
   "metadata": {},
   "outputs": [
    {
     "data": {
      "text/plain": [
       "0.0    1442\n",
       "1.0     381\n",
       "Name: A, dtype: int64"
      ]
     },
     "execution_count": 61,
     "metadata": {},
     "output_type": "execute_result"
    }
   ],
   "source": [
    "df['A'].value_counts()"
   ]
  },
  {
   "cell_type": "code",
   "execution_count": 62,
   "id": "6a893e14",
   "metadata": {},
   "outputs": [
    {
     "data": {
      "text/plain": [
       "0.0    1248\n",
       "1.0     575\n",
       "Name: B, dtype: int64"
      ]
     },
     "execution_count": 62,
     "metadata": {},
     "output_type": "execute_result"
    }
   ],
   "source": [
    "df['B'].value_counts()"
   ]
  },
  {
   "cell_type": "code",
   "execution_count": 63,
   "id": "78b9655f",
   "metadata": {},
   "outputs": [
    {
     "data": {
      "text/plain": [
       "0.0    1772\n",
       "1.0      51\n",
       "Name: C, dtype: int64"
      ]
     },
     "execution_count": 63,
     "metadata": {},
     "output_type": "execute_result"
    }
   ],
   "source": [
    "df['C'].value_counts()"
   ]
  },
  {
   "cell_type": "code",
   "execution_count": 64,
   "id": "f39f01d7",
   "metadata": {},
   "outputs": [
    {
     "data": {
      "text/plain": [
       "0.0    1742\n",
       "1.0      81\n",
       "Name: D, dtype: int64"
      ]
     },
     "execution_count": 64,
     "metadata": {},
     "output_type": "execute_result"
    }
   ],
   "source": [
    "df['D'].value_counts()"
   ]
  },
  {
   "cell_type": "code",
   "execution_count": 65,
   "id": "82a22189",
   "metadata": {},
   "outputs": [
    {
     "data": {
      "text/plain": [
       "0.0    1820\n",
       "1.0       3\n",
       "Name: E, dtype: int64"
      ]
     },
     "execution_count": 65,
     "metadata": {},
     "output_type": "execute_result"
    }
   ],
   "source": [
    "df['E'].value_counts()"
   ]
  },
  {
   "cell_type": "code",
   "execution_count": 66,
   "id": "b30b10b3",
   "metadata": {},
   "outputs": [
    {
     "data": {
      "text/plain": [
       "0.0    1493\n",
       "1.0     330\n",
       "Name: AD, dtype: int64"
      ]
     },
     "execution_count": 66,
     "metadata": {},
     "output_type": "execute_result"
    }
   ],
   "source": [
    "df['AD'].value_counts()"
   ]
  },
  {
   "cell_type": "code",
   "execution_count": 67,
   "id": "bd6cb50b",
   "metadata": {},
   "outputs": [
    {
     "data": {
      "text/plain": [
       "0.0    1596\n",
       "1.0     227\n",
       "Name: DE, dtype: int64"
      ]
     },
     "execution_count": 67,
     "metadata": {},
     "output_type": "execute_result"
    }
   ],
   "source": [
    "df['DE'].value_counts()"
   ]
  },
  {
   "cell_type": "code",
   "execution_count": 68,
   "id": "b790e5c4",
   "metadata": {},
   "outputs": [
    {
     "data": {
      "text/plain": [
       "0.0    1716\n",
       "1.0     107\n",
       "Name: LD, dtype: int64"
      ]
     },
     "execution_count": 68,
     "metadata": {},
     "output_type": "execute_result"
    }
   ],
   "source": [
    "df['LD'].value_counts()"
   ]
  },
  {
   "cell_type": "code",
   "execution_count": 69,
   "id": "bc0c2241",
   "metadata": {},
   "outputs": [
    {
     "data": {
      "text/plain": [
       "0.0    1756\n",
       "1.0      67\n",
       "Name: FS, dtype: int64"
      ]
     },
     "execution_count": 69,
     "metadata": {},
     "output_type": "execute_result"
    }
   ],
   "source": [
    "df['FS'].value_counts()"
   ]
  },
  {
   "cell_type": "code",
   "execution_count": 70,
   "id": "e6c623a4",
   "metadata": {},
   "outputs": [
    {
     "data": {
      "text/plain": [
       "0.0    1822\n",
       "1.0       1\n",
       "Name: SUSP, dtype: int64"
      ]
     },
     "execution_count": 70,
     "metadata": {},
     "output_type": "execute_result"
    }
   ],
   "source": [
    "df['SUSP'].value_counts()"
   ]
  },
  {
   "cell_type": "code",
   "execution_count": 71,
   "id": "02756eac",
   "metadata": {},
   "outputs": [],
   "source": [
    "df = df.drop('SUSP', 1)"
   ]
  },
  {
   "cell_type": "code",
   "execution_count": 72,
   "id": "d61787ed",
   "metadata": {},
   "outputs": [],
   "source": [
    "# 'MSTV', 'ASTV' - cor, Mean-Mode-Median, "
   ]
  },
  {
   "cell_type": "code",
   "execution_count": 73,
   "id": "f60f2e18",
   "metadata": {},
   "outputs": [
    {
     "data": {
      "text/plain": [
       "Index(['b', 'e', 'LBE', 'AC', 'FM', 'UC', 'ASTV', 'MSTV', 'ALTV', 'MLTV', 'DL',\n",
       "       'DS', 'DP', 'Width', 'Min', 'Max', 'Nmax', 'Nzeros', 'Mode', 'Mean',\n",
       "       'Median', 'Variance', 'Tendency', 'A', 'B', 'C', 'D', 'E', 'AD', 'DE',\n",
       "       'LD', 'FS', 'NSP'],\n",
       "      dtype='object')"
      ]
     },
     "execution_count": 73,
     "metadata": {},
     "output_type": "execute_result"
    }
   ],
   "source": [
    "df.columns"
   ]
  },
  {
   "cell_type": "code",
   "execution_count": 74,
   "id": "1cc7aa78",
   "metadata": {},
   "outputs": [
    {
     "data": {
      "text/plain": [
       "(1823, 33)"
      ]
     },
     "execution_count": 74,
     "metadata": {},
     "output_type": "execute_result"
    }
   ],
   "source": [
    "df.shape"
   ]
  },
  {
   "cell_type": "code",
   "execution_count": 75,
   "id": "641fef1b",
   "metadata": {},
   "outputs": [
    {
     "data": {
      "image/png": "[encoded data removed]",
      "text/plain": [
       "<Figure size 432x288 with 2 Axes>"
      ]
     },
     "metadata": {
      "needs_background": "light"
     },
     "output_type": "display_data"
    }
   ],
   "source": [
    "# plt.scatter(df['MSTV'], df['ASTV'])\n",
    "plt.subplot(121)\n",
    "plt.scatter(df['Mode'], df['Mean'])\n",
    "plt.subplot(122)\n",
    "plt.scatter(df['Mode'], df['Median'])\n",
    "plt.show()"
   ]
  },
  {
   "cell_type": "markdown",
   "id": "7c022ab1",
   "metadata": {},
   "source": [
    "Из 3х показателей оставлю только медиану"
   ]
  },
  {
   "cell_type": "code",
   "execution_count": 76,
   "id": "10166c92",
   "metadata": {},
   "outputs": [],
   "source": [
    "from sklearn.model_selection import train_test_split, GridSearchCV"
   ]
  },
  {
   "cell_type": "code",
   "execution_count": 77,
   "id": "7a569bf3",
   "metadata": {},
   "outputs": [],
   "source": [
    "x_train, x_test, y_train, y_test = train_test_split(df.drop('NSP', 1), df['NSP'], random_state=13, test_size=0.3 )"
   ]
  },
  {
   "cell_type": "code",
   "execution_count": 78,
   "id": "52fef06f",
   "metadata": {},
   "outputs": [
    {
     "data": {
      "text/plain": [
       "(1276, 32)"
      ]
     },
     "execution_count": 78,
     "metadata": {},
     "output_type": "execute_result"
    }
   ],
   "source": [
    "x_train.shape"
   ]
  },
  {
   "cell_type": "code",
   "execution_count": 79,
   "id": "68e7981b",
   "metadata": {},
   "outputs": [
    {
     "data": {
      "text/plain": [
       "0    1138\n",
       "1     138\n",
       "Name: NSP, dtype: int64"
      ]
     },
     "execution_count": 79,
     "metadata": {},
     "output_type": "execute_result"
    }
   ],
   "source": [
    "y_train.value_counts()"
   ]
  },
  {
   "cell_type": "code",
   "execution_count": 80,
   "id": "e6dc262c",
   "metadata": {},
   "outputs": [
    {
     "data": {
      "text/plain": [
       "0    510\n",
       "1     37\n",
       "Name: NSP, dtype: int64"
      ]
     },
     "execution_count": 80,
     "metadata": {},
     "output_type": "execute_result"
    }
   ],
   "source": [
    "y_test.value_counts()"
   ]
  },
  {
   "cell_type": "code",
   "execution_count": 81,
   "id": "3f8642d1",
   "metadata": {},
   "outputs": [
    {
     "data": {
      "text/html": [
       "<div>\n",
       "<style scoped>\n",
       "    .dataframe tbody tr th:only-of-type {\n",
       "        vertical-align: middle;\n",
       "    }\n",
       "\n",
       "    .dataframe tbody tr th {\n",
       "        vertical-align: top;\n",
       "    }\n",
       "\n",
       "    .dataframe thead th {\n",
       "        text-align: right;\n",
       "    }\n",
       "</style>\n",
       "<table border=\"1\" class=\"dataframe\">\n",
       "  <thead>\n",
       "    <tr style=\"text-align: right;\">\n",
       "      <th></th>\n",
       "      <th>b</th>\n",
       "      <th>e</th>\n",
       "      <th>LBE</th>\n",
       "      <th>AC</th>\n",
       "      <th>FM</th>\n",
       "      <th>UC</th>\n",
       "      <th>ASTV</th>\n",
       "      <th>ALTV</th>\n",
       "      <th>DL</th>\n",
       "      <th>DS</th>\n",
       "      <th>...</th>\n",
       "      <th>Tendency</th>\n",
       "      <th>A</th>\n",
       "      <th>B</th>\n",
       "      <th>C</th>\n",
       "      <th>D</th>\n",
       "      <th>E</th>\n",
       "      <th>AD</th>\n",
       "      <th>DE</th>\n",
       "      <th>LD</th>\n",
       "      <th>FS</th>\n",
       "    </tr>\n",
       "    <tr>\n",
       "      <th>NSP</th>\n",
       "      <th></th>\n",
       "      <th></th>\n",
       "      <th></th>\n",
       "      <th></th>\n",
       "      <th></th>\n",
       "      <th></th>\n",
       "      <th></th>\n",
       "      <th></th>\n",
       "      <th></th>\n",
       "      <th></th>\n",
       "      <th></th>\n",
       "      <th></th>\n",
       "      <th></th>\n",
       "      <th></th>\n",
       "      <th></th>\n",
       "      <th></th>\n",
       "      <th></th>\n",
       "      <th></th>\n",
       "      <th></th>\n",
       "      <th></th>\n",
       "      <th></th>\n",
       "    </tr>\n",
       "  </thead>\n",
       "  <tbody>\n",
       "    <tr>\n",
       "      <th>0</th>\n",
       "      <td>954.973301</td>\n",
       "      <td>1784.680218</td>\n",
       "      <td>131.995752</td>\n",
       "      <td>3.431432</td>\n",
       "      <td>6.393811</td>\n",
       "      <td>3.998786</td>\n",
       "      <td>42.486650</td>\n",
       "      <td>5.058252</td>\n",
       "      <td>1.616505</td>\n",
       "      <td>0.000607</td>\n",
       "      <td>...</td>\n",
       "      <td>0.341626</td>\n",
       "      <td>0.231189</td>\n",
       "      <td>0.348908</td>\n",
       "      <td>0.030947</td>\n",
       "      <td>0.04915</td>\n",
       "      <td>0.00182</td>\n",
       "      <td>0.200243</td>\n",
       "      <td>0.137743</td>\n",
       "      <td>0.000000</td>\n",
       "      <td>0.000000</td>\n",
       "    </tr>\n",
       "    <tr>\n",
       "      <th>1</th>\n",
       "      <td>847.234286</td>\n",
       "      <td>1640.891429</td>\n",
       "      <td>131.668571</td>\n",
       "      <td>0.331429</td>\n",
       "      <td>15.771429</td>\n",
       "      <td>3.280000</td>\n",
       "      <td>64.554286</td>\n",
       "      <td>22.571429</td>\n",
       "      <td>3.171429</td>\n",
       "      <td>0.034286</td>\n",
       "      <td>...</td>\n",
       "      <td>-0.080000</td>\n",
       "      <td>0.000000</td>\n",
       "      <td>0.000000</td>\n",
       "      <td>0.000000</td>\n",
       "      <td>0.00000</td>\n",
       "      <td>0.00000</td>\n",
       "      <td>0.000000</td>\n",
       "      <td>0.000000</td>\n",
       "      <td>0.611429</td>\n",
       "      <td>0.382857</td>\n",
       "    </tr>\n",
       "  </tbody>\n",
       "</table>\n",
       "<p>2 rows × 30 columns</p>\n",
       "</div>"
      ],
      "text/plain": [
       "              b            e         LBE        AC         FM        UC  \\\n",
       "NSP                                                                       \n",
       "0    954.973301  1784.680218  131.995752  3.431432   6.393811  3.998786   \n",
       "1    847.234286  1640.891429  131.668571  0.331429  15.771429  3.280000   \n",
       "\n",
       "          ASTV       ALTV        DL        DS  ...  Tendency         A  \\\n",
       "NSP                                            ...                       \n",
       "0    42.486650   5.058252  1.616505  0.000607  ...  0.341626  0.231189   \n",
       "1    64.554286  22.571429  3.171429  0.034286  ... -0.080000  0.000000   \n",
       "\n",
       "            B         C        D        E        AD        DE        LD  \\\n",
       "NSP                                                                       \n",
       "0    0.348908  0.030947  0.04915  0.00182  0.200243  0.137743  0.000000   \n",
       "1    0.000000  0.000000  0.00000  0.00000  0.000000  0.000000  0.611429   \n",
       "\n",
       "           FS  \n",
       "NSP            \n",
       "0    0.000000  \n",
       "1    0.382857  \n",
       "\n",
       "[2 rows x 30 columns]"
      ]
     },
     "execution_count": 81,
     "metadata": {},
     "output_type": "execute_result"
    }
   ],
   "source": [
    "df.groupby('NSP').mean()"
   ]
  },
  {
   "cell_type": "code",
   "execution_count": 82,
   "id": "b161c6f9",
   "metadata": {},
   "outputs": [],
   "source": [
    "cont_columns = ['b', 'e', 'LBE', 'AC', 'UC', 'ASTV', 'MSTV', 'ALTV', 'MLTV', 'Width', 'Min', 'Max',\n",
    "                'Nmax', 'Nzeros', 'Median', 'Variance']\n",
    "# binary = ['DS', 'A', 'B', 'C', 'D', 'E', 'AD', 'DE', 'LD', 'FS']\n",
    "binary = ['DS']\n",
    "# Пришлось убрать часть признаков, т.к. с ними нечего моделировать - по ним можно однозначно ставить диагноз\n",
    "\n",
    "\n",
    "other = ['DP','Tendency']\n",
    "new_f = ['FM_bins', 'ALTV_bins', 'Nzeros_bins']"
   ]
  },
  {
   "cell_type": "code",
   "execution_count": 83,
   "id": "4b6e2581",
   "metadata": {},
   "outputs": [],
   "source": [
    "class DataProcessing(BaseEstimator,TransformerMixin):\n",
    "    \n",
    "    def fit(self, X, y=None):\n",
    "        return self\n",
    "    \n",
    "    def transform(self, X, y=None):\n",
    "        X1 = X.copy()\n",
    "        ss =  StandardScaler()\n",
    "        \n",
    "        X1['MSTV'] = [float(el.replace(\",\", \".\")) for el in X['MSTV']]\n",
    "        X1['MLTV'] = [float(el.replace(\",\", \".\")) for el in X['MLTV']]\n",
    "        \n",
    "        X1['FM_bins'] = bins_FM(X['FM'])  \n",
    "        X1['ALTV_bins'] = bins_ALTV(X['ALTV'])\n",
    "        X1['Nzeros_bins'] = bins_Nzeros(X['Nzeros'])\n",
    "        \n",
    "        return X1[cont_columns+binary+other+new_f]"
   ]
  },
  {
   "cell_type": "code",
   "execution_count": 84,
   "id": "928b0b97",
   "metadata": {},
   "outputs": [],
   "source": [
    "# dp = DataProcessing()\n",
    "\n",
    "# X_train = dp.fit_transform(x_train)\n",
    "# X_test = dp.fit_transform(x_test)"
   ]
  },
  {
   "cell_type": "code",
   "execution_count": 85,
   "id": "d8d197bc",
   "metadata": {},
   "outputs": [],
   "source": [
    "# model1 = RandomForestClassifier(random_state = 42)"
   ]
  },
  {
   "cell_type": "code",
   "execution_count": 86,
   "id": "f6270412",
   "metadata": {},
   "outputs": [],
   "source": [
    "# model1.fit(X_train, y_train)"
   ]
  },
  {
   "cell_type": "code",
   "execution_count": 87,
   "id": "d80202d2",
   "metadata": {},
   "outputs": [],
   "source": [
    "# model1.feature_importances_"
   ]
  },
  {
   "cell_type": "code",
   "execution_count": 88,
   "id": "aedff689",
   "metadata": {},
   "outputs": [],
   "source": [
    "pipeline = Pipeline([\n",
    "    ('dp', DataProcessing()),\n",
    "    ('classifier', RandomForestClassifier(random_state = 42)),\n",
    "])"
   ]
  },
  {
   "cell_type": "code",
   "execution_count": 89,
   "id": "e6cb8dc9",
   "metadata": {},
   "outputs": [
    {
     "data": {
      "text/plain": [
       "Pipeline(steps=[('dp', DataProcessing()),\n",
       "                ('classifier', RandomForestClassifier(random_state=42))])"
      ]
     },
     "execution_count": 89,
     "metadata": {},
     "output_type": "execute_result"
    }
   ],
   "source": [
    "pipeline.fit(x_train, y_train)"
   ]
  },
  {
   "cell_type": "code",
   "execution_count": 90,
   "id": "1ae98ce8",
   "metadata": {},
   "outputs": [],
   "source": [
    "preds = pipeline.predict_proba(x_test)[:, 1]"
   ]
  },
  {
   "cell_type": "code",
   "execution_count": 91,
   "id": "b91889ec",
   "metadata": {},
   "outputs": [
    {
     "name": "stdout",
     "output_type": "stream",
     "text": [
      "Best Threshold=0.400000, F-Score=0.959, Precision=0.972, Recall=0.946\n"
     ]
    }
   ],
   "source": [
    "precision, recall, thresholds = precision_recall_curve(y_test, preds)\n",
    "\n",
    "fscore = (2 * precision * recall) / (precision + recall)\n",
    "# locate the index of the largest f score\n",
    "ix = np.argmax(fscore)\n",
    "print('Best Threshold=%f, F-Score=%.3f, Precision=%.3f, Recall=%.3f' % (thresholds[ix], \n",
    "                                                                        fscore[ix],\n",
    "                                                                        precision[ix],\n",
    "                                                                        recall[ix]))"
   ]
  },
  {
   "cell_type": "code",
   "execution_count": 92,
   "id": "3d6d7def",
   "metadata": {},
   "outputs": [],
   "source": [
    "# params={'classifier__max_features':[0.2, 0.4, 0.6],\n",
    "#         'classifier__min_samples_leaf':[1, 2, 3],\n",
    "#         'classifier__max_depth':[None]\n",
    "#         }"
   ]
  },
  {
   "cell_type": "code",
   "execution_count": 93,
   "id": "539ea572",
   "metadata": {},
   "outputs": [],
   "source": [
    "# grid = GridSearchCV(pipeline,\n",
    "#                     param_grid=params,\n",
    "#                     cv=6,\n",
    "#                     refit=False)\n",
    "\n",
    "# search = grid.fit(x_train, y_train)\n",
    "# search.best_params_"
   ]
  },
  {
   "cell_type": "code",
   "execution_count": 94,
   "id": "ee6ed51e",
   "metadata": {},
   "outputs": [],
   "source": [
    "# pipeline = Pipeline([\n",
    "#     ('dp', DataProcessing()),\n",
    "#     ('classifier', RandomForestClassifier(max_depth=None, max_features=0.2, min_samples_leaf=1, random_state = 42)),\n",
    "# ])"
   ]
  },
  {
   "cell_type": "code",
   "execution_count": 95,
   "id": "b9787577",
   "metadata": {},
   "outputs": [],
   "source": [
    "# pipeline.fit(x_train, y_train)\n",
    "# preds = pipeline.predict_proba(x_test)[:, 1]\n",
    "\n",
    "# precision, recall, thresholds = precision_recall_curve(y_test, preds)\n",
    "\n",
    "# fscore = (2 * precision * recall) / (precision + recall)\n",
    "# # locate the index of the largest f score\n",
    "# ix = np.argmax(fscore)\n",
    "# print('Best Threshold=%f, F-Score=%.3f, Precision=%.3f, Recall=%.3f' % (thresholds[ix], \n",
    "#                                                                         fscore[ix],\n",
    "#                                                                         precision[ix],\n",
    "#                                                                         recall[ix]))"
   ]
  },
  {
   "cell_type": "code",
   "execution_count": 96,
   "id": "0b938a5f",
   "metadata": {},
   "outputs": [],
   "source": [
    "results = pd.DataFrame(columns = ['known_labels_ratio', 'threshold', 'f_score', 'precision', 'recall'])"
   ]
  },
  {
   "cell_type": "code",
   "execution_count": 97,
   "id": "3c991679",
   "metadata": {},
   "outputs": [
    {
     "data": {
      "text/html": [
       "<div>\n",
       "<style scoped>\n",
       "    .dataframe tbody tr th:only-of-type {\n",
       "        vertical-align: middle;\n",
       "    }\n",
       "\n",
       "    .dataframe tbody tr th {\n",
       "        vertical-align: top;\n",
       "    }\n",
       "\n",
       "    .dataframe thead th {\n",
       "        text-align: right;\n",
       "    }\n",
       "</style>\n",
       "<table border=\"1\" class=\"dataframe\">\n",
       "  <thead>\n",
       "    <tr style=\"text-align: right;\">\n",
       "      <th></th>\n",
       "      <th>known_labels_ratio</th>\n",
       "      <th>threshold</th>\n",
       "      <th>f_score</th>\n",
       "      <th>precision</th>\n",
       "      <th>recall</th>\n",
       "    </tr>\n",
       "  </thead>\n",
       "  <tbody>\n",
       "    <tr>\n",
       "      <th>0</th>\n",
       "      <td>1.0</td>\n",
       "      <td>0.4</td>\n",
       "      <td>0.958904</td>\n",
       "      <td>0.972222</td>\n",
       "      <td>0.945946</td>\n",
       "    </tr>\n",
       "  </tbody>\n",
       "</table>\n",
       "</div>"
      ],
      "text/plain": [
       "   known_labels_ratio  threshold   f_score  precision    recall\n",
       "0                 1.0        0.4  0.958904   0.972222  0.945946"
      ]
     },
     "execution_count": 97,
     "metadata": {},
     "output_type": "execute_result"
    }
   ],
   "source": [
    "results = results.append({'known_labels_ratio': 1,\n",
    "                'threshold': thresholds[ix],\n",
    "                'f_score': fscore[ix],\n",
    "                'precision': precision[ix],\n",
    "                'recall': recall[ix]},\n",
    "               ignore_index=True)\n",
    "results"
   ]
  },
  {
   "cell_type": "code",
   "execution_count": 105,
   "id": "4f2e9122",
   "metadata": {},
   "outputs": [],
   "source": [
    "known_labels_ratio = 0.3\n",
    "tp = x_train[y_train==1]\n",
    "\n",
    "x_train['new_label'] = 0\n",
    "x_train.loc[tp.sample(frac = known_labels_ratio, replace=False).index, 'new_label'] = 1"
   ]
  },
  {
   "cell_type": "code",
   "execution_count": 99,
   "id": "03e224b1",
   "metadata": {},
   "outputs": [],
   "source": [
    "# rp = np.random.permutation(tp.index)\n",
    "# data_P = tp.loc[rp[:int(len(rp)*known_labels_ratio)]]\n",
    "# data_U = np.concatenate((tp.loc[rp[int(len(rp)*known_labels_ratio):]], x_train[y_train==0]), axis=0)"
   ]
  },
  {
   "cell_type": "code",
   "execution_count": 106,
   "id": "37dae680",
   "metadata": {},
   "outputs": [],
   "source": [
    "u = x_train[x_train['new_label'] == 0]\n",
    "\n",
    "new_x_train = pd.concat([x_train.loc[(x_train['new_label'] == 1)], u.sample(frac = 0.5, replace=False)], axis=0)"
   ]
  },
  {
   "cell_type": "code",
   "execution_count": 107,
   "id": "ca86bdc8",
   "metadata": {},
   "outputs": [
    {
     "data": {
      "text/plain": [
       "Pipeline(steps=[('dp', DataProcessing()),\n",
       "                ('classifier', RandomForestClassifier(random_state=42))])"
      ]
     },
     "execution_count": 107,
     "metadata": {},
     "output_type": "execute_result"
    }
   ],
   "source": [
    "pipeline.fit(new_x_train.drop('new_label', 1), new_x_train['new_label'])"
   ]
  },
  {
   "cell_type": "code",
   "execution_count": 108,
   "id": "2dce5e9d",
   "metadata": {},
   "outputs": [],
   "source": [
    "preds = pipeline.predict_proba(x_test)[:, 1]"
   ]
  },
  {
   "cell_type": "code",
   "execution_count": 109,
   "id": "277f0c3d",
   "metadata": {},
   "outputs": [
    {
     "name": "stdout",
     "output_type": "stream",
     "text": [
      "Best Threshold=0.100000, F-Score=0.838, Precision=0.838, Recall=0.838\n"
     ]
    }
   ],
   "source": [
    "precision, recall, thresholds = precision_recall_curve(y_test, preds)\n",
    "\n",
    "fscore = (2 * precision * recall) / (precision + recall)\n",
    "# locate the index of the largest f score\n",
    "ix = np.argmax(fscore)\n",
    "print('Best Threshold=%f, F-Score=%.3f, Precision=%.3f, Recall=%.3f' % (thresholds[ix], \n",
    "                                                                        fscore[ix],\n",
    "                                                                        precision[ix],\n",
    "                                                                        recall[ix]))"
   ]
  },
  {
   "cell_type": "code",
   "execution_count": 117,
   "id": "1294eded",
   "metadata": {},
   "outputs": [
    {
     "data": {
      "text/html": [
       "<div>\n",
       "<style scoped>\n",
       "    .dataframe tbody tr th:only-of-type {\n",
       "        vertical-align: middle;\n",
       "    }\n",
       "\n",
       "    .dataframe tbody tr th {\n",
       "        vertical-align: top;\n",
       "    }\n",
       "\n",
       "    .dataframe thead th {\n",
       "        text-align: right;\n",
       "    }\n",
       "</style>\n",
       "<table border=\"1\" class=\"dataframe\">\n",
       "  <thead>\n",
       "    <tr style=\"text-align: right;\">\n",
       "      <th></th>\n",
       "      <th>known_labels_ratio</th>\n",
       "      <th>threshold</th>\n",
       "      <th>f_score</th>\n",
       "      <th>precision</th>\n",
       "      <th>recall</th>\n",
       "    </tr>\n",
       "  </thead>\n",
       "  <tbody>\n",
       "    <tr>\n",
       "      <th>0</th>\n",
       "      <td>1.0</td>\n",
       "      <td>0.40</td>\n",
       "      <td>0.958904</td>\n",
       "      <td>0.972222</td>\n",
       "      <td>0.945946</td>\n",
       "    </tr>\n",
       "    <tr>\n",
       "      <th>1</th>\n",
       "      <td>0.5</td>\n",
       "      <td>0.19</td>\n",
       "      <td>0.906667</td>\n",
       "      <td>0.894737</td>\n",
       "      <td>0.918919</td>\n",
       "    </tr>\n",
       "    <tr>\n",
       "      <th>2</th>\n",
       "      <td>0.3</td>\n",
       "      <td>0.10</td>\n",
       "      <td>0.837838</td>\n",
       "      <td>0.837838</td>\n",
       "      <td>0.837838</td>\n",
       "    </tr>\n",
       "  </tbody>\n",
       "</table>\n",
       "</div>"
      ],
      "text/plain": [
       "   known_labels_ratio  threshold   f_score  precision    recall\n",
       "0                 1.0       0.40  0.958904   0.972222  0.945946\n",
       "1                 0.5       0.19  0.906667   0.894737  0.918919\n",
       "2                 0.3       0.10  0.837838   0.837838  0.837838"
      ]
     },
     "execution_count": 117,
     "metadata": {},
     "output_type": "execute_result"
    }
   ],
   "source": [
    "results = results.append({'known_labels_ratio': 0.3,\n",
    "                'threshold': thresholds[ix],\n",
    "                'f_score': fscore[ix],\n",
    "                'precision': precision[ix],\n",
    "                'recall': recall[ix]},\n",
    "               ignore_index=True)\n",
    "results"
   ]
  },
  {
   "cell_type": "code",
   "execution_count": null,
   "id": "b0eb164e",
   "metadata": {},
   "outputs": [],
   "source": []
  }
 ],
 "metadata": {
  "kernelspec": {
   "display_name": "Python 3",
   "language": "python",
   "name": "python3"
  },
  "language_info": {
   "codemirror_mode": {
    "name": "ipython",
    "version": 3
   },
   "file_extension": ".py",
   "mimetype": "text/x-python",
   "name": "python",
   "nbconvert_exporter": "python",
   "pygments_lexer": "ipython3",
   "version": "3.9.3"
  }
 },
 "nbformat": 4,
 "nbformat_minor": 5
}
