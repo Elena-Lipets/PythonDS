{
 "cells": [
  {
   "cell_type": "code",
   "execution_count": 1,
   "id": "2a933691",
   "metadata": {},
   "outputs": [],
   "source": [
    "import numpy as np\n",
    "import pandas as pd\n",
    "import matplotlib.pyplot as plt\n",
    "import warnings \n",
    "warnings.filterwarnings('ignore')\n",
    "%matplotlib inline"
   ]
  },
  {
   "cell_type": "code",
   "execution_count": 2,
   "id": "21378c2c",
   "metadata": {},
   "outputs": [],
   "source": [
    "from sklearn.model_selection import train_test_split, GridSearchCV"
   ]
  },
  {
   "cell_type": "code",
   "execution_count": 3,
   "id": "8ae4a005",
   "metadata": {},
   "outputs": [],
   "source": [
    "from sklearn.pipeline import Pipeline, FeatureUnion\n",
    "from sklearn.base import BaseEstimator, TransformerMixin\n",
    "from sklearn.ensemble import RandomForestClassifier, GradientBoostingClassifier\n",
    "from sklearn.metrics import f1_score, precision_score, recall_score, precision_recall_curve, confusion_matrix"
   ]
  },
  {
   "cell_type": "code",
   "execution_count": 4,
   "id": "e53f268c",
   "metadata": {},
   "outputs": [],
   "source": [
    "from catboost import CatBoostClassifier"
   ]
  },
  {
   "cell_type": "code",
   "execution_count": 5,
   "id": "db631e9b",
   "metadata": {},
   "outputs": [],
   "source": [
    "df = pd.read_csv('marketing_campaign.csv')"
   ]
  },
  {
   "cell_type": "code",
   "execution_count": 6,
   "id": "7d43436f",
   "metadata": {},
   "outputs": [
    {
     "name": "stdout",
     "output_type": "stream",
     "text": [
      "<class 'pandas.core.frame.DataFrame'>\n",
      "RangeIndex: 10037 entries, 0 to 10036\n",
      "Data columns (total 6 columns):\n",
      " #   Column              Non-Null Count  Dtype \n",
      "---  ------              --------------  ----- \n",
      " 0   user_id             10037 non-null  object\n",
      " 1   date_served         10021 non-null  object\n",
      " 2   marketing_channel   10022 non-null  object\n",
      " 3   variant             10037 non-null  object\n",
      " 4   language_displayed  10037 non-null  object\n",
      " 5   converted           10022 non-null  object\n",
      "dtypes: object(6)\n",
      "memory usage: 470.6+ KB\n"
     ]
    }
   ],
   "source": [
    "df.info()"
   ]
  },
  {
   "cell_type": "markdown",
   "id": "f39b83e7",
   "metadata": {},
   "source": [
    "Проверить гипотезу о том, в каком варианте теста (control/personalization) больше конверсия (converted) и значимо ли это отличие статистически."
   ]
  },
  {
   "cell_type": "code",
   "execution_count": 7,
   "id": "9b4b17e9",
   "metadata": {},
   "outputs": [
    {
     "data": {
      "text/plain": [
       "False    8946\n",
       "True     1076\n",
       "Name: converted, dtype: int64"
      ]
     },
     "execution_count": 7,
     "metadata": {},
     "output_type": "execute_result"
    }
   ],
   "source": [
    "df = df.loc[df['converted'].notna()]\n",
    "\n",
    "df['converted'].value_counts()"
   ]
  },
  {
   "cell_type": "code",
   "execution_count": 8,
   "id": "4e75f0ca",
   "metadata": {},
   "outputs": [],
   "source": [
    "df['converted'] = df['converted'].map(lambda x: int(x))"
   ]
  },
  {
   "cell_type": "code",
   "execution_count": 9,
   "id": "fd633b33",
   "metadata": {},
   "outputs": [
    {
     "data": {
      "text/plain": [
       "control            5076\n",
       "personalization    4946\n",
       "Name: variant, dtype: int64"
      ]
     },
     "execution_count": 9,
     "metadata": {},
     "output_type": "execute_result"
    }
   ],
   "source": [
    "df['variant'].value_counts()"
   ]
  },
  {
   "cell_type": "code",
   "execution_count": 10,
   "id": "8c059be3",
   "metadata": {},
   "outputs": [],
   "source": [
    "y_A = df.loc[df['variant']=='control', 'converted']\n",
    "y_B = df.loc[df['variant']=='personalization', 'converted']"
   ]
  },
  {
   "cell_type": "code",
   "execution_count": 11,
   "id": "cfcf2569",
   "metadata": {},
   "outputs": [
    {
     "data": {
      "text/plain": [
       "(371, 705, 5076, 4946)"
      ]
     },
     "execution_count": 11,
     "metadata": {},
     "output_type": "execute_result"
    }
   ],
   "source": [
    "k1, n1 = y_A.sum(), len(y_A)\n",
    "k2, n2 = y_B.sum(), len(y_B)\n",
    "k1, k2, n1, n2"
   ]
  },
  {
   "cell_type": "code",
   "execution_count": 12,
   "id": "64aa3642",
   "metadata": {},
   "outputs": [
    {
     "name": "stdout",
     "output_type": "stream",
     "text": [
      "Results are z_score=-11.228 pvalue=0.000\n"
     ]
    }
   ],
   "source": [
    "from statsmodels.stats import proportion\n",
    "\n",
    "z_score, z_pvalue = proportion.proportions_ztest(np.array([k1, k2]), \n",
    "                                                 np.array([n1, n2]))\n",
    "\n",
    "print(f'Results are z_score={z_score:.3f} pvalue={z_pvalue:.3f}')"
   ]
  },
  {
   "cell_type": "code",
   "execution_count": 13,
   "id": "e4005c23",
   "metadata": {},
   "outputs": [
    {
     "name": "stdout",
     "output_type": "stream",
     "text": [
      "Results are chisq=126.078 pvalue=0.000\n"
     ]
    }
   ],
   "source": [
    "chisq, pvalue, table = proportion.proportions_chisquare(np.array([k1, k2]), \n",
    "                                                        np.array([n1, n2]))\n",
    "\n",
    "print(f'Results are chisq={chisq:.3f} pvalue={pvalue:.3f}')"
   ]
  },
  {
   "cell_type": "markdown",
   "id": "53455993",
   "metadata": {},
   "source": [
    "По оббоим тестам конверсия достоверно отличается в контрольной группе и группе со специализированным подходом"
   ]
  },
  {
   "cell_type": "markdown",
   "id": "0dc2c30a",
   "metadata": {},
   "source": [
    "Сначала не верно поняла задание и пробовала строить модель, предсказывающую вероятность покупки по имеющимся данным:"
   ]
  },
  {
   "cell_type": "code",
   "execution_count": 14,
   "id": "d18378cc",
   "metadata": {},
   "outputs": [],
   "source": [
    "df = pd.read_csv('marketing_campaign.csv')\n",
    "\n",
    "df1 = pd.read_csv('subscribers.csv')\n",
    "\n",
    "df2 = pd.read_csv('users.csv')"
   ]
  },
  {
   "cell_type": "code",
   "execution_count": 15,
   "id": "d3aa8285",
   "metadata": {},
   "outputs": [],
   "source": [
    "# df1.info()"
   ]
  },
  {
   "cell_type": "code",
   "execution_count": 16,
   "id": "223affe5",
   "metadata": {},
   "outputs": [],
   "source": [
    "# df2.info()"
   ]
  },
  {
   "cell_type": "code",
   "execution_count": 17,
   "id": "503a60d9",
   "metadata": {},
   "outputs": [],
   "source": [
    "data = pd.merge(df, df1, on='user_id', how='left')"
   ]
  },
  {
   "cell_type": "code",
   "execution_count": 18,
   "id": "f56fb955",
   "metadata": {},
   "outputs": [],
   "source": [
    "full_data = pd.merge(data, df2, on='user_id', how='left')"
   ]
  },
  {
   "cell_type": "code",
   "execution_count": 19,
   "id": "e981bea9",
   "metadata": {},
   "outputs": [
    {
     "name": "stdout",
     "output_type": "stream",
     "text": [
      "<class 'pandas.core.frame.DataFrame'>\n",
      "Int64Index: 10037 entries, 0 to 10036\n",
      "Data columns (total 12 columns):\n",
      " #   Column               Non-Null Count  Dtype \n",
      "---  ------               --------------  ----- \n",
      " 0   user_id              10037 non-null  object\n",
      " 1   date_served          10021 non-null  object\n",
      " 2   marketing_channel    10022 non-null  object\n",
      " 3   variant              10037 non-null  object\n",
      " 4   language_displayed   10037 non-null  object\n",
      " 5   converted            10022 non-null  object\n",
      " 6   subscribing_channel  1856 non-null   object\n",
      " 7   date_subscribed      1856 non-null   object\n",
      " 8   date_canceled        577 non-null    object\n",
      " 9   is_retained          1856 non-null   object\n",
      " 10  age_group            10037 non-null  object\n",
      " 11  language_preferred   10037 non-null  object\n",
      "dtypes: object(12)\n",
      "memory usage: 1019.4+ KB\n"
     ]
    }
   ],
   "source": [
    "full_data.info()"
   ]
  },
  {
   "cell_type": "markdown",
   "id": "549a2bdf",
   "metadata": {},
   "source": [
    "Не буду рассматривать признаки, заполненные на 1/5 и меньше"
   ]
  },
  {
   "cell_type": "code",
   "execution_count": 20,
   "id": "56f87803",
   "metadata": {},
   "outputs": [],
   "source": [
    "data = full_data[['user_id', 'date_served', 'marketing_channel', 'variant', 'language_displayed',\n",
    "            'language_preferred', 'age_group', 'converted']]"
   ]
  },
  {
   "cell_type": "code",
   "execution_count": 21,
   "id": "5c29f7c2",
   "metadata": {},
   "outputs": [
    {
     "data": {
      "text/plain": [
       "9515"
      ]
     },
     "execution_count": 21,
     "metadata": {},
     "output_type": "execute_result"
    }
   ],
   "source": [
    "(data['language_displayed'] == data['language_preferred']).sum()"
   ]
  },
  {
   "cell_type": "markdown",
   "id": "c28d8375",
   "metadata": {},
   "source": [
    "Два поля совпадают более, чем в 95% случаев - одно удаляю."
   ]
  },
  {
   "cell_type": "code",
   "execution_count": 22,
   "id": "9a1f55c2",
   "metadata": {},
   "outputs": [],
   "source": [
    "data.drop('language_preferred', axis=1, inplace=True)"
   ]
  },
  {
   "cell_type": "code",
   "execution_count": 23,
   "id": "8bc8172c",
   "metadata": {},
   "outputs": [
    {
     "name": "stdout",
     "output_type": "stream",
     "text": [
      "<class 'pandas.core.frame.DataFrame'>\n",
      "Int64Index: 10037 entries, 0 to 10036\n",
      "Data columns (total 7 columns):\n",
      " #   Column              Non-Null Count  Dtype \n",
      "---  ------              --------------  ----- \n",
      " 0   user_id             10037 non-null  object\n",
      " 1   date_served         10021 non-null  object\n",
      " 2   marketing_channel   10022 non-null  object\n",
      " 3   variant             10037 non-null  object\n",
      " 4   language_displayed  10037 non-null  object\n",
      " 5   age_group           10037 non-null  object\n",
      " 6   converted           10022 non-null  object\n",
      "dtypes: object(7)\n",
      "memory usage: 627.3+ KB\n"
     ]
    }
   ],
   "source": [
    "data.info()"
   ]
  },
  {
   "cell_type": "markdown",
   "id": "db2a7e67",
   "metadata": {},
   "source": [
    "Нас интересуют только размеченные данные, т.е. только те, для которых поле converted - non-null"
   ]
  },
  {
   "cell_type": "code",
   "execution_count": 24,
   "id": "99caa7de",
   "metadata": {},
   "outputs": [
    {
     "data": {
      "text/plain": [
       "False    8946\n",
       "True     1076\n",
       "Name: converted, dtype: int64"
      ]
     },
     "execution_count": 24,
     "metadata": {},
     "output_type": "execute_result"
    }
   ],
   "source": [
    "data = data.loc[data['converted'].notna()]\n",
    "\n",
    "data['converted'].value_counts()"
   ]
  },
  {
   "cell_type": "code",
   "execution_count": 25,
   "id": "87ab8995",
   "metadata": {},
   "outputs": [],
   "source": [
    "data['converted'] = data['converted'].map(lambda x: int(x))"
   ]
  },
  {
   "cell_type": "code",
   "execution_count": 26,
   "id": "0faedad2",
   "metadata": {},
   "outputs": [],
   "source": [
    "df = data.copy()"
   ]
  },
  {
   "cell_type": "code",
   "execution_count": 27,
   "id": "64b1f706",
   "metadata": {},
   "outputs": [],
   "source": [
    "data['date_served'].fillna(data['date_served'].mode()[0], inplace=True)"
   ]
  },
  {
   "cell_type": "code",
   "execution_count": 28,
   "id": "0b8c3206",
   "metadata": {},
   "outputs": [],
   "source": [
    "from datetime import datetime"
   ]
  },
  {
   "cell_type": "code",
   "execution_count": 29,
   "id": "7aa9e433",
   "metadata": {},
   "outputs": [],
   "source": [
    "data['date_served'] = data['date_served'].map(lambda x: datetime.strptime(x, '%m/%d/%y').date())"
   ]
  },
  {
   "cell_type": "code",
   "execution_count": 30,
   "id": "c6d58f5b",
   "metadata": {},
   "outputs": [
    {
     "data": {
      "text/plain": [
       "2018-01-15    790\n",
       "2018-01-02    417\n",
       "2018-01-16    391\n",
       "2018-01-03    388\n",
       "2018-01-01    375\n",
       "2018-01-17    374\n",
       "2018-01-31    347\n",
       "2018-01-10    342\n",
       "2018-01-04    336\n",
       "2018-01-27    331\n",
       "2018-01-05    331\n",
       "2018-01-28    330\n",
       "2018-01-30    330\n",
       "2018-01-29    328\n",
       "2018-01-20    321\n",
       "2018-01-18    320\n",
       "2018-01-08    319\n",
       "2018-01-09    315\n",
       "2018-01-06    315\n",
       "2018-01-11    314\n",
       "2018-01-14    309\n",
       "2018-01-13    308\n",
       "2018-01-19    308\n",
       "2018-01-12    306\n",
       "2018-01-07    281\n",
       "2018-01-21    234\n",
       "2018-01-26    225\n",
       "2018-01-24    193\n",
       "2018-01-25    186\n",
       "2018-01-22    182\n",
       "2018-01-23    176\n",
       "Name: date_served, dtype: int64"
      ]
     },
     "execution_count": 30,
     "metadata": {},
     "output_type": "execute_result"
    }
   ],
   "source": [
    "data['date_served'].value_counts()"
   ]
  },
  {
   "cell_type": "markdown",
   "id": "7eed3abd",
   "metadata": {},
   "source": [
    "Отличается только день - оставляю его"
   ]
  },
  {
   "cell_type": "code",
   "execution_count": 31,
   "id": "8bda474a",
   "metadata": {},
   "outputs": [],
   "source": [
    "data['date_served'] = data['date_served'].map(lambda x: x.day)"
   ]
  },
  {
   "cell_type": "code",
   "execution_count": 32,
   "id": "61ff0b74",
   "metadata": {},
   "outputs": [
    {
     "data": {
      "text/plain": [
       "House Ads    4733\n",
       "Instagram    1871\n",
       "Facebook     1860\n",
       "Push          993\n",
       "Email         565\n",
       "Name: marketing_channel, dtype: int64"
      ]
     },
     "execution_count": 32,
     "metadata": {},
     "output_type": "execute_result"
    }
   ],
   "source": [
    "data['marketing_channel'].value_counts()"
   ]
  },
  {
   "cell_type": "code",
   "execution_count": 33,
   "id": "4e98754f",
   "metadata": {},
   "outputs": [
    {
     "data": {
      "text/plain": [
       "control            5076\n",
       "personalization    4946\n",
       "Name: variant, dtype: int64"
      ]
     },
     "execution_count": 33,
     "metadata": {},
     "output_type": "execute_result"
    }
   ],
   "source": [
    "data['variant'].value_counts()"
   ]
  },
  {
   "cell_type": "code",
   "execution_count": 34,
   "id": "bd2e4b85",
   "metadata": {},
   "outputs": [],
   "source": [
    "data['variant'] = data['variant'].map({'control': 0, 'personalization': 1})"
   ]
  },
  {
   "cell_type": "code",
   "execution_count": 35,
   "id": "83cab48d",
   "metadata": {},
   "outputs": [
    {
     "data": {
      "text/plain": [
       "English    9778\n",
       "Spanish     136\n",
       "German       81\n",
       "Arabic       27\n",
       "Name: language_displayed, dtype: int64"
      ]
     },
     "execution_count": 35,
     "metadata": {},
     "output_type": "execute_result"
    }
   ],
   "source": [
    "data['language_displayed'].value_counts()"
   ]
  },
  {
   "cell_type": "code",
   "execution_count": 36,
   "id": "0dbdb515",
   "metadata": {},
   "outputs": [],
   "source": [
    "# data['language_n'] = data['language_displayed'].map(dict(data['language_displayed'].value_counts()))\n",
    "data['language_n'] = data['language_displayed'].map({'English': 4, 'Spanish': 3, 'German': 2, 'Arabic': 1})"
   ]
  },
  {
   "cell_type": "code",
   "execution_count": 37,
   "id": "97edffd6",
   "metadata": {},
   "outputs": [
    {
     "data": {
      "text/plain": [
       "19-24 years    1679\n",
       "24-30 years    1566\n",
       "0-18 years     1537\n",
       "30-36 years    1353\n",
       "45-55 years    1351\n",
       "36-45 years    1351\n",
       "55+ years      1185\n",
       "Name: age_group, dtype: int64"
      ]
     },
     "execution_count": 37,
     "metadata": {},
     "output_type": "execute_result"
    }
   ],
   "source": [
    "data['age_group'].value_counts()"
   ]
  },
  {
   "cell_type": "code",
   "execution_count": 38,
   "id": "03bc0c81",
   "metadata": {},
   "outputs": [],
   "source": [
    "data['age_group'] = data['age_group'].map({'0-18 years': 9, '19-24 years': 22, '24-30 years': 27, '30-36 years': 33,\n",
    "                                           '36-45 years': 40, '45-55 years': 50, '55+ years': 60})"
   ]
  },
  {
   "cell_type": "code",
   "execution_count": 39,
   "id": "2bd66347",
   "metadata": {},
   "outputs": [
    {
     "data": {
      "text/plain": [
       "10022"
      ]
     },
     "execution_count": 39,
     "metadata": {},
     "output_type": "execute_result"
    }
   ],
   "source": [
    "data['user_id'].nunique()"
   ]
  },
  {
   "cell_type": "markdown",
   "id": "1d0b607e",
   "metadata": {},
   "source": [
    "user_id уникален, вместо него можно оставить индекс или его самого сделать индексом"
   ]
  },
  {
   "cell_type": "code",
   "execution_count": 40,
   "id": "14df8115",
   "metadata": {},
   "outputs": [],
   "source": [
    "class OHEEncoder(BaseEstimator, TransformerMixin):\n",
    "    def __init__(self, key):\n",
    "        self.key = key\n",
    "        self.columns = []\n",
    "\n",
    "    def fit(self, X, y=None):\n",
    "        self.columns = [col for col in pd.get_dummies(X, prefix=self.key).columns]\n",
    "        return self\n",
    "\n",
    "    def transform(self, X):\n",
    "        X = pd.get_dummies(X, prefix=self.key)\n",
    "        test_columns = [col for col in X.columns]\n",
    "        for col_ in self.columns:\n",
    "            if col_ not in test_columns:\n",
    "                X[col_] = 0\n",
    "        return X[self.columns]\n"
   ]
  },
  {
   "cell_type": "code",
   "execution_count": 41,
   "id": "3c62fdfa",
   "metadata": {},
   "outputs": [],
   "source": [
    "# cat_columns = ['user_id', 'date_served', 'marketing_channel', 'variant', 'language_displayed',\n",
    "#             'language_preferred', 'age_group', 'converted']\n",
    "# cat_columns = ['marketing_channel', 'language_displayed']\n",
    "\n",
    "# ohe = OHEEncoder(key=cat_columns)\n",
    "\n",
    "# X_dum =ohe.fit_transform(data[cat_columns])"
   ]
  },
  {
   "cell_type": "code",
   "execution_count": 42,
   "id": "8c47c28d",
   "metadata": {},
   "outputs": [],
   "source": [
    "class DataProcessing(BaseEstimator,TransformerMixin):\n",
    "    \n",
    "    def fit(self, X, y=None):\n",
    "        return self\n",
    "    \n",
    "    def transform(self, X, y=None):\n",
    "        X1 = X.copy()\n",
    "        \n",
    "        X1['date_served'].fillna(X1['date_served'].mode()[0], inplace=True)\n",
    "        X1['date_served'] = X1['date_served'].map(lambda x: datetime.strptime(x, '%m/%d/%y').date())\n",
    "        X1['date_served'] = X1['date_served'].map(lambda x: x.day)\n",
    "        \n",
    "        col_to_dum = ['marketing_channel', 'language_displayed']\n",
    "        ohe = OHEEncoder(key=col_to_dum)\n",
    "        X_dum = ohe.fit_transform(X1[col_to_dum])\n",
    "        \n",
    "#         X1['language_n'] = X1['language_displayed'].map(dict(X1['language_displayed'].value_counts()))\n",
    "        X1['language_n'] = X1['language_displayed'].map({'English': 4, 'Spanish': 3, 'German': 2, 'Arabic': 1})\n",
    "    \n",
    "        X1['variant'] = X1['variant'].map({'control': 0, 'personalization': 1})\n",
    "        \n",
    "        X1['age_group'] = X1['age_group'].map({'0-18 years': 9, '19-24 years': 22, '24-30 years': 27, '30-36 years': 33,\n",
    "                                           '36-45 years': 40, '45-55 years': 50, '55+ years': 60})\n",
    "        \n",
    "        X1['marketing_channel_n'] = X1['marketing_channel'].map({'Email': 1, 'Push': 2, 'Facebook': 3, 'Instagram': 4, 'House Ads': 5})\n",
    "        \n",
    "        \n",
    "        return pd.concat([X1[['date_served', 'variant', 'age_group', 'language_n', 'marketing_channel_n']], X_dum], axis=1)\n",
    "#         return X1[['date_served', 'variant', 'age_group', 'language_n']]"
   ]
  },
  {
   "cell_type": "code",
   "execution_count": 43,
   "id": "39b1a8f4",
   "metadata": {},
   "outputs": [],
   "source": [
    "x_train, x_test, y_train, y_test = train_test_split(df.drop('converted', 1), df['converted'], test_size=0.3, random_state=7)\n",
    "x_train, x_val, y_train, y_val = train_test_split(x_train, y_train, test_size=0.3, random_state=7)"
   ]
  },
  {
   "cell_type": "code",
   "execution_count": 44,
   "id": "d51a110a",
   "metadata": {},
   "outputs": [],
   "source": [
    "dp = DataProcessing()"
   ]
  },
  {
   "cell_type": "code",
   "execution_count": 45,
   "id": "5317203c",
   "metadata": {},
   "outputs": [],
   "source": [
    "X_train = dp.fit_transform(x_train)\n",
    "X_val = dp.fit_transform(x_val)\n",
    "X_test = dp.fit_transform(x_test)"
   ]
  },
  {
   "cell_type": "code",
   "execution_count": 46,
   "id": "2f3c14f3",
   "metadata": {},
   "outputs": [
    {
     "data": {
      "text/plain": [
       "0    4381\n",
       "1     529\n",
       "Name: converted, dtype: int64"
      ]
     },
     "execution_count": 46,
     "metadata": {},
     "output_type": "execute_result"
    }
   ],
   "source": [
    "y_train.value_counts()"
   ]
  },
  {
   "cell_type": "code",
   "execution_count": 47,
   "id": "d27b9a10",
   "metadata": {},
   "outputs": [
    {
     "data": {
      "text/plain": [
       "0    1879\n",
       "1     226\n",
       "Name: converted, dtype: int64"
      ]
     },
     "execution_count": 47,
     "metadata": {},
     "output_type": "execute_result"
    }
   ],
   "source": [
    "y_val.value_counts()"
   ]
  },
  {
   "cell_type": "code",
   "execution_count": 48,
   "id": "1f8313e5",
   "metadata": {},
   "outputs": [
    {
     "data": {
      "text/plain": [
       "0    2686\n",
       "1     321\n",
       "Name: converted, dtype: int64"
      ]
     },
     "execution_count": 48,
     "metadata": {},
     "output_type": "execute_result"
    }
   ],
   "source": [
    "y_test.value_counts()"
   ]
  },
  {
   "cell_type": "code",
   "execution_count": 49,
   "id": "f99c62de",
   "metadata": {},
   "outputs": [
    {
     "data": {
      "text/plain": [
       "Index(['marketing_channel_Email', 'marketing_channel_Facebook',\n",
       "       'marketing_channel_House Ads', 'marketing_channel_Instagram',\n",
       "       'marketing_channel_Push', 'language_displayed_Arabic',\n",
       "       'language_displayed_English', 'language_displayed_German',\n",
       "       'language_displayed_Spanish'],\n",
       "      dtype='object')"
      ]
     },
     "execution_count": 49,
     "metadata": {},
     "output_type": "execute_result"
    }
   ],
   "source": [
    "bin_columns = X_train.columns.drop(['date_served', 'variant', 'age_group', 'language_n', 'marketing_channel_n'],1)\n",
    "bin_columns"
   ]
  },
  {
   "cell_type": "code",
   "execution_count": 50,
   "id": "031c9224",
   "metadata": {},
   "outputs": [],
   "source": [
    "cat_cal = ['date_served', 'variant', 'age_group', 'language_n', 'marketing_channel_n']"
   ]
  },
  {
   "cell_type": "code",
   "execution_count": 51,
   "id": "a2847be2",
   "metadata": {},
   "outputs": [],
   "source": [
    "group_comparison = pd.DataFrame(columns=['feature', 'X_train', 'X_val', 'X_test'])"
   ]
  },
  {
   "cell_type": "code",
   "execution_count": 52,
   "id": "79970348",
   "metadata": {},
   "outputs": [],
   "source": [
    "n_train = X_train.shape[0]\n",
    "n_val = X_val.shape[0]\n",
    "n_test = X_test.shape[0]"
   ]
  },
  {
   "cell_type": "code",
   "execution_count": 53,
   "id": "f042be0f",
   "metadata": {},
   "outputs": [],
   "source": [
    "for col in bin_columns:\n",
    "    group_comparison = group_comparison.append({'feature': col,\n",
    "                             'X_train': X_train[col].sum() / n_train,\n",
    "                             'X_val': X_val[col].sum() / n_val,\n",
    "                             'X_test': X_test[col].sum() / n_test,\n",
    "                            }, ignore_index=True)"
   ]
  },
  {
   "cell_type": "code",
   "execution_count": 54,
   "id": "38d9868b",
   "metadata": {},
   "outputs": [
    {
     "data": {
      "text/html": [
       "<div>\n",
       "<style scoped>\n",
       "    .dataframe tbody tr th:only-of-type {\n",
       "        vertical-align: middle;\n",
       "    }\n",
       "\n",
       "    .dataframe tbody tr th {\n",
       "        vertical-align: top;\n",
       "    }\n",
       "\n",
       "    .dataframe thead th {\n",
       "        text-align: right;\n",
       "    }\n",
       "</style>\n",
       "<table border=\"1\" class=\"dataframe\">\n",
       "  <thead>\n",
       "    <tr style=\"text-align: right;\">\n",
       "      <th></th>\n",
       "      <th>feature</th>\n",
       "      <th>X_train</th>\n",
       "      <th>X_val</th>\n",
       "      <th>X_test</th>\n",
       "    </tr>\n",
       "  </thead>\n",
       "  <tbody>\n",
       "    <tr>\n",
       "      <th>0</th>\n",
       "      <td>marketing_channel_Email</td>\n",
       "      <td>0.059674</td>\n",
       "      <td>0.053682</td>\n",
       "      <td>0.052877</td>\n",
       "    </tr>\n",
       "    <tr>\n",
       "      <th>1</th>\n",
       "      <td>marketing_channel_Facebook</td>\n",
       "      <td>0.180244</td>\n",
       "      <td>0.190974</td>\n",
       "      <td>0.190555</td>\n",
       "    </tr>\n",
       "    <tr>\n",
       "      <th>2</th>\n",
       "      <td>marketing_channel_House Ads</td>\n",
       "      <td>0.474542</td>\n",
       "      <td>0.459857</td>\n",
       "      <td>0.477220</td>\n",
       "    </tr>\n",
       "    <tr>\n",
       "      <th>3</th>\n",
       "      <td>marketing_channel_Instagram</td>\n",
       "      <td>0.186965</td>\n",
       "      <td>0.192874</td>\n",
       "      <td>0.181909</td>\n",
       "    </tr>\n",
       "    <tr>\n",
       "      <th>4</th>\n",
       "      <td>marketing_channel_Push</td>\n",
       "      <td>0.098574</td>\n",
       "      <td>0.102613</td>\n",
       "      <td>0.097439</td>\n",
       "    </tr>\n",
       "    <tr>\n",
       "      <th>5</th>\n",
       "      <td>language_displayed_Arabic</td>\n",
       "      <td>0.003462</td>\n",
       "      <td>0.001425</td>\n",
       "      <td>0.002328</td>\n",
       "    </tr>\n",
       "    <tr>\n",
       "      <th>6</th>\n",
       "      <td>language_displayed_English</td>\n",
       "      <td>0.976171</td>\n",
       "      <td>0.975297</td>\n",
       "      <td>0.975058</td>\n",
       "    </tr>\n",
       "    <tr>\n",
       "      <th>7</th>\n",
       "      <td>language_displayed_German</td>\n",
       "      <td>0.007128</td>\n",
       "      <td>0.006651</td>\n",
       "      <td>0.010642</td>\n",
       "    </tr>\n",
       "    <tr>\n",
       "      <th>8</th>\n",
       "      <td>language_displayed_Spanish</td>\n",
       "      <td>0.013238</td>\n",
       "      <td>0.016627</td>\n",
       "      <td>0.011972</td>\n",
       "    </tr>\n",
       "  </tbody>\n",
       "</table>\n",
       "</div>"
      ],
      "text/plain": [
       "                       feature   X_train     X_val    X_test\n",
       "0      marketing_channel_Email  0.059674  0.053682  0.052877\n",
       "1   marketing_channel_Facebook  0.180244  0.190974  0.190555\n",
       "2  marketing_channel_House Ads  0.474542  0.459857  0.477220\n",
       "3  marketing_channel_Instagram  0.186965  0.192874  0.181909\n",
       "4       marketing_channel_Push  0.098574  0.102613  0.097439\n",
       "5    language_displayed_Arabic  0.003462  0.001425  0.002328\n",
       "6   language_displayed_English  0.976171  0.975297  0.975058\n",
       "7    language_displayed_German  0.007128  0.006651  0.010642\n",
       "8   language_displayed_Spanish  0.013238  0.016627  0.011972"
      ]
     },
     "execution_count": 54,
     "metadata": {},
     "output_type": "execute_result"
    }
   ],
   "source": [
    "group_comparison"
   ]
  },
  {
   "cell_type": "markdown",
   "id": "1430257b",
   "metadata": {},
   "source": [
    "Соотношение количества значений 0 и 1 в 3х группах в бинарных колонках близкое"
   ]
  },
  {
   "cell_type": "code",
   "execution_count": 55,
   "id": "2e22749e",
   "metadata": {},
   "outputs": [],
   "source": [
    "# plt.hist([X_train['date_served'], X_val['date_served'], X_test['date_served']], density=True,\n",
    "#          label=['X_train', 'X_val', 'X_test'], color=['tab:green', 'tab:brown', 'tab:orange'])\n",
    "# plt.legend()\n",
    "# plt.show()"
   ]
  },
  {
   "cell_type": "code",
   "execution_count": 56,
   "id": "93d30753",
   "metadata": {},
   "outputs": [
    {
     "data": {
      "image/png": "[encoded data removed]",
      "text/plain": [
       "<Figure size 432x288 with 1 Axes>"
      ]
     },
     "metadata": {
      "needs_background": "light"
     },
     "output_type": "display_data"
    },
    {
     "data": {
      "image/png": "[encoded data removed]",
      "text/plain": [
       "<Figure size 432x288 with 1 Axes>"
      ]
     },
     "metadata": {
      "needs_background": "light"
     },
     "output_type": "display_data"
    },
    {
     "data": {
      "image/png": "[encoded data removed]",
      "text/plain": [
       "<Figure size 432x288 with 1 Axes>"
      ]
     },
     "metadata": {
      "needs_background": "light"
     },
     "output_type": "display_data"
    },
    {
     "data": {
      "image/png": "[encoded data removed]",
      "text/plain": [
       "<Figure size 432x288 with 1 Axes>"
      ]
     },
     "metadata": {
      "needs_background": "light"
     },
     "output_type": "display_data"
    },
    {
     "data": {
      "image/png": "[encoded data removed]",
      "text/plain": [
       "<Figure size 432x288 with 1 Axes>"
      ]
     },
     "metadata": {
      "needs_background": "light"
     },
     "output_type": "display_data"
    }
   ],
   "source": [
    "for col in cat_cal:\n",
    "    plt.hist([X_train[col], X_val[col], X_test[col]], density=True,\n",
    "         label=['X_train', 'X_val', 'X_test'], color=['tab:green', 'tab:brown', 'tab:orange'])\n",
    "    plt.legend()\n",
    "    plt.title(col)\n",
    "    plt.show()"
   ]
  },
  {
   "cell_type": "code",
   "execution_count": 57,
   "id": "d30f1d1e",
   "metadata": {},
   "outputs": [
    {
     "data": {
      "text/plain": [
       "4    0.976171\n",
       "3    0.013238\n",
       "2    0.007128\n",
       "1    0.003462\n",
       "Name: language_n, dtype: float64"
      ]
     },
     "execution_count": 57,
     "metadata": {},
     "output_type": "execute_result"
    }
   ],
   "source": [
    "X_train['language_n'].value_counts(normalize=True)"
   ]
  },
  {
   "cell_type": "code",
   "execution_count": 58,
   "id": "7e379520",
   "metadata": {},
   "outputs": [
    {
     "data": {
      "text/plain": [
       "4    0.975297\n",
       "3    0.016627\n",
       "2    0.006651\n",
       "1    0.001425\n",
       "Name: language_n, dtype: float64"
      ]
     },
     "execution_count": 58,
     "metadata": {},
     "output_type": "execute_result"
    }
   ],
   "source": [
    "X_val['language_n'].value_counts(normalize=True)"
   ]
  },
  {
   "cell_type": "code",
   "execution_count": 59,
   "id": "fc45d2a4",
   "metadata": {},
   "outputs": [
    {
     "data": {
      "text/plain": [
       "4    0.975058\n",
       "3    0.011972\n",
       "2    0.010642\n",
       "1    0.002328\n",
       "Name: language_n, dtype: float64"
      ]
     },
     "execution_count": 59,
     "metadata": {},
     "output_type": "execute_result"
    }
   ],
   "source": [
    "X_test['language_n'].value_counts(normalize=True)"
   ]
  },
  {
   "cell_type": "code",
   "execution_count": 60,
   "id": "f1fbe61f",
   "metadata": {},
   "outputs": [],
   "source": [
    "# selected_col = cat_cal+['marketing_channel_Email', 'marketing_channel_Facebook',\n",
    "#        'marketing_channel_House Ads', 'marketing_channel_Instagram',\n",
    "#        'marketing_channel_Push']\n",
    "selected_col = cat_cal"
   ]
  },
  {
   "cell_type": "code",
   "execution_count": 61,
   "id": "36631668",
   "metadata": {},
   "outputs": [],
   "source": [
    "model2 = CatBoostClassifier(random_state=13, silent=True)"
   ]
  },
  {
   "cell_type": "code",
   "execution_count": 62,
   "id": "50b2022c",
   "metadata": {},
   "outputs": [
    {
     "data": {
      "text/plain": [
       "{'depth': 3, 'iterations': 40, 'learning_rate': 0.8}"
      ]
     },
     "execution_count": 62,
     "metadata": {},
     "output_type": "execute_result"
    }
   ],
   "source": [
    "params={'iterations':[30, 40, 50],\n",
    "        'learning_rate':[0.1, 0.5, 0.8, 1],\n",
    "        'depth':[3, 7, 10]\n",
    "        }\n",
    "grid = GridSearchCV(model2,\n",
    "                    param_grid=params,\n",
    "                    cv=5,\n",
    "                    refit=False)\n",
    "\n",
    "search = grid.fit(X_train[selected_col], y_train)\n",
    "search.best_params_"
   ]
  },
  {
   "cell_type": "code",
   "execution_count": 63,
   "id": "6bd5d783",
   "metadata": {},
   "outputs": [
    {
     "data": {
      "text/plain": [
       "<catboost.core.CatBoostClassifier at 0x152dccde400>"
      ]
     },
     "execution_count": 63,
     "metadata": {},
     "output_type": "execute_result"
    }
   ],
   "source": [
    "# model2 = CatBoostClassifier(depth=3, iterations=50, learning_rate=0.8, random_state=13, silent=True)\n",
    "model2 = CatBoostClassifier(depth=3, iterations=40, learning_rate=0.8, random_state=13, silent=True)\n",
    "# model2 = CatBoostClassifier(depth=7, iterations=40, learning_rate=0.5, random_state=13, silent=True)\n",
    "model2.fit(X_train[selected_col], y_train)"
   ]
  },
  {
   "cell_type": "code",
   "execution_count": 64,
   "id": "9f287215",
   "metadata": {},
   "outputs": [
    {
     "name": "stdout",
     "output_type": "stream",
     "text": [
      "Best Threshold=0.182615, F-Score=0.427, Precision=0.373, Recall=0.500\n"
     ]
    }
   ],
   "source": [
    "preds = model2.predict_proba(X_val[selected_col])[:, 1]\n",
    "precision, recall, thresholds = precision_recall_curve(y_val, preds)\n",
    "\n",
    "fscore = (2 * precision * recall) / (precision + recall)\n",
    "# locate the index of the largest f score\n",
    "ix = np.argmax(fscore)\n",
    "print('Best Threshold=%f, F-Score=%.3f, Precision=%.3f, Recall=%.3f' % (thresholds[ix], \n",
    "                                                                        fscore[ix],\n",
    "                                                                        precision[ix],\n",
    "                                                                        recall[ix]))"
   ]
  },
  {
   "cell_type": "markdown",
   "id": "55773718",
   "metadata": {},
   "source": [
    "Базовая конверсия"
   ]
  },
  {
   "cell_type": "code",
   "execution_count": 65,
   "id": "29c91de5",
   "metadata": {},
   "outputs": [
    {
     "data": {
      "text/plain": [
       "0.10736342042755344"
      ]
     },
     "execution_count": 65,
     "metadata": {},
     "output_type": "execute_result"
    }
   ],
   "source": [
    "С0 = y_val.sum()/len(y_val)\n",
    "С0"
   ]
  },
  {
   "cell_type": "code",
   "execution_count": 66,
   "id": "f6aa79e9",
   "metadata": {},
   "outputs": [
    {
     "data": {
      "text/plain": [
       "(3007, 14)"
      ]
     },
     "execution_count": 66,
     "metadata": {},
     "output_type": "execute_result"
    }
   ],
   "source": [
    "X_test.shape"
   ]
  },
  {
   "cell_type": "code",
   "execution_count": 67,
   "id": "e442419a",
   "metadata": {},
   "outputs": [],
   "source": [
    "X_A, X_B, y_A, y_B = train_test_split(X_test, y_test, test_size=0.5, random_state=2)"
   ]
  },
  {
   "cell_type": "code",
   "execution_count": 68,
   "id": "f1cd2040",
   "metadata": {},
   "outputs": [
    {
     "data": {
      "image/png": "[encoded data removed]",
      "text/plain": [
       "<Figure size 432x288 with 1 Axes>"
      ]
     },
     "metadata": {
      "needs_background": "light"
     },
     "output_type": "display_data"
    },
    {
     "data": {
      "image/png": "[encoded data removed]",
      "text/plain": [
       "<Figure size 432x288 with 1 Axes>"
      ]
     },
     "metadata": {
      "needs_background": "light"
     },
     "output_type": "display_data"
    },
    {
     "data": {
      "image/png": "[encoded data removed]",
      "text/plain": [
       "<Figure size 432x288 with 1 Axes>"
      ]
     },
     "metadata": {
      "needs_background": "light"
     },
     "output_type": "display_data"
    },
    {
     "data": {
      "image/png": "[encoded data removed]",
      "text/plain": [
       "<Figure size 432x288 with 1 Axes>"
      ]
     },
     "metadata": {
      "needs_background": "light"
     },
     "output_type": "display_data"
    },
    {
     "data": {
      "image/png": "[encoded data removed]",
      "text/plain": [
       "<Figure size 432x288 with 1 Axes>"
      ]
     },
     "metadata": {
      "needs_background": "light"
     },
     "output_type": "display_data"
    }
   ],
   "source": [
    "for col in cat_cal:\n",
    "    plt.hist([X_A.loc[y_A==1, col], X_A.loc[y_A==0, col], X_B.loc[y_B==1, col], X_B.loc[y_B==0, col]], density=True,\n",
    "         label=['X_A 1', 'X_A 0', 'X_B 1', 'X_B 0'])\n",
    "    plt.legend()\n",
    "    plt.title(col)\n",
    "    plt.show()"
   ]
  },
  {
   "cell_type": "markdown",
   "id": "c89b92b7",
   "metadata": {},
   "source": [
    "Разбивка выглядит не идеальной, но вроде терпимой."
   ]
  },
  {
   "cell_type": "code",
   "execution_count": 69,
   "id": "9e8570fa",
   "metadata": {},
   "outputs": [
    {
     "data": {
      "image/png": "[encoded data removed]",
      "text/plain": [
       "<Figure size 432x288 with 1 Axes>"
      ]
     },
     "metadata": {
      "needs_background": "light"
     },
     "output_type": "display_data"
    },
    {
     "data": {
      "image/png": "[encoded data removed]",
      "text/plain": [
       "<Figure size 432x288 with 1 Axes>"
      ]
     },
     "metadata": {
      "needs_background": "light"
     },
     "output_type": "display_data"
    },
    {
     "data": {
      "image/png": "[encoded data removed]",
      "text/plain": [
       "<Figure size 432x288 with 1 Axes>"
      ]
     },
     "metadata": {
      "needs_background": "light"
     },
     "output_type": "display_data"
    },
    {
     "data": {
      "image/png": "[encoded data removed]",
      "text/plain": [
       "<Figure size 432x288 with 1 Axes>"
      ]
     },
     "metadata": {
      "needs_background": "light"
     },
     "output_type": "display_data"
    },
    {
     "data": {
      "image/png": "[encoded data removed]",
      "text/plain": [
       "<Figure size 432x288 with 1 Axes>"
      ]
     },
     "metadata": {
      "needs_background": "light"
     },
     "output_type": "display_data"
    }
   ],
   "source": [
    "for col in cat_cal:\n",
    "    plt.hist([X_A[col], X_B[col]], density=True,\n",
    "         label=['X_A', 'X_B'])\n",
    "    plt.legend()\n",
    "    plt.title(col)\n",
    "    plt.show()"
   ]
  },
  {
   "cell_type": "code",
   "execution_count": 70,
   "id": "d6b919b5",
   "metadata": {},
   "outputs": [
    {
     "data": {
      "text/plain": [
       "0.09780439121756487"
      ]
     },
     "execution_count": 70,
     "metadata": {},
     "output_type": "execute_result"
    }
   ],
   "source": [
    "C_A = y_A.sum()/len(y_A)\n",
    "C_A"
   ]
  },
  {
   "cell_type": "code",
   "execution_count": 71,
   "id": "dc71cd81",
   "metadata": {},
   "outputs": [
    {
     "name": "stdout",
     "output_type": "stream",
     "text": [
      "[[1192  138]\n",
      " [  88   86]]\n"
     ]
    }
   ],
   "source": [
    "predsB = model2.predict_proba(X_B[selected_col])[:, 1]\n",
    "cnf_matrix = confusion_matrix(y_B, predsB > thresholds[ix])\n",
    "\n",
    "TN = cnf_matrix[0][0]\n",
    "FN = cnf_matrix[1][0]\n",
    "TP = cnf_matrix[1][1]\n",
    "FP = cnf_matrix[0][1]\n",
    "print(cnf_matrix)"
   ]
  },
  {
   "cell_type": "code",
   "execution_count": 72,
   "id": "6b0da889",
   "metadata": {},
   "outputs": [
    {
     "data": {
      "text/plain": [
       "(0.09780439121756487, 0.19494680851063828)"
      ]
     },
     "execution_count": 72,
     "metadata": {},
     "output_type": "execute_result"
    }
   ],
   "source": [
    "k_ef = 0.1\n",
    "# Мы выделили некоторую часть пользователей, которые не совершат покупку.\n",
    "# Допустим, им что-то предложили и k_ef из них покупку теперь совершат\n",
    "C_B = (TP + FN + TN*k_ef) / np.sum(cnf_matrix)\n",
    "C_A, C_B"
   ]
  },
  {
   "cell_type": "code",
   "execution_count": null,
   "id": "a2d9992b",
   "metadata": {},
   "outputs": [],
   "source": []
  }
 ],
 "metadata": {
  "kernelspec": {
   "display_name": "Python 3",
   "language": "python",
   "name": "python3"
  },
  "language_info": {
   "codemirror_mode": {
    "name": "ipython",
    "version": 3
   },
   "file_extension": ".py",
   "mimetype": "text/x-python",
   "name": "python",
   "nbconvert_exporter": "python",
   "pygments_lexer": "ipython3",
   "version": "3.9.3"
  }
 },
 "nbformat": 4,
 "nbformat_minor": 5
}
