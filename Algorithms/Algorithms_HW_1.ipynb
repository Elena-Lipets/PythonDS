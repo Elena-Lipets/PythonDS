{
 "cells": [
  {
   "cell_type": "code",
   "execution_count": 1,
   "id": "1dfda497",
   "metadata": {},
   "outputs": [],
   "source": [
    "import numpy as np\n",
    "import matplotlib.pyplot as plt"
   ]
  },
  {
   "cell_type": "code",
   "execution_count": 2,
   "id": "f24b0b5b",
   "metadata": {},
   "outputs": [],
   "source": [
    "def calc_mse(y, y_pred):\n",
    "    err = np.mean((y - y_pred)**2)\n",
    "    return err"
   ]
  },
  {
   "cell_type": "code",
   "execution_count": 3,
   "id": "473c9df6",
   "metadata": {},
   "outputs": [],
   "source": [
    "X = np.array([[ 1,  1],\n",
    "              [ 1,  1],\n",
    "              [ 1,  2],\n",
    "              [ 1,  5],\n",
    "              [ 1,  3],\n",
    "              [ 1,  0],\n",
    "              [ 1,  5],\n",
    "              [ 1, 10],\n",
    "              [ 1,  1],\n",
    "              [ 1,  2]])"
   ]
  },
  {
   "cell_type": "code",
   "execution_count": 4,
   "id": "0fa5f6b3",
   "metadata": {},
   "outputs": [],
   "source": [
    "y = [45, 55, 50, 55, 60, 35, 75, 80, 50, 60]"
   ]
  },
  {
   "cell_type": "markdown",
   "id": "7a38b886",
   "metadata": {},
   "source": [
    "### Аналитическое решение"
   ]
  },
  {
   "cell_type": "code",
   "execution_count": 5,
   "id": "834c306e",
   "metadata": {},
   "outputs": [
    {
     "data": {
      "text/plain": [
       "array([45.0625,  3.8125])"
      ]
     },
     "execution_count": 5,
     "metadata": {},
     "output_type": "execute_result"
    }
   ],
   "source": [
    "W_analytical = np.linalg.inv(np.dot(X.T, X)) @ X.T @ y\n",
    "W_analytical"
   ]
  },
  {
   "cell_type": "code",
   "execution_count": 6,
   "id": "8af09247",
   "metadata": {},
   "outputs": [],
   "source": [
    "y_pred_analytical = X @ W_analytical"
   ]
  },
  {
   "cell_type": "code",
   "execution_count": 7,
   "id": "96fd9053",
   "metadata": {},
   "outputs": [
    {
     "data": {
      "text/plain": [
       "43.96875000000001"
      ]
     },
     "execution_count": 7,
     "metadata": {},
     "output_type": "execute_result"
    }
   ],
   "source": [
    "calc_mse(y, y_pred_analytical)"
   ]
  },
  {
   "cell_type": "markdown",
   "id": "8c80ad65",
   "metadata": {},
   "source": [
    "### Градиентный спуск"
   ]
  },
  {
   "cell_type": "markdown",
   "id": "1a388c3a",
   "metadata": {},
   "source": [
    "Подберите скорость обучения (eta) и количество итераций"
   ]
  },
  {
   "cell_type": "code",
   "execution_count": 8,
   "id": "7401115b",
   "metadata": {},
   "outputs": [
    {
     "name": "stdout",
     "output_type": "stream",
     "text": [
      "Number of objects = 10        \n",
      "Learning rate = 0.03        \n",
      "Initial weights = [1.  0.5] \n",
      "\n",
      "Iteration #0: W_new = [ 4.24 11.81], MSE = 3047.75\n",
      "Iteration #10: W_new = [14.05036364  9.43607278], MSE = 522.79\n",
      "Iteration #20: W_new = [21.56325286  8.07372615], MSE = 318.89\n",
      "Iteration #30: W_new = [27.25609642  7.04141675], MSE = 201.82\n",
      "Iteration #40: W_new = [31.56981205  6.25919093], MSE = 134.61\n",
      "Iteration #50: W_new = [34.83850237  5.66646433], MSE = 96.01\n",
      "Iteration #60: W_new = [37.31533146  5.21732957], MSE = 73.85\n",
      "Iteration #70: W_new = [39.1921328   4.87700058], MSE = 61.13\n",
      "Iteration #80: W_new = [40.61426696  4.61911848], MSE = 53.82\n",
      "Iteration #90: W_new = [41.69187999  4.42370997], MSE = 49.62\n",
      "Iteration #100: W_new = [42.50843433  4.27564043], MSE = 47.22\n",
      "Iteration #110: W_new = [43.12717315  4.16344169], MSE = 45.83\n",
      "Iteration #120: W_new = [43.59601851  4.07842381], MSE = 45.04\n",
      "Iteration #130: W_new = [43.95128307  4.01400206], MSE = 44.58\n",
      "Iteration #140: W_new = [44.22048251  3.96518689], MSE = 44.32\n",
      "Iteration #150: W_new = [44.42446665  3.92819751], MSE = 44.17\n",
      "Iteration #160: W_new = [44.57903433  3.90016905], MSE = 44.09\n",
      "Iteration #170: W_new = [44.69615699  3.87893066], MSE = 44.04\n",
      "Iteration #180: W_new = [44.78490594  3.8628374 ], MSE = 44.01\n",
      "Iteration #190: W_new = [44.85215488  3.85064284], MSE = 43.99\n",
      "Iteration #200: W_new = [44.90311234  3.84140249], MSE = 43.98\n",
      "Iteration #210: W_new = [44.94172502  3.83440068], MSE = 43.98\n",
      "Iteration #220: W_new = [44.97098354  3.8290951 ], MSE = 43.97\n",
      "Iteration #230: W_new = [44.99315399  3.82507483], MSE = 43.97\n",
      "Iteration #240: W_new = [45.00995351  3.8220285 ], MSE = 43.97\n",
      "Iteration #250: W_new = [45.02268323  3.81972016], MSE = 43.97\n",
      "Iteration #260: W_new = [45.0323291   3.81797103], MSE = 43.97\n",
      "Iteration #270: W_new = [45.03963819  3.81664564], MSE = 43.97\n",
      "Iteration #280: W_new = [45.04517661  3.81564133], MSE = 43.97\n",
      "Iteration #290: W_new = [45.04937331  3.81488032], MSE = 43.97\n"
     ]
    }
   ],
   "source": [
    "### Убрала уменьшение скорости обучения на каждом десятом шаге, поменяла eta на 3e-2, количество итераций на 300\n",
    "\n",
    "n = X.shape[0]\n",
    "\n",
    "eta = 3e-2 \n",
    "n_iter = 300\n",
    "\n",
    "W = np.array([1, 0.5])\n",
    "print(f'Number of objects = {n} \\\n",
    "       \\nLearning rate = {eta} \\\n",
    "       \\nInitial weights = {W} \\n')\n",
    "\n",
    "#добавила\n",
    "w_list = []\n",
    "errors = []\n",
    "\n",
    "for i in range(n_iter):\n",
    "    y_pred = np.dot(X, W)\n",
    "    err = calc_mse(y, y_pred)\n",
    "    for k in range(W.shape[0]):\n",
    "        W[k] -= eta * (1/n * 2 * X[:, k] @ (y_pred - y))\n",
    "    w_list.append(W.copy())\n",
    "    errors.append(err)\n",
    "    if i % 10 == 0:\n",
    "#         eta /= 1.1\n",
    "        print(f'Iteration #{i}: W_new = {W}, MSE = {round(err, 2)}')\n",
    "#         print(f'Iteration #{i}: W_new = {W}, MSE = {round(err, 2)}')\n",
    "\n",
    "w_list = np.array(w_list)\n"
   ]
  },
  {
   "cell_type": "code",
   "execution_count": 9,
   "id": "6be6002e",
   "metadata": {},
   "outputs": [
    {
     "data": {
      "image/png": "[encoded data removed]",
      "text/plain": [
       "<Figure size 864x288 with 3 Axes>"
      ]
     },
     "metadata": {
      "needs_background": "light"
     },
     "output_type": "display_data"
    }
   ],
   "source": [
    "plt.figure(figsize = (12, 4))\n",
    "plt.subplot(131)\n",
    "plt.xlabel(r'$w_1$')\n",
    "plt.ylabel(r'$w_2$')\n",
    "plt.scatter(w_list[:, 0], w_list[:, 1])\n",
    "\n",
    "plt.subplot(132)\n",
    "plt.xlabel('Iter_number')\n",
    "plt.ylabel(r'$w_1$')\n",
    "plt.scatter(range(w_list.shape[0]), w_list[:, 0])\n",
    "\n",
    "plt.subplot(133)\n",
    "plt.xlabel('Iter_number')\n",
    "plt.ylabel(r'$w_2$')\n",
    "plt.scatter(range(w_list.shape[0]), w_list[:, 1])\n",
    "\n",
    "plt.show()"
   ]
  },
  {
   "cell_type": "code",
   "execution_count": 10,
   "id": "91a54703",
   "metadata": {},
   "outputs": [
    {
     "data": {
      "text/plain": [
       "Text(0, 0.5, 'MSE')"
      ]
     },
     "execution_count": 10,
     "metadata": {},
     "output_type": "execute_result"
    },
    {
     "data": {
      "image/png": "[encoded data removed]",
      "text/plain": [
       "<Figure size 432x288 with 1 Axes>"
      ]
     },
     "metadata": {
      "needs_background": "light"
     },
     "output_type": "display_data"
    }
   ],
   "source": [
    "plt.scatter(range(len(errors)), errors)\n",
    "plt.xlabel('Iter_number')\n",
    "plt.ylabel('MSE')"
   ]
  },
  {
   "cell_type": "code",
   "execution_count": 11,
   "id": "997ead0e",
   "metadata": {},
   "outputs": [
    {
     "data": {
      "image/png": "[encoded data removed]",
      "text/plain": [
       "<Figure size 432x288 with 1 Axes>"
      ]
     },
     "metadata": {
      "needs_background": "light"
     },
     "output_type": "display_data"
    }
   ],
   "source": [
    "plt.plot(X[:,1], np.dot(X, W))\n",
    "plt.scatter(X[:,1], y)\n",
    "plt.show()"
   ]
  },
  {
   "cell_type": "markdown",
   "id": "70db93c3",
   "metadata": {},
   "source": [
    "2*. В этом коде мы избавляемся от итераций по весам, но тут есть ошибка, исправьте ее"
   ]
  },
  {
   "cell_type": "code",
   "execution_count": 12,
   "id": "b90bcf5e",
   "metadata": {},
   "outputs": [
    {
     "name": "stdout",
     "output_type": "stream",
     "text": [
      "Number of objects = 10        \n",
      "Learning rate = 0.01        \n",
      "Initial weights = [1.  0.5] \n",
      "\n",
      "Iteration #0: W_new = [2.08 4.27], MSE = 3047.75\n",
      "Iteration #10: W_new = [ 7.0011236 10.6169007], MSE = 738.65\n",
      "Iteration #20: W_new = [10.3486292  10.10603105], MSE = 622.03\n",
      "Iteration #30: W_new = [13.38789582  9.55618391], MSE = 525.24\n",
      "Iteration #40: W_new = [16.16088505  9.05336203], MSE = 444.66\n",
      "Iteration #50: W_new = [18.69110735  8.59454545], MSE = 377.58\n",
      "Iteration #60: W_new = [20.99981865  8.17589626], MSE = 321.72\n",
      "Iteration #70: W_new = [23.10641138  7.79389815], MSE = 275.22\n",
      "Iteration #80: W_new = [25.02858024  7.44534246], MSE = 236.5\n",
      "Iteration #90: W_new = [26.78247081  7.12730145], MSE = 204.27\n"
     ]
    }
   ],
   "source": [
    "n = X.shape[0]\n",
    "\n",
    "eta = 1e-2 \n",
    "n_iter = 100\n",
    "\n",
    "W = np.array([1, 0.5])\n",
    "print(f'Number of objects = {n} \\\n",
    "       \\nLearning rate = {eta} \\\n",
    "       \\nInitial weights = {W} \\n')\n",
    "\n",
    "for i in range(n_iter):\n",
    "    y_pred = np.dot(X, W)\n",
    "    err = calc_mse(y, y_pred)\n",
    "#     for k in range(W.shape[0]):\n",
    "#         W[k] -= eta * (1/n * 2 * X[:, k] @ (y_pred - y))\n",
    "    # ИЗМЕНЕНИЯ\n",
    "    #W -= eta * (1/n * 2 * np.dot(X, y_pred - y))\n",
    "    # ИЗМЕНЕНИЯ\n",
    "    W -= eta * (1/n * 2 * np.dot((y_pred - y), X))\n",
    "    if i % 10 == 0:\n",
    "        print(f'Iteration #{i}: W_new = {W}, MSE = {round(err,2)}')"
   ]
  },
  {
   "cell_type": "markdown",
   "id": "fa5f1ac7",
   "metadata": {},
   "source": [
    "3*. Вместо того, чтобы задавать количество итераций, задайте другое условие останова алгоритма - когда веса перестают изменяться меньше определенного порога  𝜖 ."
   ]
  },
  {
   "cell_type": "code",
   "execution_count": 13,
   "id": "03c5b010",
   "metadata": {},
   "outputs": [
    {
     "name": "stdout",
     "output_type": "stream",
     "text": [
      "Number of objects = 10        \n",
      "Learning rate = 0.03        \n",
      "Initial weights = [1.  0.5] \n",
      "\n",
      "Iteration #0: w_new = [ 4.24 11.81], MSE = 3047.75\n",
      "Iteration #20: w_new = [21.56325286  8.07372615], MSE = 318.89\n",
      "Iteration #40: w_new = [31.56981205  6.25919093], MSE = 134.61\n",
      "Iteration #60: w_new = [37.31533146  5.21732957], MSE = 73.85\n",
      "Iteration #80: w_new = [40.61426696  4.61911848], MSE = 53.82\n",
      "Iteration #100: w_new = [42.50843433  4.27564043], MSE = 47.22\n",
      "Iteration #120: w_new = [43.59601851  4.07842381], MSE = 45.04\n",
      "Iteration #140: w_new = [44.22048251  3.96518689], MSE = 44.32\n",
      "Iteration #160: w_new = [44.57903433  3.90016905], MSE = 44.09\n",
      "Iteration #180: w_new = [44.78490594  3.8628374 ], MSE = 44.01\n",
      "Iteration #200: w_new = [44.90311234  3.84140249], MSE = 43.98\n",
      "Iteration #220: w_new = [44.97098354  3.8290951 ], MSE = 43.97\n",
      "Iteration #240: w_new = [45.00995351  3.8220285 ], MSE = 43.97\n",
      "Iteration #260: w_new = [45.0323291   3.81797103], MSE = 43.97\n",
      "Iteration #280: w_new = [45.04517661  3.81564133], MSE = 43.97\n",
      "Iteration #300: w_new = [45.05255334  3.81430367], MSE = 43.97\n",
      "Iteration #320: w_new = [45.05678887  3.81353562], MSE = 43.97\n",
      "Iteration #340: w_new = [45.05922081  3.81309463], MSE = 43.97\n",
      "Iteration #360: w_new = [45.06061717  3.81284142], MSE = 43.97\n",
      "Iteration #380: w_new = [45.06141893  3.81269604], MSE = 43.97\n",
      "Iteration #400: w_new = [45.06187927  3.81261256], MSE = 43.97\n",
      "Iteration #420: w_new = [45.06214359  3.81256463], MSE = 43.97\n",
      "Iteration #440: w_new = [45.06229536  3.81253711], MSE = 43.97\n",
      "Iteration #460: w_new = [45.0623825   3.81252131], MSE = 43.97\n",
      "Iteration #480: w_new = [45.06243254  3.81251223], MSE = 43.97\n",
      "Iteration #500: w_new = [45.06246126  3.81250702], MSE = 43.97\n"
     ]
    }
   ],
   "source": [
    "n = X.shape[0]\n",
    "\n",
    "eta = 3e-2 \n",
    "max_iter = 100000\n",
    "i = 0\n",
    "e = 1e-6\n",
    "w_dist = 10000\n",
    "\n",
    "w = np.array([1, 0.5])\n",
    "print(f'Number of objects = {n} \\\n",
    "       \\nLearning rate = {eta} \\\n",
    "       \\nInitial weights = {w} \\n')\n",
    "while w_dist > e and i < max_iter:\n",
    "# for i in range(n_iter):\n",
    "    y_pred = np.dot(X, w)\n",
    "    err = calc_mse(y, y_pred)\n",
    "    new_w = w - eta * (1/n * 2 * np.dot((y_pred - y), X))\n",
    "    w_dist = np.linalg.norm(new_w - w, ord=2)\n",
    "    \n",
    "    w = new_w\n",
    "    if i % 20 == 0:\n",
    "        print(f'Iteration #{i}: w_new = {w}, MSE = {round(err,2)}')\n",
    "        \n",
    "    i += 1    "
   ]
  }
 ],
 "metadata": {
  "kernelspec": {
   "display_name": "Python 3",
   "language": "python",
   "name": "python3"
  },
  "language_info": {
   "codemirror_mode": {
    "name": "ipython",
    "version": 3
   },
   "file_extension": ".py",
   "mimetype": "text/x-python",
   "name": "python",
   "nbconvert_exporter": "python",
   "pygments_lexer": "ipython3",
   "version": "3.9.3"
  }
 },
 "nbformat": 4,
 "nbformat_minor": 5
}
