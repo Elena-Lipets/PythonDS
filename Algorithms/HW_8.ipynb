{
 "cells": [
  {
   "cell_type": "code",
   "execution_count": 1,
   "id": "40564440",
   "metadata": {},
   "outputs": [],
   "source": [
    "import numpy as np\n",
    "import matplotlib.pyplot as plt\n",
    "from sklearn.datasets import load_iris\n",
    "from sklearn.model_selection import train_test_split\n",
    "from sklearn.ensemble import AdaBoostClassifier, RandomForestClassifier, VotingClassifier\n",
    "from sklearn.neighbors import KNeighborsClassifier"
   ]
  },
  {
   "cell_type": "code",
   "execution_count": 2,
   "id": "24032e77",
   "metadata": {},
   "outputs": [],
   "source": [
    "def standard_scale(x):\n",
    "    res = (x - x.mean(axis=0)) / x.std(axis=0)\n",
    "    return res"
   ]
  },
  {
   "cell_type": "code",
   "execution_count": 3,
   "id": "6fecbd33",
   "metadata": {},
   "outputs": [
    {
     "data": {
      "text/plain": [
       "(150, 4)"
      ]
     },
     "execution_count": 3,
     "metadata": {},
     "output_type": "execute_result"
    }
   ],
   "source": [
    "X, y = load_iris(return_X_y=True)\n",
    "\n",
    "X.shape"
   ]
  },
  {
   "cell_type": "code",
   "execution_count": 4,
   "id": "9346d872",
   "metadata": {},
   "outputs": [],
   "source": [
    "X = standard_scale(X)"
   ]
  },
  {
   "cell_type": "code",
   "execution_count": 5,
   "id": "5eeeb750",
   "metadata": {},
   "outputs": [
    {
     "data": {
      "text/plain": [
       "((112, 4), (38, 4))"
      ]
     },
     "execution_count": 5,
     "metadata": {},
     "output_type": "execute_result"
    }
   ],
   "source": [
    "X_train, X_test, y_train, y_test = train_test_split(X, y,\n",
    "                                                    test_size=0.25,\n",
    "                                                    random_state=48,\n",
    "                                                    stratify=y)\n",
    "X_train.shape, X_test.shape"
   ]
  },
  {
   "cell_type": "code",
   "execution_count": 6,
   "id": "a82ca5b1",
   "metadata": {},
   "outputs": [
    {
     "name": "stdout",
     "output_type": "stream",
     "text": [
      "Собственные значения и собственные векторы в порядке убывания:\n",
      "(437.77467247979905, array([ 0.52106591, -0.26934744,  0.5804131 ,  0.56485654]))\n",
      "(137.10457072021057, array([-0.37741762, -0.92329566, -0.02449161, -0.06694199]))\n",
      "(22.013531335697206, array([-0.71956635,  0.24438178,  0.14212637,  0.63427274]))\n",
      "(3.1072254642929558, array([ 0.26128628, -0.12350962, -0.80144925,  0.52359713]))\n"
     ]
    }
   ],
   "source": [
    "# Найдем собственные векторы и собственные значения\n",
    " \n",
    "covariance_matrix = X.T @ X\n",
    "\n",
    "eig_values, eig_vectors = np.linalg.eig(covariance_matrix)\n",
    "\n",
    "# сформируем список кортежей (собственное значение, собственный вектор)\n",
    "eig_pairs = [(np.abs(eig_values[i]), eig_vectors[:, i]) for i in range(len(eig_values))]\n",
    "\n",
    "# и отсортируем список по убыванию собственных значений\n",
    "eig_pairs.sort(key=lambda x: x[0], reverse=True)\n",
    "\n",
    "print('Собственные значения и собственные векторы в порядке убывания:')\n",
    "for i in eig_pairs:\n",
    "    print(i)"
   ]
  },
  {
   "cell_type": "code",
   "execution_count": 7,
   "id": "58157f10",
   "metadata": {},
   "outputs": [
    {
     "name": "stdout",
     "output_type": "stream",
     "text": [
      "Доля дисперсии, описываемая каждой из компонент \n",
      "[72.96244541329987, 22.850761786701774, 3.6689218892828697, 0.517870910715493]\n",
      "Кумулятивная доля дисперсии по компонентам \n",
      "[ 72.96244541  95.8132072   99.48212909 100.        ]\n"
     ]
    }
   ],
   "source": [
    "eig_sum = sum(eig_values)\n",
    "var_exp = [(i / eig_sum) * 100 for i in sorted(eig_values, reverse=True)]\n",
    "cum_var_exp = np.cumsum(var_exp)\n",
    "print(f'Доля дисперсии, описываемая каждой из компонент \\n{var_exp}')\n",
    "\n",
    "# а теперь оценим кумулятивную (то есть накапливаемую) дисперсию при учитывании каждой из компонент\n",
    "print(f'Кумулятивная доля дисперсии по компонентам \\n{cum_var_exp}')"
   ]
  },
  {
   "cell_type": "code",
   "execution_count": 8,
   "id": "cbb04156",
   "metadata": {},
   "outputs": [
    {
     "name": "stdout",
     "output_type": "stream",
     "text": [
      "Матрица весов W:\n",
      " [[ 0.52106591 -0.37741762]\n",
      " [-0.26934744 -0.92329566]\n",
      " [ 0.5804131  -0.02449161]\n",
      " [ 0.56485654 -0.06694199]]\n"
     ]
    }
   ],
   "source": [
    "W = np.hstack([eig_pairs[i][1].reshape(4,1) for i in range(2)])\n",
    "\n",
    "print(f'Матрица весов W:\\n', W)"
   ]
  },
  {
   "cell_type": "code",
   "execution_count": 9,
   "id": "92d458c0",
   "metadata": {},
   "outputs": [],
   "source": [
    "Z = X.dot(W)"
   ]
  },
  {
   "cell_type": "code",
   "execution_count": 10,
   "id": "7194d5c8",
   "metadata": {},
   "outputs": [
    {
     "data": {
      "text/plain": [
       "((112, 2), (38, 2))"
      ]
     },
     "execution_count": 10,
     "metadata": {},
     "output_type": "execute_result"
    }
   ],
   "source": [
    "Z_train, Z_test, y_train, y_test = train_test_split(Z, y,\n",
    "                                                    test_size=0.25,\n",
    "                                                    random_state=48,\n",
    "                                                    stratify=y)\n",
    "Z_train.shape, Z_test.shape"
   ]
  },
  {
   "cell_type": "code",
   "execution_count": null,
   "id": "ebd7d5dc",
   "metadata": {},
   "outputs": [],
   "source": []
  },
  {
   "cell_type": "code",
   "execution_count": 11,
   "id": "22c1fb37",
   "metadata": {},
   "outputs": [],
   "source": [
    "model_1 = AdaBoostClassifier(n_estimators=3, random_state=13)\n",
    "# model_1.fit(X_train, y_train)\n",
    "# model_1.score(X_train, y_train), model_1.score(X_test, y_test)"
   ]
  },
  {
   "cell_type": "code",
   "execution_count": 12,
   "id": "30105d1a",
   "metadata": {},
   "outputs": [],
   "source": [
    "train_err = []\n",
    "test_err = []\n",
    "for n in range(1, 25):\n",
    "    model = AdaBoostClassifier(n_estimators=n, random_state=13)\n",
    "    model.fit(X_train, y_train)\n",
    "    train_err.append(round(model.score(X_train, y_train),3))\n",
    "    test_err.append(round(model.score(X_test, y_test),3))"
   ]
  },
  {
   "cell_type": "code",
   "execution_count": 13,
   "id": "49af8b9d",
   "metadata": {
    "scrolled": true
   },
   "outputs": [
    {
     "data": {
      "image/png": "[encoded data removed]",
      "text/plain": [
       "<Figure size 432x288 with 1 Axes>"
      ]
     },
     "metadata": {
      "needs_background": "light"
     },
     "output_type": "display_data"
    }
   ],
   "source": [
    "plt.scatter(range(1, 25), train_err, label='train')\n",
    "plt.scatter(range(1, 25), test_err, label='test')\n",
    "plt.legend()\n",
    "plt.show()"
   ]
  },
  {
   "cell_type": "code",
   "execution_count": 14,
   "id": "e0e090e4",
   "metadata": {},
   "outputs": [
    {
     "data": {
      "text/plain": [
       "(0.9643, 0.9474)"
      ]
     },
     "execution_count": 14,
     "metadata": {},
     "output_type": "execute_result"
    }
   ],
   "source": [
    "model_1.fit(X_train, y_train)\n",
    "round(model_1.score(X_train, y_train), 4), round(model_1.score(X_test, y_test),4)"
   ]
  },
  {
   "cell_type": "code",
   "execution_count": 15,
   "id": "9de8be78",
   "metadata": {},
   "outputs": [
    {
     "data": {
      "text/plain": [
       "(0.9375, 0.9211)"
      ]
     },
     "execution_count": 15,
     "metadata": {},
     "output_type": "execute_result"
    }
   ],
   "source": [
    "model_1.fit(Z_train, y_train)\n",
    "round(model_1.score(Z_train, y_train), 4), round(model_1.score(Z_test, y_test),4)"
   ]
  },
  {
   "cell_type": "code",
   "execution_count": 16,
   "id": "cd9c63d0",
   "metadata": {},
   "outputs": [],
   "source": [
    "model_2 = RandomForestClassifier(n_estimators=10, min_samples_leaf=3, random_state=13)\n",
    "# model_2.fit(X_train, y_train)\n",
    "# model_2.score(X_train, y_train), model_2.score(X_test, y_test)"
   ]
  },
  {
   "cell_type": "code",
   "execution_count": 17,
   "id": "c39390c9",
   "metadata": {},
   "outputs": [],
   "source": [
    "train_err = []\n",
    "test_err = []\n",
    "for n in range(1, 25):\n",
    "    model = RandomForestClassifier(n_estimators=n, min_samples_leaf=3, random_state=13)\n",
    "    model.fit(X_train, y_train)\n",
    "    train_err.append(round(model.score(X_train, y_train),3))\n",
    "    test_err.append(round(model.score(X_test, y_test),3))"
   ]
  },
  {
   "cell_type": "code",
   "execution_count": 18,
   "id": "9294859c",
   "metadata": {
    "scrolled": true
   },
   "outputs": [
    {
     "data": {
      "image/png": "[encoded data removed]",
      "text/plain": [
       "<Figure size 432x288 with 1 Axes>"
      ]
     },
     "metadata": {
      "needs_background": "light"
     },
     "output_type": "display_data"
    }
   ],
   "source": [
    "plt.scatter(range(1, 25), train_err, label='train')\n",
    "plt.scatter(range(1, 25), test_err, label='test')\n",
    "plt.legend()\n",
    "plt.show()"
   ]
  },
  {
   "cell_type": "code",
   "execution_count": 19,
   "id": "a9bf989e",
   "metadata": {},
   "outputs": [
    {
     "data": {
      "text/plain": [
       "(0.9732, 0.9737)"
      ]
     },
     "execution_count": 19,
     "metadata": {},
     "output_type": "execute_result"
    }
   ],
   "source": [
    "model_2.fit(X_train, y_train)\n",
    "round(model_2.score(X_train, y_train), 4), round(model_2.score(X_test, y_test),4)"
   ]
  },
  {
   "cell_type": "code",
   "execution_count": 20,
   "id": "476bcb38",
   "metadata": {},
   "outputs": [
    {
     "data": {
      "text/plain": [
       "(0.9554, 0.9211)"
      ]
     },
     "execution_count": 20,
     "metadata": {},
     "output_type": "execute_result"
    }
   ],
   "source": [
    "model_2.fit(Z_train, y_train)\n",
    "round(model_2.score(Z_train, y_train), 4), round(model_2.score(Z_test, y_test),4)"
   ]
  },
  {
   "cell_type": "code",
   "execution_count": 21,
   "id": "fc9d2236",
   "metadata": {},
   "outputs": [],
   "source": [
    "# vc = VotingClassifier(estimators=[('ab', model_1), ('rf', model_2)], n_jobs=-1)\n",
    "# vc.fit(X_train, y_train)\n",
    "\n",
    "# vc.score(X_train, y_train), vc.score(X_test, y_test)"
   ]
  },
  {
   "cell_type": "code",
   "execution_count": 22,
   "id": "a4a75637",
   "metadata": {},
   "outputs": [],
   "source": [
    "model_3 = KNeighborsClassifier(n_neighbors=5, weights='distance')"
   ]
  },
  {
   "cell_type": "code",
   "execution_count": 23,
   "id": "2eb730cb",
   "metadata": {},
   "outputs": [
    {
     "data": {
      "text/plain": [
       "(1.0, 0.9737)"
      ]
     },
     "execution_count": 23,
     "metadata": {},
     "output_type": "execute_result"
    }
   ],
   "source": [
    "model_3.fit(X_train, y_train)\n",
    "round(model_3.score(X_train, y_train), 4), round(model_3.score(X_test, y_test),4)"
   ]
  },
  {
   "cell_type": "code",
   "execution_count": 24,
   "id": "2df48a77",
   "metadata": {},
   "outputs": [
    {
     "data": {
      "text/plain": [
       "(1.0, 0.9737)"
      ]
     },
     "execution_count": 24,
     "metadata": {},
     "output_type": "execute_result"
    }
   ],
   "source": [
    "model_3.fit(Z_train, y_train)\n",
    "round(model_3.score(Z_train, y_train), 4), round(model_3.score(Z_test, y_test),4)"
   ]
  },
  {
   "cell_type": "markdown",
   "id": "4ed42834",
   "metadata": {},
   "source": [
    "В общем для случайного леса и AdaBoost, снижение размерности только испортило метрику, для KNN ничего не поменялось. По-видимому, слишком мало свойств и данных, чтобы увидеть выгоду от снижения количества свойств"
   ]
  },
  {
   "cell_type": "markdown",
   "id": "fd880a7e",
   "metadata": {},
   "source": [
    "Написать свою реализацию метода главных компонент с помощью сингулярного разложения с использованием функции numpy.linalg.svd()\n",
    "\n"
   ]
  },
  {
   "cell_type": "code",
   "execution_count": 25,
   "id": "6949cf57",
   "metadata": {},
   "outputs": [],
   "source": [
    "u, s, v = np.linalg.svd(X)"
   ]
  },
  {
   "cell_type": "code",
   "execution_count": 26,
   "id": "846d241f",
   "metadata": {},
   "outputs": [
    {
     "data": {
      "text/plain": [
       "((150, 150), (4,), (4, 4))"
      ]
     },
     "execution_count": 26,
     "metadata": {},
     "output_type": "execute_result"
    }
   ],
   "source": [
    "u.shape, s.shape, v.shape"
   ]
  },
  {
   "cell_type": "code",
   "execution_count": 27,
   "id": "c48aba1f",
   "metadata": {},
   "outputs": [
    {
     "data": {
      "text/plain": [
       "(array([20.92306556, 11.7091661 ,  4.69185798,  1.76273239]),\n",
       " array([[ 0.52106591, -0.26934744,  0.5804131 ,  0.56485654],\n",
       "        [-0.37741762, -0.92329566, -0.02449161, -0.06694199],\n",
       "        [ 0.71956635, -0.24438178, -0.14212637, -0.63427274],\n",
       "        [ 0.26128628, -0.12350962, -0.80144925,  0.52359713]]))"
      ]
     },
     "execution_count": 27,
     "metadata": {},
     "output_type": "execute_result"
    }
   ],
   "source": [
    "s, v"
   ]
  },
  {
   "cell_type": "code",
   "execution_count": 28,
   "id": "6b5bc236",
   "metadata": {},
   "outputs": [
    {
     "data": {
      "text/plain": [
       "array([[ 0.52106591, -0.37741762],\n",
       "       [-0.26934744, -0.92329566],\n",
       "       [ 0.5804131 , -0.02449161],\n",
       "       [ 0.56485654, -0.06694199]])"
      ]
     },
     "execution_count": 28,
     "metadata": {},
     "output_type": "execute_result"
    }
   ],
   "source": [
    "w_svd = v.T[:, :2]\n",
    "w_svd"
   ]
  },
  {
   "cell_type": "code",
   "execution_count": 29,
   "id": "07c6d78c",
   "metadata": {},
   "outputs": [
    {
     "data": {
      "text/plain": [
       "array([[ 0.52106591, -0.37741762],\n",
       "       [-0.26934744, -0.92329566],\n",
       "       [ 0.5804131 , -0.02449161],\n",
       "       [ 0.56485654, -0.06694199]])"
      ]
     },
     "execution_count": 29,
     "metadata": {},
     "output_type": "execute_result"
    }
   ],
   "source": [
    "W"
   ]
  },
  {
   "cell_type": "code",
   "execution_count": 30,
   "id": "cda63288",
   "metadata": {},
   "outputs": [
    {
     "data": {
      "text/plain": [
       "array([[-2.26470281, -0.4800266 ],\n",
       "       [-2.08096115,  0.67413356],\n",
       "       [-2.36422905,  0.34190802],\n",
       "       [-2.29938422,  0.59739451],\n",
       "       [-2.38984217, -0.64683538],\n",
       "       [-2.07563095, -1.48917752],\n",
       "       [-2.44402884, -0.0476442 ],\n",
       "       [-2.23284716, -0.22314807],\n",
       "       [-2.33464048,  1.11532768],\n",
       "       [-2.18432817,  0.46901356]])"
      ]
     },
     "execution_count": 30,
     "metadata": {},
     "output_type": "execute_result"
    }
   ],
   "source": [
    "Z_svd = X.dot(w_svd)\n",
    "Z_svd[:10]"
   ]
  },
  {
   "cell_type": "code",
   "execution_count": 31,
   "id": "901c3637",
   "metadata": {},
   "outputs": [
    {
     "data": {
      "text/plain": [
       "array([[-2.26470281, -0.4800266 ],\n",
       "       [-2.08096115,  0.67413356],\n",
       "       [-2.36422905,  0.34190802],\n",
       "       [-2.29938422,  0.59739451],\n",
       "       [-2.38984217, -0.64683538],\n",
       "       [-2.07563095, -1.48917752],\n",
       "       [-2.44402884, -0.0476442 ],\n",
       "       [-2.23284716, -0.22314807],\n",
       "       [-2.33464048,  1.11532768],\n",
       "       [-2.18432817,  0.46901356]])"
      ]
     },
     "execution_count": 31,
     "metadata": {},
     "output_type": "execute_result"
    }
   ],
   "source": [
    "Z[:10]"
   ]
  }
 ],
 "metadata": {
  "kernelspec": {
   "display_name": "Python 3",
   "language": "python",
   "name": "python3"
  },
  "language_info": {
   "codemirror_mode": {
    "name": "ipython",
    "version": 3
   },
   "file_extension": ".py",
   "mimetype": "text/x-python",
   "name": "python",
   "nbconvert_exporter": "python",
   "pygments_lexer": "ipython3",
   "version": "3.9.3"
  }
 },
 "nbformat": 4,
 "nbformat_minor": 5
}
