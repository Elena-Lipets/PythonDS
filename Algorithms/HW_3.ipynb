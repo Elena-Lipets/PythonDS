{
 "cells": [
  {
   "cell_type": "code",
   "execution_count": 1,
   "id": "e584fe18",
   "metadata": {},
   "outputs": [],
   "source": [
    "import numpy as np\n",
    "import matplotlib.pyplot as plt"
   ]
  },
  {
   "cell_type": "code",
   "execution_count": 2,
   "id": "e95826c7",
   "metadata": {},
   "outputs": [],
   "source": [
    "X = np.array([ [   1,    1,  500,    1],\n",
    "               [   1,    1,  700,    1],\n",
    "               [   1,    2,  750,    2],\n",
    "               [   1,    5,  600,    1],\n",
    "               [   1,    3, 1450,    2],\n",
    "               [   1,    0,  800,    1],\n",
    "               [   1,    5, 1500,    3],\n",
    "               [   1,   10, 2000,    3],\n",
    "               [   1,    1,  450,    1],\n",
    "               [   1,    2, 1000,    2]], dtype=np.float64)\n",
    "\n",
    "y = np.array([0, 0, 1, 0, 1, 0, 1, 0, 1, 1], dtype=np.float64)"
   ]
  },
  {
   "cell_type": "code",
   "execution_count": 3,
   "id": "156b8c81",
   "metadata": {},
   "outputs": [],
   "source": [
    "def standard_scale(X):\n",
    "    res = (X - X.mean(axis = 0)) / X.std(axis = 0)\n",
    "    return res"
   ]
  },
  {
   "cell_type": "code",
   "execution_count": 4,
   "id": "80173375",
   "metadata": {},
   "outputs": [
    {
     "data": {
      "text/plain": [
       "array([[ 1.        , -0.70710678, -0.97958969, -0.89625816],\n",
       "       [ 1.        , -0.70710678, -0.56713087, -0.89625816],\n",
       "       [ 1.        , -0.35355339, -0.46401617,  0.38411064],\n",
       "       [ 1.        ,  0.70710678, -0.77336028, -0.89625816],\n",
       "       [ 1.        ,  0.        ,  0.97958969,  0.38411064],\n",
       "       [ 1.        , -1.06066017, -0.36090146, -0.89625816],\n",
       "       [ 1.        ,  0.70710678,  1.08270439,  1.66447944],\n",
       "       [ 1.        ,  2.47487373,  2.11385144,  1.66447944],\n",
       "       [ 1.        , -0.70710678, -1.08270439, -0.89625816],\n",
       "       [ 1.        , -0.35355339,  0.05155735,  0.38411064]])"
      ]
     },
     "execution_count": 4,
     "metadata": {},
     "output_type": "execute_result"
    }
   ],
   "source": [
    "X_st = X.copy()\n",
    "X_st[:, 1:] = standard_scale(X_st[:, 1:])\n",
    "X_st"
   ]
  },
  {
   "cell_type": "code",
   "execution_count": 5,
   "id": "98a11962",
   "metadata": {},
   "outputs": [],
   "source": [
    "def calc_logloss(y, y_pred):\n",
    "#     изменения\n",
    "    y_pred[(1 - y_pred)<1e-15] -= 1e-15\n",
    "    \n",
    "    err = -np.mean(y * np.log(y_pred) + (1 - y) * np.log(1 - y_pred))\n",
    "#     Первый комментарий был такой:\n",
    "# \"Если скармливать функции предсазание 0 или 1, после перехода от сигмоиды к ступенчатой функции, то\n",
    "# ошибку естественней считать так:\n",
    "#     err = np.mean(y-y_pred)\n",
    "# Если же передаем функции значения y_pred = 1 / (1 + np.exp(-np.dot(X, w))), то y_pred не может быть равным 1,\n",
    "# т.к. 1 не входит в область значений функции 1/(1+exp(-z))\"\n",
    "# Не совсем понимаю, почему он оказался не верным. Оличие значения функции 1/(1+exp(-z)) от 1 становится меньше,\n",
    "# чем точность значения, которое выдает numpy?\n",
    "    return err"
   ]
  },
  {
   "cell_type": "code",
   "execution_count": 6,
   "id": "2d3e1790",
   "metadata": {},
   "outputs": [],
   "source": [
    "def sigmoid(z):\n",
    "    res = 1 / (1 + np.exp(-z))\n",
    "    return res"
   ]
  },
  {
   "cell_type": "code",
   "execution_count": 7,
   "id": "e5789cd8",
   "metadata": {},
   "outputs": [],
   "source": [
    "def eval_model(X, y, iterations, eta=1e-4):\n",
    "    np.random.seed(42)\n",
    "    W = np.random.randn(X.shape[1])\n",
    "    n = X.shape[0]\n",
    "    errors = []\n",
    "#     W_list = []\n",
    "    for i in range(iterations):\n",
    "        z = np.dot(X, W)\n",
    "        y_pred = sigmoid(z)\n",
    "        err = calc_logloss(y, y_pred)\n",
    "        \n",
    "        dQ = 1/n * X.T @ (y_pred - y)\n",
    "        W -= eta * dQ\n",
    "        errors.append(err)\n",
    "        if i % (iterations / 10) == 0:\n",
    "#             eta /= 1.1\n",
    "            print(i, W, err)\n",
    "    return W, errors"
   ]
  },
  {
   "cell_type": "code",
   "execution_count": 8,
   "id": "7adb4207",
   "metadata": {},
   "outputs": [
    {
     "name": "stdout",
     "output_type": "stream",
     "text": [
      "0 [ -3.05320247 -27.22021581 -22.69498258 -10.92494778] 0.760958797591889\n",
      "500 [  27.89641143  -67.47687025 -105.68738302  215.38541658] 1.9011448714695345\n",
      "1000 [  40.89120131  -94.81509722 -157.76279657  314.36143941] 1.3641713451366304\n",
      "1500 [  53.88798111 -122.14957128 -209.83870769  413.33099355] 0.8268853250178205\n",
      "2000 [  68.80648911 -146.18233264 -255.29115752  491.6579508 ] 8.826929175286971e-05\n",
      "2500 [  70.38656465 -146.64101338 -255.05259091  491.44933686] 1.4972621002435932e-05\n",
      "3000 [  70.92026923 -146.80451841 -254.96730461  491.37900198] 8.282570108696317e-06\n",
      "3500 [  71.24759223 -146.91233243 -254.91616761  491.33319429] 5.780782802912554e-06\n",
      "4000 [  71.48298572 -146.99554436 -254.88023687  491.29826733] 4.4746385347607336e-06\n",
      "4500 [  71.66609248 -147.06465439 -254.85277791  491.26965984] 3.673474318239859e-06\n"
     ]
    }
   ],
   "source": [
    "W, loss = eval_model(X_st, y, iterations=5000, eta=100)"
   ]
  },
  {
   "cell_type": "code",
   "execution_count": 9,
   "id": "8f5e3815",
   "metadata": {},
   "outputs": [
    {
     "data": {
      "image/png": "[encoded data removed]",
      "text/plain": [
       "<Figure size 864x288 with 2 Axes>"
      ]
     },
     "metadata": {
      "needs_background": "light"
     },
     "output_type": "display_data"
    }
   ],
   "source": [
    "plt.figure(figsize = (12, 4))\n",
    "plt.subplot(121)\n",
    "plt.scatter(range(len(loss)), loss)\n",
    "\n",
    "plt.subplot(122)\n",
    "plt.scatter(range(len(loss)), loss)\n",
    "plt.ylim(0, 0.01)\n",
    "\n",
    "plt.show()"
   ]
  },
  {
   "cell_type": "code",
   "execution_count": 10,
   "id": "7a2382f3",
   "metadata": {},
   "outputs": [],
   "source": [
    "def calc_pred_proba(w, x):\n",
    "    y_pred_proba = sigmoid(np.dot(x, w))\n",
    "    return y_pred_proba"
   ]
  },
  {
   "cell_type": "code",
   "execution_count": 11,
   "id": "7b0cae8c",
   "metadata": {},
   "outputs": [
    {
     "data": {
      "text/plain": [
       "array([3.71621432e-007, 8.36847930e-053, 1.00000000e+000, 2.42537863e-120,\n",
       "       9.99981136e-001, 4.89010189e-053, 1.00000000e+000, 1.66541526e-006,\n",
       "       9.99989576e-001, 1.00000000e+000])"
      ]
     },
     "execution_count": 11,
     "metadata": {},
     "output_type": "execute_result"
    }
   ],
   "source": [
    "y_pred_proba = calc_pred_proba(W, X_st)\n",
    "y_pred_proba"
   ]
  },
  {
   "cell_type": "code",
   "execution_count": 15,
   "id": "792c7b86",
   "metadata": {},
   "outputs": [],
   "source": [
    "def calc_pred(w,x):\n",
    "    a = sigmoid(np.dot(x, w))\n",
    "    y_pred = np.zeros(a.shape[0])\n",
    "    y_pred[a > 0.5] = 1\n",
    "    y_pred[a <= 0.5] = 0\n",
    "    return y_pred        "
   ]
  },
  {
   "cell_type": "code",
   "execution_count": 16,
   "id": "42886834",
   "metadata": {},
   "outputs": [
    {
     "data": {
      "text/plain": [
       "array([0., 0., 1., 0., 1., 0., 1., 0., 1., 1.])"
      ]
     },
     "execution_count": 16,
     "metadata": {},
     "output_type": "execute_result"
    }
   ],
   "source": [
    "y_pred = calc_pred(W, X_st)\n",
    "y_pred"
   ]
  },
  {
   "cell_type": "code",
   "execution_count": 17,
   "id": "e49c3a11",
   "metadata": {},
   "outputs": [],
   "source": [
    "def accuracy(y, y_pred):\n",
    "    return 1-np.mean(1-(y - y_pred))"
   ]
  },
  {
   "cell_type": "code",
   "execution_count": 18,
   "id": "b06306da",
   "metadata": {},
   "outputs": [
    {
     "data": {
      "text/plain": [
       "0.0"
      ]
     },
     "execution_count": 18,
     "metadata": {},
     "output_type": "execute_result"
    }
   ],
   "source": [
    "accuracy(y, y_pred)"
   ]
  },
  {
   "cell_type": "code",
   "execution_count": 19,
   "id": "9b8ce77a",
   "metadata": {},
   "outputs": [],
   "source": [
    "def err_matrix(y, y_pred):\n",
    "    TP = np.sum(y_pred[y==1])\n",
    "    FP = np.sum(y_pred) - TP\n",
    "    TN = np.sum(1 - y_pred[y==0])\n",
    "    FN = np.sum(1 - y_pred) - TN\n",
    "    return np.array([[TP, FP], [FN, TN]])"
   ]
  },
  {
   "cell_type": "code",
   "execution_count": 20,
   "id": "f8aa3cdf",
   "metadata": {},
   "outputs": [
    {
     "data": {
      "text/plain": [
       "array([[5., 0.],\n",
       "       [0., 5.]])"
      ]
     },
     "execution_count": 20,
     "metadata": {},
     "output_type": "execute_result"
    }
   ],
   "source": [
    "err_matrix(y, y_pred)"
   ]
  },
  {
   "cell_type": "code",
   "execution_count": 21,
   "id": "e04ef74f",
   "metadata": {},
   "outputs": [],
   "source": [
    "def presicion(y, y_pred):\n",
    "    return np.sum(y_pred[y==1]) / np.sum(y_pred)"
   ]
  },
  {
   "cell_type": "code",
   "execution_count": 22,
   "id": "7773b211",
   "metadata": {},
   "outputs": [],
   "source": [
    "def recall(y, y_pred):\n",
    "    return np.sum(y_pred[y==1]) / np.sum(y)"
   ]
  },
  {
   "cell_type": "code",
   "execution_count": 23,
   "id": "3fba7d82",
   "metadata": {},
   "outputs": [],
   "source": [
    "def F(y, y_pred):\n",
    "    p = np.sum(y_pred[y==1]) / np.sum(y_pred)\n",
    "    r = np.sum(y_pred[y==1]) / np.sum(y)\n",
    "    res = 2 * p * r / (p + r)\n",
    "    return res"
   ]
  }
 ],
 "metadata": {
  "kernelspec": {
   "display_name": "Python 3",
   "language": "python",
   "name": "python3"
  },
  "language_info": {
   "codemirror_mode": {
    "name": "ipython",
    "version": 3
   },
   "file_extension": ".py",
   "mimetype": "text/x-python",
   "name": "python",
   "nbconvert_exporter": "python",
   "pygments_lexer": "ipython3",
   "version": "3.9.3"
  }
 },
 "nbformat": 4,
 "nbformat_minor": 5
}
