{
 "cells": [
  {
   "cell_type": "code",
   "execution_count": 1,
   "id": "915cc4f6",
   "metadata": {},
   "outputs": [],
   "source": [
    "import numpy as np\n",
    "import matplotlib.pyplot as plt"
   ]
  },
  {
   "cell_type": "code",
   "execution_count": 2,
   "id": "69d04e56",
   "metadata": {},
   "outputs": [],
   "source": [
    "X = np.array([[   1,    1,  500,    1],\n",
    "              [   1,    1,  700,    1],\n",
    "              [   1,    2,  750,    2],\n",
    "              [   1,    5,  600,    1],\n",
    "              [   1,    3, 1450,    2],\n",
    "              [   1,    0,  800,    1],\n",
    "              [   1,    5, 1500,    3],\n",
    "              [   1,   10, 2000,    3],\n",
    "              [   1,    1,  450,    1],\n",
    "              [   1,    2, 1000,    2]])\n",
    "\n",
    "y = [45, 55, 50, 55, 60, 35, 75, 80, 50, 60]"
   ]
  },
  {
   "cell_type": "code",
   "execution_count": 3,
   "id": "db37e820",
   "metadata": {},
   "outputs": [],
   "source": [
    "def standard_scale(X):\n",
    "    mean = X.mean()\n",
    "    std = X.std()\n",
    "    return (X - mean) / std"
   ]
  },
  {
   "cell_type": "code",
   "execution_count": 6,
   "id": "547df5a5",
   "metadata": {},
   "outputs": [
    {
     "data": {
      "text/plain": [
       "array([[ 1.        , -0.70710678, -0.97958969, -0.89625816],\n",
       "       [ 1.        , -0.70710678, -0.56713087, -0.89625816],\n",
       "       [ 1.        , -0.35355339, -0.46401617,  0.38411064],\n",
       "       [ 1.        ,  0.70710678, -0.77336028, -0.89625816],\n",
       "       [ 1.        ,  0.        ,  0.97958969,  0.38411064],\n",
       "       [ 1.        , -1.06066017, -0.36090146, -0.89625816],\n",
       "       [ 1.        ,  0.70710678,  1.08270439,  1.66447944],\n",
       "       [ 1.        ,  2.47487373,  2.11385144,  1.66447944],\n",
       "       [ 1.        , -0.70710678, -1.08270439, -0.89625816],\n",
       "       [ 1.        , -0.35355339,  0.05155735,  0.38411064]])"
      ]
     },
     "execution_count": 6,
     "metadata": {},
     "output_type": "execute_result"
    }
   ],
   "source": [
    "X_st = X.copy().astype(np.float64)\n",
    "X_st[:, 1] = standard_scale(X_st[:, 1])\n",
    "X_st[:, 2] = standard_scale(X_st[:, 2])\n",
    "X_st[:, 3] = standard_scale(X_st[:, 3])\n",
    "\n",
    "X_st"
   ]
  },
  {
   "cell_type": "code",
   "execution_count": 11,
   "id": "097e1d44",
   "metadata": {},
   "outputs": [],
   "source": [
    "def calc_mse(y, y_pred):\n",
    "    mse = np.mean((y-y_pred)**2)\n",
    "    return mse"
   ]
  },
  {
   "cell_type": "code",
   "execution_count": 12,
   "id": "30ac1c2c",
   "metadata": {},
   "outputs": [],
   "source": [
    "def gradient_descent_reg_l1(X, y, iterations, eta=1e-4, reg=1e-8):\n",
    "    W = np.random.randn(X.shape[1])\n",
    "    n = X.shape[0]\n",
    "        \n",
    "    for i in range(0, iterations):\n",
    "        y_pred = np.dot(X, W)\n",
    "        err = calc_mse(y, y_pred)\n",
    "        \n",
    "        dQ = 2/n * X.T @ (y_pred - y) # градиент функции ошибки\n",
    "#         dReg = reg * W # градиент регуляризации\n",
    "        dReg = reg *(W / abs(W)) # градиент регуляризации\n",
    "        \n",
    "        W -= eta * (dQ + dReg)\n",
    "        \n",
    "        if i % (iterations / 10) == 0:\n",
    "            print(f'Iter: {i}, weights: {W}, error {err}')\n",
    "    \n",
    "    print(f'Final MSE: {calc_mse(y, np.dot(X, W))}')\n",
    "    return W"
   ]
  },
  {
   "cell_type": "code",
   "execution_count": 16,
   "id": "0e62a31b",
   "metadata": {},
   "outputs": [
    {
     "name": "stdout",
     "output_type": "stream",
     "text": [
      "Iter: 0, weights: [2.36479917 0.47846243 2.25602746 0.13202916], error 3167.734268387275\n",
      "Iter: 100, weights: [49.3206137   4.44402515  4.24508148  3.59207503], error 82.2765552785601\n",
      "Iter: 200, weights: [55.54787297  5.04951152  3.32847171  3.99696125], error 28.161944923274298\n",
      "Iter: 300, weights: [56.37372933  5.41935174  2.60407249  4.38567421], error 26.414015680546676\n",
      "Iter: 400, weights: [56.48325404  5.65889306  2.03294612  4.74156378], error 25.883332246431145\n",
      "Iter: 500, weights: [56.49777915  5.8200095   1.57810965  5.05323905], error 25.5506599350717\n",
      "Iter: 600, weights: [56.49970547  5.93250186  1.2132615   5.31920708], error 25.33265255192464\n",
      "Iter: 700, weights: [56.49996093  6.01380311  0.91911592  5.54258243], error 25.18866356791067\n",
      "Iter: 800, weights: [56.49999481  6.07433892  0.68114074  5.72829444], error 25.093249241068424\n",
      "Iter: 900, weights: [56.49999931  6.12051918  0.48814598  5.88168041], error 25.029927683600356\n",
      "Final MSE: 24.98787536818363\n"
     ]
    },
    {
     "data": {
      "text/plain": [
       "array([56.4999999 ,  6.15609872,  0.33278448,  6.0066771 ])"
      ]
     },
     "execution_count": 16,
     "metadata": {},
     "output_type": "execute_result"
    }
   ],
   "source": [
    "gradient_descent_reg_l1(X_st, y, 1000, eta=1e-2, reg=1e-8)"
   ]
  },
  {
   "cell_type": "markdown",
   "id": "ba0bd0d9",
   "metadata": {},
   "source": [
    "2. *Можно ли к одному и тому же признаку применить сразу и нормализацию, и стандартизацию?"
   ]
  },
  {
   "cell_type": "markdown",
   "id": "8965f071",
   "metadata": {},
   "source": [
    "Программа не будет выдавать ошибку, но смысла в таком действии не вижу: если нормализованные данные стандартизовать, они перестанут быть нормализованными (часть данных станет меньше 0, все точки с отклонением больше стандартного будут по модулю больше 1). Также верно и обратное: если стандартизованные данные нормализовать, они перестанут быть стандартизованными."
   ]
  },
  {
   "cell_type": "markdown",
   "id": "c10bdbf3",
   "metadata": {},
   "source": [
    "3. *Сгенерируйте датасет при помощи <code>sklearn.datasets.make_regression</code> и обучите линейную модель при помощи градиентного и стохастического градиентного спуска. Нанесите среднеквадратичную ошибку для обоих методов на один график, сделайте выводы о разнице скорости сходимости каждого из методов."
   ]
  },
  {
   "cell_type": "code",
   "execution_count": 17,
   "id": "03e23dd7",
   "metadata": {},
   "outputs": [],
   "source": [
    "from sklearn import datasets\n"
   ]
  },
  {
   "cell_type": "code",
   "execution_count": 21,
   "id": "0dde68b8",
   "metadata": {},
   "outputs": [
    {
     "data": {
      "text/plain": [
       "array([47.47242031, 73.12753896, 38.17938558])"
      ]
     },
     "metadata": {},
     "output_type": "display_data"
    }
   ],
   "source": [
    "X, Y, coef = datasets.make_regression(n_samples=1000, n_features=3, n_informative=3, n_targets=1, \n",
    "                                      noise=5, coef=True, random_state=2)\n",
    "display(coef)"
   ]
  },
  {
   "cell_type": "code",
   "execution_count": 20,
   "id": "a52a64a4",
   "metadata": {},
   "outputs": [
    {
     "data": {
      "text/plain": [
       "array([ 0.02824917, -0.01803852, -0.05193811])"
      ]
     },
     "metadata": {},
     "output_type": "display_data"
    },
    {
     "data": {
      "text/plain": [
       "array([1.01119625, 0.98573166, 1.01335737])"
      ]
     },
     "metadata": {},
     "output_type": "display_data"
    }
   ],
   "source": [
    "means = np.mean(X, axis=0)\n",
    "stds = np.std(X, axis=0)\n",
    "display(means, stds)"
   ]
  },
  {
   "cell_type": "markdown",
   "id": "253578ab",
   "metadata": {},
   "source": [
    "Данные близки к стандартизованным."
   ]
  },
  {
   "cell_type": "markdown",
   "id": "c22e65ae",
   "metadata": {},
   "source": [
    "Классический градиентный спуск"
   ]
  },
  {
   "cell_type": "code",
   "execution_count": 25,
   "id": "3ebcd6a4",
   "metadata": {},
   "outputs": [
    {
     "name": "stdout",
     "output_type": "stream",
     "text": [
      "Iteration #0: W_new = [0.97472596 1.43825859 0.84754718], MSE = 9222.85\n",
      "Iteration #100: W_new = [41.54156227 63.33432978 34.36680148], MSE = 179.39\n",
      "Iteration #200: W_new = [46.62626826 71.87422464 37.88550702], MSE = 27.72\n",
      "Iteration #300: W_new = [47.2688473  73.05965275 38.23529366], MSE = 25.09\n",
      "Iteration #400: W_new = [47.35077844 73.22510313 38.26683187], MSE = 25.04\n",
      "Iteration #500: W_new = [47.36132413 73.24830756 38.26911205], MSE = 25.04\n",
      "Iteration #600: W_new = [47.36269494 73.25157596 38.26916867], MSE = 25.04\n",
      "Iteration #700: W_new = [47.36287493 73.25203806 38.26914414], MSE = 25.04\n",
      "Iteration #800: W_new = [47.3628988  73.2521036  38.26913667], MSE = 25.04\n",
      "Iteration #900: W_new = [47.362902   73.25211292 38.26913512], MSE = 25.04\n",
      "Iter 962: error - 25.03974031868438, weights: [47.36290235 73.252114   38.2691349 ]\n",
      "В случае использования классического градиентного спуска ошибка составляет 25.0397\n"
     ]
    }
   ],
   "source": [
    "w = np.zeros(X.shape[1])\n",
    "\n",
    "w_list = [w.copy()]\n",
    "errors = []\n",
    "eta = 0.01\n",
    "max_iter = 2e3\n",
    "min_weight_dist = 1e-8\n",
    "weight_dist = np.inf\n",
    "iter_num = 0\n",
    "\n",
    "# ход градиентного спуска\n",
    "while weight_dist > min_weight_dist and iter_num < max_iter:    \n",
    "    \n",
    "    y_pred = np.dot(X, w)\n",
    "    new_w = w - eta * 2 / Y.shape[0] * np.dot(X.T, y_pred - Y)\n",
    "\n",
    "    weight_dist = np.linalg.norm(new_w - w, ord=2)\n",
    " \n",
    "    error = calc_mse(np.dot(X, w), Y)\n",
    "    \n",
    "    w_list.append(new_w.copy())\n",
    "    errors.append(error)\n",
    "    \n",
    "    if iter_num % 100 == 0:\n",
    "        print(f'Iteration #{iter_num}: W_new = {new_w}, MSE = {round(error, 2)}')\n",
    "\n",
    "    iter_num += 1\n",
    "    w = new_w\n",
    "    \n",
    "w_list = np.array(w_list)\n",
    "\n",
    "print(f'Iter {iter_num}: error - {error}, weights: {new_w}')\n",
    "print(f'В случае использования классического градиентного спуска ошибка составляет {round(errors[-1], 4)}')"
   ]
  },
  {
   "cell_type": "markdown",
   "id": "64a327fb",
   "metadata": {},
   "source": [
    "Стохастический градиентный спуск"
   ]
  },
  {
   "cell_type": "code",
   "execution_count": 32,
   "id": "4849b49c",
   "metadata": {},
   "outputs": [
    {
     "name": "stdout",
     "output_type": "stream",
     "text": [
      "Iteration #0: W_new = [-0.06458329  0.9045447  -0.12935958], MSE = 9222.85\n",
      "Iteration #100: W_new = [41.09047674 66.21413707 35.80599798], MSE = 120.48\n",
      "Iteration #200: W_new = [46.20915258 72.67139253 37.99345971], MSE = 26.82\n",
      "Iteration #300: W_new = [46.48151193 72.79948832 38.98476587], MSE = 26.45\n",
      "Iteration #400: W_new = [48.41953287 73.86708816 38.28600826], MSE = 26.59\n",
      "Iteration #500: W_new = [47.41856442 73.48363246 38.02771213], MSE = 25.1\n",
      "Iteration #600: W_new = [47.22999297 73.8075781  38.1271601 ], MSE = 25.32\n",
      "Iteration #700: W_new = [47.08900314 73.35185363 37.57292851], MSE = 25.92\n",
      "Iteration #800: W_new = [47.49242703 73.13910808 38.31016934], MSE = 25.12\n",
      "Iteration #900: W_new = [47.30123279 73.30191973 37.89122388], MSE = 25.29\n",
      "Iteration #1000: W_new = [46.61394904 72.94076272 37.66122583], MSE = 26.03\n",
      "Iteration #1100: W_new = [47.33870313 73.25036221 37.33308501], MSE = 25.86\n",
      "Iteration #1200: W_new = [48.08070727 73.14796931 36.61244683], MSE = 27.62\n",
      "Iteration #1300: W_new = [47.22037365 73.51694412 37.5050576 ], MSE = 25.72\n",
      "Iteration #1400: W_new = [47.88061337 73.27240624 38.66649741], MSE = 25.8\n",
      "Iteration #1500: W_new = [47.82692066 72.53979152 38.09736211], MSE = 25.88\n",
      "Iteration #1600: W_new = [48.37739073 72.97074084 38.22189735], MSE = 26.19\n",
      "Iteration #1700: W_new = [48.21260494 72.92981316 38.59487673], MSE = 25.99\n",
      "Iteration #1800: W_new = [47.11996535 72.87668366 38.90485472], MSE = 25.65\n",
      "Iteration #1900: W_new = [46.78550711 73.33665204 38.72299085], MSE = 25.76\n",
      "Iter 2000: error - 25.31794109630895, weights: [46.85762066 73.23876133 38.13665761]\n",
      "В случае использования стохастического градиентного спуска ошибка составляет 25.0397\n"
     ]
    }
   ],
   "source": [
    "w = np.zeros(X.shape[1])\n",
    "\n",
    "w_list_st = [w.copy()]\n",
    "errors_st = []\n",
    "eta = 0.01\n",
    "max_iter = 2e3\n",
    "min_weight_dist = 1e-8\n",
    "weight_dist = np.inf\n",
    "iter_num = 0\n",
    "np.random.seed(1234)\n",
    "\n",
    "# ход градиентного спуска\n",
    "while weight_dist > min_weight_dist and iter_num < max_iter:\n",
    "    \n",
    "    # генерируем случайный индекс объекта выборки\n",
    "    train_ind = np.random.randint(X.shape[0], size=1)\n",
    "    \n",
    "    y_pred = np.dot(X[train_ind], w)\n",
    "    new_w = w - eta * 2 / Y[train_ind].shape[0] * np.dot(X[train_ind].T, y_pred - Y[train_ind])\n",
    "\n",
    "    weight_dist = np.linalg.norm(new_w - w, ord=2)\n",
    " \n",
    "    error = calc_mse(np.dot(X, w), Y)\n",
    "    \n",
    "    w_list_st.append(new_w.copy())\n",
    "    errors_st.append(error)\n",
    "    \n",
    "    if iter_num % 100 == 0:\n",
    "        print(f'Iteration #{iter_num}: W_new = {new_w}, MSE = {round(error, 2)}')\n",
    "\n",
    "    iter_num += 1\n",
    "    w = new_w\n",
    "    \n",
    "w_list_st = np.array(w_list_st)\n",
    "\n",
    "print(f'Iter {iter_num}: error - {error}, weights: {new_w}')\n",
    "print(f'В случае использования стохастического градиентного спуска ошибка составляет {round(errors[-1], 4)}')"
   ]
  },
  {
   "cell_type": "code",
   "execution_count": 35,
   "id": "724687e5",
   "metadata": {},
   "outputs": [
    {
     "data": {
      "image/png": "[encoded data removed]",
      "text/plain": [
       "<Figure size 936x432 with 1 Axes>"
      ]
     },
     "metadata": {
      "needs_background": "light"
     },
     "output_type": "display_data"
    }
   ],
   "source": [
    "plt.figure(figsize=(13, 6))\n",
    "plt.scatter(range(len(errors)), errors)\n",
    "plt.scatter(range(len(errors_st)), errors_st)\n",
    "plt.xlim(-20, 200)\n",
    "plt.xlabel('Number of iterations')\n",
    "plt.ylabel('MSE')\n",
    "plt.show()"
   ]
  },
  {
   "cell_type": "markdown",
   "id": "25d2dc1c",
   "metadata": {},
   "source": [
    "Классический градиентный спуск сходится быстрее."
   ]
  }
 ],
 "metadata": {
  "kernelspec": {
   "display_name": "Python 3",
   "language": "python",
   "name": "python3"
  },
  "language_info": {
   "codemirror_mode": {
    "name": "ipython",
    "version": 3
   },
   "file_extension": ".py",
   "mimetype": "text/x-python",
   "name": "python",
   "nbconvert_exporter": "python",
   "pygments_lexer": "ipython3",
   "version": "3.9.3"
  }
 },
 "nbformat": 4,
 "nbformat_minor": 5
}
